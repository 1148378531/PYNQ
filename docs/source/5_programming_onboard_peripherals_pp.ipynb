{
 "cells": [
  {
   "cell_type": "markdown",
   "metadata": {},
   "source": [
    "# Programming Zybo's onboard peripherals\n",
    "## LEDs, switches and buttons\n",
    "ZYBO has four LEDs, four slide-switches and four push-buttons that are connected to the Zynq\u2019s programmable logic. These are highlighted in the photo of the ZYBO below.\n",
    "\n"
   ]
  },
  {
   "cell_type": "raw",
   "metadata": {
    "raw_mimetype": "text/restructuredtext"
   },
   "source": [
    ".. figure:: images/zybo_io_opt.jpeg \n",
    "   :align: center"
   ]
  },
  {
   "cell_type": "markdown",
   "metadata": {},
   "source": [
    "(Note that two additional push-buttons and 1 LED are connected directly to ZYBO\u2019s processor system via memory IO pins. These are not highlighted in the figure and we will ignore them for now.)\n",
    "\n",
    "Each of the three banks of 4 IO devices can be controlled from Python. To demonstrate this, we first import the LED, Switch and Button classes from the module pyxi.board"
   ]
  },
  {
   "cell_type": "code",
   "execution_count": 1,
   "metadata": {
    "collapsed": true
   },
   "outputs": [],
   "source": [
    "from pynq.board import LED, Switch, Button"
   ]
  },
  {
   "cell_type": "markdown",
   "metadata": {},
   "source": [
    "## Controlling a single LED\n",
    "Now we can instantiate each of these classes and use their methods to manipulate them. Let\u2019s start by instantiating a single LED and turning it on and off."
   ]
  },
  {
   "cell_type": "code",
   "execution_count": 2,
   "metadata": {
    "collapsed": true
   },
   "outputs": [],
   "source": [
    "led0 = LED(0)"
   ]
  },
  {
   "cell_type": "code",
   "execution_count": 3,
   "metadata": {
    "collapsed": true
   },
   "outputs": [],
   "source": [
    "led0.on()"
   ]
  },
  {
   "cell_type": "markdown",
   "metadata": {},
   "source": [
    "Chek the board and confrim the Led is on"
   ]
  },
  {
   "cell_type": "code",
   "execution_count": 4,
   "metadata": {
    "collapsed": true
   },
   "outputs": [],
   "source": [
    "led0.off()"
   ]
  },
  {
   "cell_type": "markdown",
   "metadata": {},
   "source": [
    "Let\u2019s toggle _led0_  ten times. The sleep() method from time will be used to allow us to see the led flashing. "
   ]
  },
  {
   "cell_type": "code",
   "execution_count": 5,
   "metadata": {
    "collapsed": false
   },
   "outputs": [],
   "source": [
    "from pynq.board import LED, Switch, Button\n",
    "import time\n",
    "led0 = LED(0)\n",
    "for i in range(20):\n",
    "    led0.toggle()\n",
    "    time.sleep(.1)"
   ]
  },
  {
   "cell_type": "markdown",
   "metadata": {},
   "source": [
    "## Example: Controlling all the LEDs, switches and buttons\n",
    "\n",
    "\n",
    "The example below creates 3 separate lists, called leds, switches and buttons."
   ]
  },
  {
   "cell_type": "code",
   "execution_count": 6,
   "metadata": {
    "collapsed": false
   },
   "outputs": [],
   "source": [
    "# Set the number of Switches\n",
    "MAX_LEDS = 4\n",
    "MAX_SWITCHES = 4\n",
    "MAX_BUTTONS = 4\n",
    "\n",
    "leds = [0] * MAX_LEDS\n",
    "switches = [0] * MAX_SWITCHES\n",
    "buttons = [0] * MAX_BUTTONS\n",
    "\n",
    "# Create lists for each of the IO component groups\n",
    "for i in range(MAX_LEDS):\n",
    "    leds[i] = LED(i)              \n",
    "for i in range(MAX_SWITCHES):\n",
    "    switches[i] = Switch(i)      \n",
    "for i in range(MAX_BUTTONS):\n",
    "    buttons[i] = Button(i) "
   ]
  },
  {
   "cell_type": "markdown",
   "metadata": {},
   "source": [
    "First, all _leds_ are set to off. Then each switch is read, and if in the on position, the corresponding led is turned on. You can execute this cell a few times, changing the position of the switches on the board."
   ]
  },
  {
   "cell_type": "code",
   "execution_count": 7,
   "metadata": {
    "collapsed": true
   },
   "outputs": [],
   "source": [
    "# LEDs start in the off state\n",
    "for i in range(MAX_LEDS):\n",
    "    leds[i].off()\n",
    "\n",
    "# if a slide-switch is on, light the corresponding LED\n",
    "for i in range(MAX_LEDS):                  \n",
    "    if switches[i].read():                                    \n",
    "        leds[i].on()\n",
    "    else:\n",
    "        leds[i].off()"
   ]
  },
  {
   "cell_type": "markdown",
   "metadata": {},
   "source": [
    "The last part toggles the corresponding led (on or off) if a pushbutton is pressed. You can execute this cell a few times pressing different pushbuttons each time. "
   ]
  },
  {
   "cell_type": "code",
   "execution_count": 8,
   "metadata": {
    "collapsed": false
   },
   "outputs": [],
   "source": [
    "# if a button is depressed, toggle the state of the corresponding LED\n",
    "for i in range(MAX_LEDS):\n",
    "    if buttons[i].read():\n",
    "        leds[i].toggle()"
   ]
  }
 ],
 "metadata": {
  "celltoolbar": "Raw Cell Format",
  "kernelspec": {
   "display_name": "Python 3",
   "language": "python",
   "name": "python3"
  },
  "language_info": {
   "codemirror_mode": {
    "name": "ipython",
    "version": 3
   },
   "file_extension": ".py",
   "mimetype": "text/x-python",
   "name": "python",
   "nbconvert_exporter": "python",
   "pygments_lexer": "ipython3",
   "version": "3.5.1"
  }
 },
 "nbformat": 4,
 "nbformat_minor": 0
}