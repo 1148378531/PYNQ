{
 "cells": [
  {
   "cell_type": "markdown",
   "metadata": {},
   "source": [
    "# Peripherals and the PModIO overlay\n",
    "\n",
    "The Zybo board can be extended with additional peripherals by connecting to the PMod interfaces available on the board. PMod stands for Peripheral Module, and can be used to connect periperals and other accessories to the board. \n",
    "\n",
    "PMod peripherals are accessory boards that plug directly into the PMod port and are available from  [Digilent Inc](http://www.digilentinc.com) and other suppliers. "
   ]
  },
  {
   "cell_type": "markdown",
   "metadata": {},
   "source": [
    "### Pmod peripherals\n",
    "\n"
   ]
  },
  {
   "cell_type": "raw",
   "metadata": {
    "raw_mimetype": "text/restructuredtext"
   },
   "source": [
    ".. figure:: images/Pmods_opt.png \n",
    "   :align: center"
   ]
  },
  {
   "cell_type": "markdown",
   "metadata": {},
   "source": [
    "## Supported peripherals\n",
    "Pynq current supports a number of PMods which can be found in the pynq documentation > [pynq.pmods package](pynq.pmods.html)\n",
    "\n",
    "As the PMOD interface connects to FPGA pins, any accessory or peripheral supported by the FPGA IO standard (i.e. that works at the correct voltages) that can be wired or connected to a PMod port can be used.\n",
    "Pynq current supports a number of Grove peripherals which can be connected to a PMod port through and interface board. \n",
    "\n",
    "Other peripherals can be supported by writing your own C driver  "
   ]
  },
  {
   "cell_type": "markdown",
   "metadata": {},
   "source": [
    "## Pmod Connector\n",
    "Each PMod connector has 12 pins (2 rows of 6 pins, where each row has 3.3V (VCC), ground (GND) and 4 data pins giving 8 data pins in total). \n",
    "\n",
    "### Close-up of a 12-pin Pmod\n",
    "\n"
   ]
  },
  {
   "cell_type": "raw",
   "metadata": {
    "raw_mimetype": "text/restructuredtext"
   },
   "source": [
    ".. figure:: images/pmod_closeup_opt.jpeg \n",
    "   :align: center"
   ]
  },
  {
   "cell_type": "markdown",
   "metadata": {},
   "source": [
    "### Pmod pin numbers and assignment\n",
    "\n"
   ]
  },
  {
   "cell_type": "raw",
   "metadata": {
    "raw_mimetype": "text/restructuredtext"
   },
   "source": [
    ".. figure:: images/pmod_pins_opt.png \n",
    "   :align: center"
   ]
  },
  {
   "cell_type": "markdown",
   "metadata": {},
   "source": [
    "Note the PMod pins are labelled 1- 7. These are the data pins. In the Digilent documentation the pins are labelled 1-12 and include the VCC and GND pins, but this should be ignored when programming in Pynq and 0-7 should be used to reference data pins.)"
   ]
  },
  {
   "cell_type": "markdown",
   "metadata": {},
   "source": [
    "### Pmod-Grove Adapter\n",
    "\n",
    "With a Pmod-to-Grove adapter a wide range of Grove peripherals can be connected to the board.  Each Grove connector has 4 pins, one each for VCC and GND leaving 2 pins on each connector for signal wires.\n",
    "\n"
   ]
  },
  {
   "cell_type": "raw",
   "metadata": {
    "raw_mimetype": "text/restructuredtext"
   },
   "source": [
    ".. figure:: images/Pmod_Grove_Adapter_opt.jpeg \n",
    "   :align: center"
   ]
  },
  {
   "cell_type": "markdown",
   "metadata": {},
   "source": [
    "## Pmod Pin configuration\n",
    "\n",
    "PMods have different pin configurations depending on the number of data pins required. PMod peripherals with only a single row of pins can be plugged into the top row or the bottom row of the PMod connector.\n",
    "\n",
    "Some PMods use both rows (2x4, 2x6 pins), and in general should be aligned to the uppoer-left of the connector (to align with VCC and GND).\n",
    "\n"
   ]
  },
  {
   "cell_type": "raw",
   "metadata": {
    "raw_mimetype": "text/restructuredtext"
   },
   "source": [
    ".. figure:: images/tmp2_8pin_opt.jpeg \n",
    "   :align: center"
   ]
  },
  {
   "cell_type": "markdown",
   "metadata": {},
   "source": [
    "## IO Processors\n",
    "For overlays to be useful, they must provide sufficient functionality, while also providing flexibility to suit a wide range of applications. Flexibility in the overlay is provided through IO Processors (IOPs). An IO Processor is implemented in the Programmable Logic (PL or FPGA fabric) and consists of a MicroBlaze processor, Memory, Timer, IIC, SPI, GPIO, Debug logic and a configurable switch.\n",
    "\n"
   ]
  },
  {
   "cell_type": "raw",
   "metadata": {
    "raw_mimetype": "text/restructuredtext"
   },
   "source": [
    ".. figure:: images/iop.jpg \n",
    "   :align: center"
   ]
  },
  {
   "cell_type": "markdown",
   "metadata": {},
   "source": [
    "The IOP gives flexibility to connect to and control a range of different external accessories without requiring a re-design of the FPGA hardware. The IOP can be used to control a PMod port, or other interface, or to off-load applications from the main ARM A9 processors in the Zynq PS.\n",
    "\n",
    "Each IOP has a dedicated memory block for the MicroBlaze instruction and data memory. This memory block is dual-port, with one port connected to the MicroBlaze, and the other connected to the Zynq A9 processors. This allows the ARM A9 processors to access the MicroBlaze memory and dynamically write a new program to the MicroBlaze instruction area. The data area can be used for communication and data transfer between the A9 processors and the IOP(s).\n",
    "\n",
    "Currently, one IOP can support one PMod port. Inside the IOP are dedicated interface blocks; Timer, IIC, SPI and GPIO (General Purpose Input/Output). IIC and SPI are specialized interfaces used by many of the available PMod, Grove and other peripherals, and GPIO can be used to connect to custom interfaces or used as simple inputs and outputs. When a PMod or other peripheral is plugged in to a port, the configurable switch allows the PMod signals to be routed internally to the required interface block."
   ]
  },
  {
   "cell_type": "markdown",
   "metadata": {},
   "source": [
    "## ZYBO Pmodio Overlay\n",
    "\n",
    "The ZYBO has 6 PMod connectors. Ports 1-4 as indicated below are connected the Zynq PL. XADC is connected to the Xilinx ADC on the Zynq, and JF is connected directly to the Zynq PS. XADC and JF are not included in this overlay.\n",
    "\n",
    "\n"
   ]
  },
  {
   "cell_type": "raw",
   "metadata": {
    "raw_mimetype": "text/restructuredtext"
   },
   "source": [
    ".. figure:: images/zybopmods_opt.jpeg \n",
    "   :align: center"
   ]
  },
  {
   "cell_type": "markdown",
   "metadata": {},
   "source": [
    "The PModIO overlay for the ZYBO contains 4 IOPs each connected to one of the PL PMod ports. This allows control of the PMod from Python, via the IOP.\n",
    "\n",
    "\n"
   ]
  },
  {
   "cell_type": "raw",
   "metadata": {
    "raw_mimetype": "text/restructuredtext"
   },
   "source": [
    ".. figure:: images/pmodio_overlay_1_opt.png \n",
    "   :align: center"
   ]
  },
  {
   "cell_type": "markdown",
   "metadata": {},
   "source": [
    "A PMod module is provided in Python, the module must be imported. For PMod modules, the port that the PMod is plugged into must also be specified."
   ]
  },
  {
   "cell_type": "markdown",
   "metadata": {},
   "source": [
    "### Example: Using the OLED and the ambient light sensor (ALS)\n",
    "\n",
    "Plug the PModOLED into Port 1, and PModALS (Ambient Light Sensor) into the top row of Port 2. (The PModALS can currently only be used in the top row of a port.)\n",
    "\n",
    "#### OLED displaying light reading from ambient light sensor\n",
    "\n"
   ]
  },
  {
   "cell_type": "raw",
   "metadata": {
    "raw_mimetype": "text/restructuredtext"
   },
   "source": [
    ".. figure:: images/als_oled_Demo_opt.jpeg \n",
    "   :align: center"
   ]
  },
  {
   "cell_type": "markdown",
   "metadata": {},
   "source": [
    "Run the following code to import the OLED module and instantiate it:"
   ]
  },
  {
   "cell_type": "code",
   "execution_count": 1,
   "metadata": {
    "collapsed": false
   },
   "outputs": [
    {
     "ename": "ImportError",
     "evalue": "No module named 'pynq'",
     "output_type": "error",
     "traceback": [
      "\u001b[1;31m---------------------------------------------------------------------------\u001b[0m",
      "\u001b[1;31mImportError\u001b[0m                               Traceback (most recent call last)",
      "\u001b[1;32m<ipython-input-1-ccd2896f3697>\u001b[0m in \u001b[0;36m<module>\u001b[1;34m()\u001b[0m\n\u001b[1;32m----> 1\u001b[1;33m \u001b[1;32mfrom\u001b[0m \u001b[0mpynq\u001b[0m\u001b[1;33m.\u001b[0m\u001b[0mpmods\u001b[0m \u001b[1;32mimport\u001b[0m \u001b[0mOLED\u001b[0m\u001b[1;33m\u001b[0m\u001b[0m\n\u001b[0m\u001b[0;32m      2\u001b[0m \u001b[0moled\u001b[0m \u001b[1;33m=\u001b[0m \u001b[0mOLED\u001b[0m\u001b[1;33m(\u001b[0m\u001b[1;36m1\u001b[0m\u001b[1;33m)\u001b[0m\u001b[1;33m\u001b[0m\u001b[0m\n",
      "\u001b[1;31mImportError\u001b[0m: No module named 'pynq'"
     ]
    }
   ],
   "source": [
    "from pynq.pmods import OLED\n",
    "oled = OLED(1)"
   ]
  },
  {
   "cell_type": "markdown",
   "metadata": {},
   "source": [
    "Try writing a message to the OLED."
   ]
  },
  {
   "cell_type": "code",
   "execution_count": null,
   "metadata": {
    "collapsed": true
   },
   "outputs": [],
   "source": [
    "oled.write(\"Hello World\")"
   ]
  },
  {
   "cell_type": "code",
   "execution_count": null,
   "metadata": {
    "collapsed": true
   },
   "outputs": [],
   "source": [
    "import time\n",
    "time.sleep(2) # Add delay to make OLED output visible for a few seconds\n",
    "              # if running whole workbook"
   ]
  },
  {
   "cell_type": "code",
   "execution_count": null,
   "metadata": {
    "collapsed": true
   },
   "outputs": [],
   "source": [
    "oled.clear_screen()"
   ]
  },
  {
   "cell_type": "markdown",
   "metadata": {},
   "source": [
    "Import the ALS library, create an instance, and read the value from the sensor"
   ]
  },
  {
   "cell_type": "code",
   "execution_count": null,
   "metadata": {
    "collapsed": false
   },
   "outputs": [],
   "source": [
    "from pynq.pmods import ALS\n",
    "als = ALS(2)\n",
    "als.read()"
   ]
  },
  {
   "cell_type": "markdown",
   "metadata": {},
   "source": [
    "Write the value from the ALS to the OLED. The ALS sensor returns an 8-bit value. 0 = Darkest, 255 = Brightest"
   ]
  },
  {
   "cell_type": "code",
   "execution_count": null,
   "metadata": {
    "collapsed": false
   },
   "outputs": [],
   "source": [
    "oled.write(\"Light value : \" + str(als.read()))"
   ]
  },
  {
   "cell_type": "code",
   "execution_count": null,
   "metadata": {
    "collapsed": false
   },
   "outputs": [],
   "source": [
    "from pynq.pmods import ALS\n",
    "import time\n",
    "als = ALS(2)\n",
    "als.read()\n",
    "\n",
    "als.set_log_interval_ms(100)\n",
    "\n",
    "als.start_log() # start logging values at intervals of delay\n",
    "time.sleep(.2)\n",
    "als.stop_log()\n",
    "als.get_log()"
   ]
  },
  {
   "cell_type": "markdown",
   "metadata": {},
   "source": [
    "### Example: Using the ADC, DAC and OLED\n",
    "This example connects the DAC to the ADC. You will write a value to the DAC which the ADC will measure, and also write the value to the OLED for display.\n",
    "\n",
    "* Set the jumper (JP1) on the PModAD2 to Ref\n",
    "\n",
    "Insert the following PMods:\n",
    "* OLED to Port 1\n",
    "* (ALS can be left plugged in to port 2 if used earlier, but is not used for this demo)\n",
    "* ADC to Port 3 (Align to the left of the port)\n",
    "* DAC to Port 4 (Top Row)\n",
    "\n",
    "\n",
    "* Connect a wire from PModA4 Pin A to PModAD2 V1\n",
    "\n"
   ]
  },
  {
   "cell_type": "raw",
   "metadata": {
    "raw_mimetype": "text/restructuredtext"
   },
   "source": [
    ".. figure:: images/adc_dac_demo_opt.jpeg \n",
    "   :align: center"
   ]
  },
  {
   "cell_type": "markdown",
   "metadata": {},
   "source": [
    "* Power on the board, and open the Pynq portal [pynq:9090](http://pynq:9090)\n",
    "* Run Python script below.\n",
    "\n",
    "Note the overlay will be reloaded to reset the IOPs if the code at the top of this notebook was run. You can change the value written to the DAC (must be between 0 and 2.0) and rerun the cell. The return value from the ADC and displayed on the LED is the measured value. There may be some small error between this and the value written to the DAC. "
   ]
  },
  {
   "cell_type": "code",
   "execution_count": null,
   "metadata": {
    "collapsed": false
   },
   "outputs": [],
   "source": [
    "from pynq.pmods import OLED, ADC, DAC\n",
    "from pynq import Overlay\n",
    "ol = Overlay(\"pmod.bit\")\n",
    "ol.download()\n",
    "\n",
    "oled = OLED(1)\n",
    "adc = ADC(3)\n",
    "dac = DAC(4)\n",
    "\n",
    "dac.write(0.75) # Set the DAC output voltage\n",
    "value = adc.read() # Measure output of DAC with ADC\n",
    "oled.write(value) # Display measured value on OLED"
   ]
  },
  {
   "cell_type": "markdown",
   "metadata": {
    "collapsed": true
   },
   "source": [
    "For documentation on other supported peripherals, see \n",
    "\n",
    "* [PMods pynq.pmods package](pynq.pmods.html)\n",
    "\n"
   ]
  },
  {
   "cell_type": "markdown",
   "metadata": {},
   "source": [
    "## Going further\n",
    "Scripts can be created and executed from the notebook. \n",
    "\n",
    "In this example, the code below will be copied to a script and saved on the board. Examine the code in the cell below, and copy it. \n",
    "\n",
    "Go back to the Pynq Portal [pynq:9090](http://pynq:9090)\n",
    "* Select New > Text File (which opens in a new window)\n",
    "* Paste the code into the file\n",
    "* Rename the file dac_loop.py, and save it"
   ]
  },
  {
   "cell_type": "code",
   "execution_count": null,
   "metadata": {
    "collapsed": false
   },
   "outputs": [],
   "source": [
    "from pynq.pmods import OLED, ADC, DAC\n",
    "from pynq import Overlay\n",
    "import time\n",
    "# dac_loop.py\n",
    "def dac_loop(DAC_Port = 4, ADC_Port = 3, OLED_Port = 1,Switch_nmbr = 3, delay_secs = 1):\n",
    "    '''\n",
    "    DAC -> ADC -> OLED -- LOOP OVER 10 Values\n",
    "    '''\n",
    "    ol = Overlay(\"pmod.bit\")\n",
    "    ol.download()\n",
    "    # Import PMOD classes from library PythonXilinx (pynq.pmods)\n",
    "    from pynq.pmods import OLED, ADC, DAC\n",
    "\n",
    "    from pynq.board import  LED, Switch\n",
    "\n",
    "    # Match PMOD instances to PMOD Connectors\n",
    "\n",
    "    # Instantiate OLED\n",
    "    oled = OLED(OLED_Port)\n",
    "\n",
    "    # Instantiate Digital to Analog Converter\n",
    "    dac = DAC(DAC_Port)\n",
    "\n",
    "    # Instantiate Analog to Digital Converter\n",
    "    adc = ADC(ADC_Port)\n",
    "\n",
    "    LED(Switch_nmbr).write(0)\n",
    "    \n",
    "    if(Switch(Switch_nmbr).read() == 0):\n",
    "        print(\"Switch 3 is off. To run the loop, set Switch 3 to on before running\")\n",
    "    else:\n",
    "        print(\"Turn Switch 3 off to stop the program\")\n",
    "    \n",
    "    while Switch(Switch_nmbr).read():\n",
    "        LED(Switch_nmbr).write(1)\n",
    "        for i in range (1, 11):\n",
    "            dac.write(i/10)\n",
    "            measured = adc.read()\n",
    "            time.sleep(.1)\n",
    "            print('Measurement {} equals: {}'.format(i, measured))\n",
    "            oled.write(measured)\n",
    "    LED(Switch_nmbr).write(0)\n",
    "    "
   ]
  },
  {
   "cell_type": "markdown",
   "metadata": {},
   "source": [
    "By default, this uses the previous configuration (DAC connected to Port 1 (Top Row), ADC connected to Port 2, OLED connected to Port 4 and a wire connecting the DAC to the ADC). The function reads  _Switch_ 4 on the board. If the switch is on, it will run a loop that writes to the DAC, reads the value on the ADC and writes to the OLED. This is the same as the previous example, but this time executing from a script, and inside a loop controlled by a switch.\n",
    "\n",
    "To run this code, the cell above can be executed, which loads dac_loop(), or the cell below can directly execute the script. \n",
    "\n",
    "Try executing the cell above, set Switch 4 on the board, and then run the cell below:"
   ]
  },
  {
   "cell_type": "code",
   "execution_count": null,
   "metadata": {
    "collapsed": false
   },
   "outputs": [],
   "source": [
    "dac_loop()"
   ]
  },
  {
   "cell_type": "markdown",
   "metadata": {},
   "source": [
    "Restart the kernel (Kernel > Restart) to clear the dac_loop function, execute the cells below to run the script directly, and execute the dac_loop() function "
   ]
  },
  {
   "cell_type": "code",
   "execution_count": null,
   "metadata": {
    "collapsed": false
   },
   "outputs": [],
   "source": [
    "%run dac_loop.py\n",
    "dac_loop()"
   ]
  }
 ],
 "metadata": {
  "celltoolbar": "Raw Cell Format",
  "kernelspec": {
   "display_name": "Python 3",
   "language": "python",
   "name": "python3"
  },
  "language_info": {
   "codemirror_mode": {
    "name": "ipython",
    "version": 3
   },
   "file_extension": ".py",
   "mimetype": "text/x-python",
   "name": "python",
   "nbconvert_exporter": "python",
   "pygments_lexer": "ipython3",
   "version": "3.5.1"
  }
 },
 "nbformat": 4,
 "nbformat_minor": 0
}