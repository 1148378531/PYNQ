{
 "cells": [
  {
   "cell_type": "markdown",
   "metadata": {},
   "source": [
    "# Peripherals and the Pmod I/O overlay\n",
    "\n",
    "The Zybo has 6 *Peripheral Module* (Pmod) interfaces available on the board. A Pmod interface is a 12-pin connector that can be used to connect peripherals and other accessories to the board. \n",
    "\n",
    "Pmod peripherals are available from [Digilent Inc](http://www.digilentinc.com) and other suppliers. "
   ]
  },
  {
   "cell_type": "markdown",
   "metadata": {},
   "source": [
    "## Pmod peripherals\n",
    "\n",
    "![](./images/Pmods_opt.png)"
   ]
  },
  {
   "cell_type": "markdown",
   "metadata": {},
   "source": [
    "### Supported peripherals\n",
    "Pynq current supports a number of Pmods and Grove Peripherals. See the *pynq.pmods package* section of the documentation. \n",
    "\n",
    "Pmods can be plugged directly into the Pmod port. Grove Peripherals can be connected to the Pmod Port through a [*StickIt*](http://www.xess.com/shop/product/stickit-grove/) adapter board.\n",
    "\n",
    "As the PMOD interface connects to FPGA pins, other peripherals can be wired to a Pmod port."
   ]
  },
  {
   "cell_type": "markdown",
   "metadata": {},
   "source": [
    "### Pmod Connector\n",
    "Each Pmod connector has 12 pins (2 rows of 6 pins, where each row has 3.3V (VCC), ground (GND) and 4 data pins giving 8 data pins in total). \n",
    "\n",
    "*Close-up of a 12-pin Pmod*\n",
    "\n",
    "![](images/pmod_closeup_opt.jpeg)"
   ]
  },
  {
   "cell_type": "markdown",
   "metadata": {},
   "source": [
    "### Pmod pin numbers and assignment\n",
    "\n",
    "![](images/pmod_pins_opt.png)"
   ]
  },
  {
   "cell_type": "markdown",
   "metadata": {},
   "source": [
    "Note the Pmod data pins are labelled 0-7. "
   ]
  },
  {
   "cell_type": "markdown",
   "metadata": {},
   "source": [
    "### Pmod Pin configuration\n",
    "\n",
    "Pmods come in different configurations depending on the number of data pins required (single row, double row, e.g. 1x6 pins, 2x4 pins, 2x6 pins). Pmod peripherals with only a single row of pins can be plugged into the top row or the bottom row of the Pmod connector.\n",
    "\n",
    "Pmods that use both rows (e.g. 2x4 pins, 2x6 pins), should in general be aligned to the upper-left of the connector (to align with VCC and GND).\n",
    "\n",
    "![](images/tmp2_8pin_opt.jpeg)"
   ]
  },
  {
   "cell_type": "markdown",
   "metadata": {},
   "source": [
    "### Pmod-Grove Adapter\n",
    "\n",
    "Each Grove connector has 4 pins, one each for VCC and GND leaving 2 pins on each connector for signal wires. The Pmod-to-Grove StickIt adapter has 4 connectors for Grove devices, GR1, GR2, GR3, GR4.\n",
    "\n",
    "![](./images/Pmod_Grove_Adapter_opt.jpeg)"
   ]
  },
  {
   "cell_type": "markdown",
   "metadata": {},
   "source": [
    "All pins operate at 3.3V. Due to different pull-up/pull-down I/O requirements for different peripherals (e.g. IIC requires pull-up, and SPI requires pull-down), Grove peripherals must be plugged into the appropriate connector.\n",
    "\n",
    "GR 1 and 2 pins are connected to pins with pull-down resistors, and GR3 and GR4 are connected to pins with pull-up resistors, as indicated in the image. This doesn't affect Pmods.\n",
    "\n",
    "![](./images/stickit_mapping_opt.jpg)"
   ]
  },
  {
   "cell_type": "markdown",
   "metadata": {},
   "source": [
    "## IO Processors\n",
    "For overlays to be useful, they must provide sufficient functionality, while also providing flexibility to suit a wide range of applications. Flexibility in the overlay is provided through IO Processors (IOPs). An IO Processor is implemented in the Programmable Logic (PL or FPGA fabric) and consists of a MicroBlaze processor, Memory, Timer, IIC, SPI, GPIO, Debug logic and a configurable switch.\n",
    "\n",
    "![](images/iop.jpg)"
   ]
  },
  {
   "cell_type": "markdown",
   "metadata": {},
   "source": [
    "The IOP gives flexibility to connect to and control a range of different external accessories without requiring a re-design of the FPGA hardware. The IOP can be used to control a Pmod port, or other interface, or to off-load applications from the main ARM processors in the Zynq PS.\n",
    "\n",
    "Each IOP has a dedicated memory block for the MicroBlaze instruction and data memory. This memory block is dual-ported, with one port connected to the MicroBlaze, and the other connected to the Cortex-A9 processor. This allows the ARM processor to access the MicroBlaze memory and dynamically write a new program to the MicroBlaze instruction area. The data area can be used for communication and data transfer between the ARM processor and the IOP(s).\n",
    "\n",
    "Currently, one IOP is dedicated to each Pmod port. Inside the IOP are dedicated interface blocks; Timer, IIC, SPI and GPIO (General Purpose Input/Output). IIC and SPI are specialized interfaces used by many of the available Pmod, Grove and other peripherals, and GPIO can be used to connect to custom interfaces or used as simple inputs and outputs. When a Pmod or other peripheral is plugged in to a port, the configurable switch allows the Pmod signals to be routed internally to the required interface block."
   ]
  },
  {
   "cell_type": "markdown",
   "metadata": {},
   "source": [
    "## Zybo Pmod I/O overlay\n",
    "\n",
    "The Zybo has 6 Pmod connectors. Ports 1-4 as indicated below are connected the Zynq PL. XADC and JF are not included/connected in this overlay.\n",
    "\n",
    "\n",
    "![](images/zybopmods_opt.jpeg)"
   ]
  },
  {
   "cell_type": "markdown",
   "metadata": {},
   "source": [
    "The Pmod I/O overlay for the Zybo contains 4 IOPs each connected to one of the PL Pmod ports. This allows control of the Pmod from Python, via the IOP.\n",
    "\n",
    "\n",
    "![](images/pmodio_overlay_1_opt.png)"
   ]
  },
  {
   "cell_type": "markdown",
   "metadata": {},
   "source": [
    "## Using Pmods with an overlay\n",
    "To use a peripheral two software components are required; a driver application written in C for the IOP, and a Python module. These components are provided as part of the Pynq pacakge for supported peripherals. See the *IO Processors: Writing your own software* section of the documentation for writing drivers for your own periphals. \n",
    "\n",
    "The Python module instantiates the peripheral, and loads the driver application to the appropriate IOP. The IOP will also be reset and start executing the new application. \n",
    "\n",
    "The Python module will send commands which the IOP, and read and write data from the shared memory area. "
   ]
  },
  {
   "cell_type": "markdown",
   "metadata": {},
   "source": [
    "## Example: Using the OLED and the Ambient Light Sensor (ALS)\n",
    "\n",
    "This examples requires the PmodOLED (OLED), and PmodALS (Ambient Light Sensor). \n",
    "Plug the PmodOLED into Port 1, and PmodALS into the top row of Port 2. (Currently, the PmodALS can only be used in the top row of a Pmod port.)\n",
    "\n",
    "OLED displaying light reading from ambient light sensor:\n",
    "\n",
    "![](images/als_oled_Demo_opt.jpeg)"
   ]
  },
  {
   "cell_type": "markdown",
   "metadata": {},
   "source": [
    "Execute the next cell to load the FPGA Overlay, and then import the OLED module and instantiate it on port 1/IOP 1:"
   ]
  },
  {
   "cell_type": "code",
   "execution_count": 1,
   "metadata": {
    "collapsed": false
   },
   "outputs": [],
   "source": [
    "from pynq import Overlay\n",
    "from pynq.pmods import PMOD_OLED\n",
    "ol = Overlay(\"pmod.bit\")\n",
    "ol.download()\n",
    "oled = PMOD_OLED(1)"
   ]
  },
  {
   "cell_type": "markdown",
   "metadata": {},
   "source": [
    "Try writing a message to the OLED."
   ]
  },
  {
   "cell_type": "code",
   "execution_count": 2,
   "metadata": {
    "collapsed": true
   },
   "outputs": [],
   "source": [
    "oled.write(\"Hello World\")"
   ]
  },
  {
   "cell_type": "code",
   "execution_count": 3,
   "metadata": {
    "collapsed": true
   },
   "outputs": [],
   "source": [
    "oled.clear()"
   ]
  },
  {
   "cell_type": "markdown",
   "metadata": {},
   "source": [
    "Import the ALS library, create an instance of the ALS Pmod, and read the value from the sensor"
   ]
  },
  {
   "cell_type": "code",
   "execution_count": 4,
   "metadata": {
    "collapsed": false
   },
   "outputs": [
    {
     "data": {
      "text/plain": [
       "47"
      ]
     },
     "execution_count": 4,
     "metadata": {},
     "output_type": "execute_result"
    }
   ],
   "source": [
    "from pynq.pmods import PMOD_ALS\n",
    "als = PMOD_ALS(2)\n",
    "als.read()"
   ]
  },
  {
   "cell_type": "markdown",
   "metadata": {},
   "source": [
    "Write the value from the ALS to the OLED. The ALS sensor returns an 8-bit value. 0 = Darkest, 255 = Brightest"
   ]
  },
  {
   "cell_type": "code",
   "execution_count": 5,
   "metadata": {
    "collapsed": false
   },
   "outputs": [],
   "source": [
    "oled.write(\"Light value : \" + str(als.read()))"
   ]
  },
  {
   "cell_type": "code",
   "execution_count": 6,
   "metadata": {
    "collapsed": false
   },
   "outputs": [
    {
     "data": {
      "text/plain": [
       "[41, 33, 32, 32, 32, 16, 31, 31, 31, 31, 30]"
      ]
     },
     "execution_count": 6,
     "metadata": {},
     "output_type": "execute_result"
    }
   ],
   "source": [
    "from pynq.pmods import PMOD_ALS\n",
    "import time\n",
    "als = PMOD_ALS(2)\n",
    "als.read()\n",
    "\n",
    "als.set_log_interval_ms(100)\n",
    "\n",
    "als.start_log() # start logging values at intervals of delay\n",
    "time.sleep(1)\n",
    "als.stop_log()\n",
    "als.get_log()"
   ]
  },
  {
   "cell_type": "markdown",
   "metadata": {},
   "source": [
    "## Example: Using the ADC, DAC and OLED\n",
    "This example requires the PmodAD2 (Analog to Digital Converter), PmodDA4 (Digital to Analog Converter) and PmodOLED (OLED). You will connect the output of the DAC to the input of the ADC, write a value to the DAC which the ADC will measure, and finally, write the value to the OLED for display.\n",
    "\n",
    "* Set the jumper (JP1) on the PmodAD2 to Ref\n",
    "\n",
    "Insert the following Pmods:\n",
    "* DAC to Port 1 (Top Row)\n",
    "* ADC to Port 2 (Align to the left of the port)\n",
    "* OLED to Port 4\n",
    "\n",
    "* Connect a wire from PmodA4, pin: A to PmodAD2, pin: V1\n",
    "\n",
    "![](./images/adc_dac_demo_opt.jpeg)"
   ]
  },
  {
   "cell_type": "markdown",
   "metadata": {},
   "source": [
    "Execute the cell below. Note that if you executed the cells above, you already loaded the overlay. However, it is good practice to load your overlay at the start of your code each time. \n",
    "\n",
    "You can set a different DAC output voltae by modifying the value in the cell below (must be between 0 and 2.0) and executing the cell again. The return value from the ADC and displayed on the LED is the measured value. There may be some small error between this and the value written to the DAC. "
   ]
  },
  {
   "cell_type": "code",
   "execution_count": 7,
   "metadata": {
    "collapsed": false
   },
   "outputs": [],
   "source": [
    "from pynq.pmods import PMOD_OLED, PMOD_ADC, PMOD_DAC\n",
    "from pynq import Overlay\n",
    "ol = Overlay(\"pmod.bit\")\n",
    "ol.download()\n",
    "\n",
    "dac = PMOD_DAC(1)\n",
    "adc = PMOD_ADC(2)\n",
    "oled = PMOD_OLED(4)\n",
    "\n",
    "dac.write(0.75) # Set the DAC output voltage\n",
    "value = adc.read() # Measure output of DAC with ADC\n",
    "oled.write(str(value)) # Display measured value on OLED"
   ]
  },
  {
   "cell_type": "markdown",
   "metadata": {
    "collapsed": true
   },
   "source": [
    "For information on other supported peripherals and their API, see the *Pmods pynq.pmods package* section of the documentation."
   ]
  },
  {
   "cell_type": "markdown",
   "metadata": {},
   "source": [
    "## Going further\n",
    "Scripts can be created and executed from the notebook. \n",
    "\n",
    "In this example, the code below should be copied to a script and saved on the board. \n",
    "\n",
    "- In the Pynq Portal home area [pynq:9090](http://pynq:9090) go to the *Getting Started* folder and select New > Text File (which opens in a new window)\n",
    "- Copy and paste the code below into the file\n",
    "- Rename the file dac_loop.py (File > Rename), and save it (File Rename).\n",
    "- In the Pynq portal Getting_Started folder verify the file exists"
   ]
  },
  {
   "cell_type": "markdown",
   "metadata": {
    "collapsed": false
   },
   "source": [
    "```python\n",
    "from pynq import Overlay\n",
    "import time\n",
    "#### dac_loop.py\n",
    "def dac_loop(DAC_Port = 1, ADC_Port = 2, OLED_Port = 4,Switch_nmbr = 3, delay_secs = 1):\n",
    "    '''\n",
    "    DAC -> ADC -> OLED -- LOOP OVER 10 Values\n",
    "    '''\n",
    "    ol = Overlay(\"pmod.bit\")\n",
    "    ol.download()\n",
    "    # Import PMOD classes from library PythonXilinx (pynq.pmods)\n",
    "    from pynq.pmods import PMOD_OLED, PMOD_ADC, PMOD_DAC\n",
    "\n",
    "    from pynq.board import  LED, Switch\n",
    "\n",
    "    # Match PMOD instances to PMOD Connectors\n",
    "\n",
    "    # Instantiate OLED\n",
    "    oled = PMOD_OLED(OLED_Port)\n",
    "\n",
    "    # Instantiate Digital to Analog Converter\n",
    "    dac = PMOD_DAC(DAC_Port)\n",
    "\n",
    "    # Instantiate Analog to Digital Converter\n",
    "    adc = PMOD_ADC(ADC_Port)\n",
    "\n",
    "    LED(Switch_nmbr).write(0)\n",
    "    \n",
    "    if(Switch(Switch_nmbr).read() == 0):\n",
    "        print(\"Switch 3 is off. To run the loop, set Switch 3 to on before running\")\n",
    "    else:\n",
    "        print(\"Turn Switch 3 off to stop the program\")\n",
    "    \n",
    "    while Switch(Switch_nmbr).read():\n",
    "        LED(Switch_nmbr).write(1)\n",
    "        for i in range (1, 11):\n",
    "            dac.write(i/10)\n",
    "            measured = adc.read()\n",
    "            time.sleep(.1)\n",
    "            print('Measurement {} equals: {}'.format(i, measured))\n",
    "            oled.write(str(measured))\n",
    "    LED(Switch_nmbr).write(0)\n",
    "```"
   ]
  },
  {
   "cell_type": "markdown",
   "metadata": {},
   "source": [
    "By default, the DAC is be connected to Port 1 (Top Row), the ADC is connected to Port 2, and OLED is connected to Port 4. The function reads  _Switch_ 3 on the board. If the switch is on, it will run a loop that writes to the DAC, reads the value on the ADC and writes to the OLED. This is the same functionality as the previous example, but this time executing from a script, and inside a loop controlled by a switch."
   ]
  },
  {
   "cell_type": "markdown",
   "metadata": {},
   "source": [
    "Set Switch 3 on the board to \"on\" (or up), and then execute the cell below. This will run the script which will load the dac_loop() function into the notebook, and then execute the dac_loop() function in the cell below. You can change the ports the Pmods are attached to by passing the port numbers as parameters to the function. "
   ]
  },
  {
   "cell_type": "code",
   "execution_count": 4,
   "metadata": {
    "collapsed": false
   },
   "outputs": [
    {
     "name": "stdout",
     "output_type": "stream",
     "text": [
      "Turn Switch 3 off to stop the program\n",
      "Measurement 1 equals: 0.1016\n",
      "Measurement 2 equals: 0.1953\n",
      "Measurement 3 equals: 0.3047\n",
      "Measurement 4 equals: 0.3984\n",
      "Measurement 5 equals: 0.4922\n",
      "Measurement 6 equals: 0.5898\n",
      "Measurement 7 equals: 0.6836\n",
      "Measurement 8 equals: 0.7773\n",
      "Measurement 9 equals: 0.8711\n",
      "Measurement 10 equals: 1.0078\n"
     ]
    }
   ],
   "source": [
    "%run dac_loop.py\n",
    "dac_loop(1,2,4)"
   ]
  }
 ],
 "metadata": {
  "celltoolbar": "Raw Cell Format",
  "kernelspec": {
   "display_name": "Python 3",
   "language": "python",
   "name": "python3"
  },
  "language_info": {
   "codemirror_mode": {
    "name": "ipython",
    "version": 3
   },
   "file_extension": ".py",
   "mimetype": "text/x-python",
   "name": "python",
   "nbconvert_exporter": "python",
   "pygments_lexer": "ipython3",
   "version": "3.4.3+"
  }
 },
 "nbformat": 4,
 "nbformat_minor": 0
}
