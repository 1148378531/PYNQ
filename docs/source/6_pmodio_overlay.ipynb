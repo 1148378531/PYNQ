{
 "cells": [
  {
   "cell_type": "markdown",
   "metadata": {},
   "source": [
    "# Peripherals and the Pmod I/O overlay\n",
    "\n",
    "The Zybo can be extended with additional peripherals by connecting to the Pmod interfaces available on the board. Pmod stands for Peripheral Module, and can be used to connect peripherals and other accessories to the board. \n",
    "\n",
    "Pmod peripherals are accessory boards that plug directly into the Pmod port and are available from   [Digilent Inc](http://www.digilentinc.com) and other suppliers. "
   ]
  },
  {
   "cell_type": "markdown",
   "metadata": {},
   "source": [
    "## Pmod peripherals\n",
    "\n",
    "![](./images/Pmods_opt.png)"
   ]
  },
  {
   "cell_type": "markdown",
   "metadata": {},
   "source": [
    "### Supported peripherals\n",
    "Pynq current supports a number of Pmods which can be found in the pynq documentation  [ pynq.pmods package](pynq.pmods.html)\n",
    "\n",
    "As the PMOD interface connects to FPGA pins, any accessory or peripheral supported by the FPGA IO standard (i.e. that works at the correct voltages) that can be wired or connected to a Pmod port can be used.\n",
    "Pynq current supports a number of Grove peripherals which can be connected to a Pmod port through and interface board. \n",
    "\n",
    "Other peripherals can be supported by writing a custom driver using existing drivers as starting points.  "
   ]
  },
  {
   "cell_type": "markdown",
   "metadata": {},
   "source": [
    "### Pmod Connector\n",
    "Each Pmod connector has 12 pins (2 rows of 6 pins, where each row has 3.3V (VCC), ground (GND) and 4 data pins giving 8 data pins in total). \n",
    "\n",
    "*Close-up of a 12-pin Pmod*\n",
    "\n",
    "![](images/pmod_closeup_opt.jpeg)"
   ]
  },
  {
   "cell_type": "markdown",
   "metadata": {},
   "source": [
    "### Pmod pin numbers and assignment\n",
    "\n",
    "![](images/pmod_pins_opt.png)"
   ]
  },
  {
   "cell_type": "markdown",
   "metadata": {},
   "source": [
    "Note the Pmod data pins are labelled 0-7. "
   ]
  },
  {
   "cell_type": "markdown",
   "metadata": {},
   "source": [
    "### Pmod-Grove Adapter\n",
    "\n",
    "With a Pmod-to-Grove adapter a wide range of Grove peripherals can be connected to the board.  Each Grove connector has 4 pins, one each for VCC and GND leaving 2 pins on each connector for signal wires.\n",
    "\n",
    "![](./images/Pmod_Grove_Adapter_opt.jpeg)"
   ]
  },
  {
   "cell_type": "markdown",
   "metadata": {},
   "source": [
    "### Pmod Pin configuration\n",
    "\n",
    "Pmods have different pin configurations depending on the number of data pins required. Pmod peripherals with only a single row of pins can be plugged into the top row or the bottom row of the Pmod connector.\n",
    "\n",
    "Some Pmods use both rows (2x4, 2x6 pins), and in general should be aligned to the upper-left of the connector (to align with VCC and GND).\n",
    "\n",
    "![](images/tmp2_8pin_opt.jpeg)"
   ]
  },
  {
   "cell_type": "markdown",
   "metadata": {},
   "source": [
    "## IO Processors\n",
    "For overlays to be useful, they must provide sufficient functionality, while also providing flexibility to suit a wide range of applications. Flexibility in the overlay is provided through IO Processors (IOPs). An IO Processor is implemented in the Programmable Logic (PL or FPGA fabric) and consists of a MicroBlaze processor, Memory, Timer, IIC, SPI, GPIO, Debug logic and a configurable switch.\n",
    "\n",
    "![](images/iop.jpg)"
   ]
  },
  {
   "cell_type": "markdown",
   "metadata": {},
   "source": [
    "The IOP gives flexibility to connect to and control a range of different external accessories without requiring a re-design of the FPGA hardware. The IOP can be used to control a Pmod port, or other interface, or to off-load applications from the main ARM processors in the Zynq PS.\n",
    "\n",
    "Each IOP has a dedicated memory block for the MicroBlaze instruction and data memory. This memory block is dual-ported, with one port connected to the MicroBlaze, and the other connected to the Cortex-A9 processor. This allows the ARM processor to access the MicroBlaze memory and dynamically write a new program to the MicroBlaze instruction area. The data area can be used for communication and data transfer between the ARM processor and the IOP(s).\n",
    "\n",
    "Currently, one IOP is dedicated to each Pmod port. Inside the IOP are dedicated interface blocks; Timer, IIC, SPI and GPIO (General Purpose Input/Output). IIC and SPI are specialized interfaces used by many of the available Pmod, Grove and other peripherals, and GPIO can be used to connect to custom interfaces or used as simple inputs and outputs. When a Pmod or other peripheral is plugged in to a port, the configurable switch allows the Pmod signals to be routed internally to the required interface block."
   ]
  },
  {
   "cell_type": "markdown",
   "metadata": {},
   "source": [
    "## Zybo Pmod I/O overlay\n",
    "\n",
    "The Zybo has 6 Pmod connectors. Ports 1-4 as indicated below are connected the Zynq PL. XADC and JF are not included/connected in this overlay.\n",
    "\n",
    "\n",
    "![](images/zybopmods_opt.jpeg)"
   ]
  },
  {
   "cell_type": "markdown",
   "metadata": {},
   "source": [
    "The Pmod I/O overlay for the Zybo contains 4 IOPs each connected to one of the PL Pmod ports. This allows control of the Pmod from Python, via the IOP.\n",
    "\n",
    "\n",
    "![](images/pmodio_overlay_1_opt.png)"
   ]
  },
  {
   "cell_type": "markdown",
   "metadata": {},
   "source": [
    "A Pmod module is provided in Python, the module must be imported. For Pmod modules, the port that the Pmod is plugged into must also be specified."
   ]
  },
  {
   "cell_type": "markdown",
   "metadata": {},
   "source": [
    "## Example: Using the OLED and the ambient light sensor (ALS)\n",
    "\n",
    "Plug the PmodOLED into Port 1, and PmodALS (Ambient Light Sensor) into the top row of Port 2. (The PmodALS can currently only be used in the top row of a port.)\n",
    "\n",
    "OLED displaying light reading from ambient light sensor:\n",
    "\n",
    "![](images/als_oled_Demo_opt.jpeg)"
   ]
  },
  {
   "cell_type": "markdown",
   "metadata": {},
   "source": [
    "Run the following code to import the OLED module and instantiate it:"
   ]
  },
  {
   "cell_type": "code",
   "execution_count": 1,
   "metadata": {
    "collapsed": false
   },
   "outputs": [],
   "source": [
    "from pynq.pmods import PMOD_OLED\n",
    "oled = PMOD_OLED(4)"
   ]
  },
  {
   "cell_type": "markdown",
   "metadata": {},
   "source": [
    "Try writing a message to the OLED."
   ]
  },
  {
   "cell_type": "code",
   "execution_count": 2,
   "metadata": {
    "collapsed": true
   },
   "outputs": [],
   "source": [
    "oled.write(\"Hello World\")"
   ]
  },
  {
   "cell_type": "code",
   "execution_count": 3,
   "metadata": {
    "collapsed": true
   },
   "outputs": [],
   "source": [
    "oled.clear()"
   ]
  },
  {
   "cell_type": "markdown",
   "metadata": {},
   "source": [
    "Import the ALS library, create an instance, and read the value from the sensor"
   ]
  },
  {
   "cell_type": "code",
   "execution_count": 4,
   "metadata": {
    "collapsed": false
   },
   "outputs": [
    {
     "data": {
      "text/plain": [
       "42"
      ]
     },
     "execution_count": 4,
     "metadata": {},
     "output_type": "execute_result"
    }
   ],
   "source": [
    "from pynq.pmods import PMOD_ALS\n",
    "als = PMOD_ALS(3)\n",
    "als.read()"
   ]
  },
  {
   "cell_type": "markdown",
   "metadata": {},
   "source": [
    "Write the value from the ALS to the OLED. The ALS sensor returns an 8-bit value. 0 = Darkest, 255 = Brightest"
   ]
  },
  {
   "cell_type": "code",
   "execution_count": 5,
   "metadata": {
    "collapsed": false
   },
   "outputs": [],
   "source": [
    "oled.write(\"Light value : \" + str(als.read()))"
   ]
  },
  {
   "cell_type": "code",
   "execution_count": 6,
   "metadata": {
    "collapsed": false
   },
   "outputs": [
    {
     "data": {
      "text/plain": [
       "[42, 42, 42]"
      ]
     },
     "execution_count": 6,
     "metadata": {},
     "output_type": "execute_result"
    }
   ],
   "source": [
    "from pynq.pmods import PMOD_ALS\n",
    "import time\n",
    "als = PMOD_ALS(3)\n",
    "als.read()\n",
    "\n",
    "als.set_log_interval_ms(100)\n",
    "\n",
    "als.start_log() # start logging values at intervals of delay\n",
    "time.sleep(.2)\n",
    "als.stop_log()\n",
    "als.get_log()"
   ]
  },
  {
   "cell_type": "markdown",
   "metadata": {},
   "source": [
    "## Example: Using the ADC, DAC and OLED\n",
    "This example connects the DAC to the ADC. You will write a value to the DAC which the ADC will measure, and also write the value to the OLED for display.\n",
    "\n",
    "* Set the jumper (JP1) on the PmodAD2 to Ref\n",
    "\n",
    "Insert the following Pmods:\n",
    "* DAC to Port 1 (Top Row)\n",
    "* ADC to Port 2 (Align to the left of the port)\n",
    "* OLED to Port 4\n",
    "\n",
    "* Connect a wire from PmodA4 Pin A to PmodAD2 V1\n",
    "\n",
    "![](./images/adc_dac_demo_opt.jpeg)"
   ]
  },
  {
   "cell_type": "markdown",
   "metadata": {},
   "source": [
    "* Power on the board, and open the Pynq portal [pynq:9090](http://pynq:9090)\n",
    "* Run Python script below.\n",
    "\n",
    "Note the overlay will be reloaded to reset the IOPs if the code at the top of this notebook was run. You can change the value written to the DAC (must be between 0 and 2.0) and rerun the cell. The return value from the ADC and displayed on the LED is the measured value. There may be some small error between this and the value written to the DAC. "
   ]
  },
  {
   "cell_type": "code",
   "execution_count": 7,
   "metadata": {
    "collapsed": false
   },
   "outputs": [],
   "source": [
    "from pynq.pmods import PMOD_OLED, PMOD_ADC, PMOD_DAC\n",
    "from pynq import Overlay\n",
    "ol = Overlay(\"pmod.bit\")\n",
    "ol.download()\n",
    "\n",
    "dac = PMOD_DAC(1)\n",
    "adc = PMOD_ADC(2)\n",
    "oled = PMOD_OLED(4)\n",
    "\n",
    "dac.write(0.75) # Set the DAC output voltage\n",
    "value = adc.read() # Measure output of DAC with ADC\n",
    "oled.write(value) # Display measured value on OLED"
   ]
  },
  {
   "cell_type": "markdown",
   "metadata": {
    "collapsed": true
   },
   "source": [
    "For documentation on other supported peripherals, see \n",
    "\n",
    "* [Pmods pynq.pmods package](pynq.pmods.html)\n",
    "\n"
   ]
  },
  {
   "cell_type": "markdown",
   "metadata": {},
   "source": [
    "## Going further\n",
    "Scripts can be created and executed from the notebook. \n",
    "\n",
    "In this example, the code below will be copied to a script and saved on the board. \n",
    "\n",
    "Go back to the Pynq Portal [pynq:9090](http://pynq:9090)\n",
    "\n",
    "- Navigate to the Getting_Started folder\n",
    "- Select New > Text File (which opens in a new window)\n",
    "- Copy and paste the code from the cell below into the file\n",
    "- Rename the file dac_loop.py, and save it (verify it is in the Getting_Started folder)"
   ]
  },
  {
   "cell_type": "code",
   "execution_count": 8,
   "metadata": {
    "collapsed": false
   },
   "outputs": [],
   "source": [
    "from pynq import Overlay\n",
    "import time\n",
    "#### dac_loop.py\n",
    "def dac_loop(DAC_Port = 1, ADC_Port = 2, OLED_Port = 4,Switch_nmbr = 3, delay_secs = 1):\n",
    "    '''\n",
    "    DAC -> ADC -> OLED -- LOOP OVER 10 Values\n",
    "    '''\n",
    "    ol = Overlay(\"pmod.bit\")\n",
    "    ol.download()\n",
    "    # Import PMOD classes from library PythonXilinx (pynq.pmods)\n",
    "    from pynq.pmods import PMOD_OLED, PMOD_ADC, PMOD_DAC\n",
    "\n",
    "    from pynq.board import  LED, Switch\n",
    "\n",
    "    # Match PMOD instances to PMOD Connectors\n",
    "\n",
    "    # Instantiate OLED\n",
    "    oled = PMOD_OLED(OLED_Port)\n",
    "\n",
    "    # Instantiate Digital to Analog Converter\n",
    "    dac = PMOD_DAC(DAC_Port)\n",
    "\n",
    "    # Instantiate Analog to Digital Converter\n",
    "    adc = PMOD_ADC(ADC_Port)\n",
    "\n",
    "    LED(Switch_nmbr).write(0)\n",
    "    \n",
    "    if(Switch(Switch_nmbr).read() == 0):\n",
    "        print(\"Switch 3 is off. To run the loop, set Switch 3 to on before running\")\n",
    "    else:\n",
    "        print(\"Turn Switch 3 off to stop the program\")\n",
    "    \n",
    "    while Switch(Switch_nmbr).read():\n",
    "        LED(Switch_nmbr).write(1)\n",
    "        for i in range (1, 11):\n",
    "            dac.write(i/10)\n",
    "            measured = adc.read()\n",
    "            time.sleep(.1)\n",
    "            print('Measurement {} equals: {}'.format(i, measured))\n",
    "            oled.write(measured)\n",
    "    LED(Switch_nmbr).write(0)\n",
    "    "
   ]
  },
  {
   "cell_type": "markdown",
   "metadata": {},
   "source": [
    "By default, DAC is connected to Port 1 (Top Row), ADC is connected to Port 2, and OLED is connected to Port 4. The function reads  _Switch_ 4 on the board. If the switch is on, it will run a loop that writes to the DAC, reads the value on the ADC and writes to the OLED. This is the same as the previous example, but this time executing from a script, and inside a loop controlled by a switch.\n",
    "\n",
    "To run this code from the notebook, the cell above can be executed which loads dac_loop() into the notebook\n",
    "\n",
    "Try executing the cell above, set Switch 3 on the board to \"on\", and then run the cell below:"
   ]
  },
  {
   "cell_type": "code",
   "execution_count": 9,
   "metadata": {
    "collapsed": false
   },
   "outputs": [
    {
     "name": "stdout",
     "output_type": "stream",
     "text": [
      "Switch 3 is off. To run the loop, set Switch 3 to on before running\n"
     ]
    }
   ],
   "source": [
    "dac_loop()"
   ]
  },
  {
   "cell_type": "markdown",
   "metadata": {},
   "source": [
    "The notebook also supports scripts.  \n",
    "To run from the script, first Restart the kernel (Kernel > Restart) to clear the dac_loop function previously loaded\n",
    "Execute the cells below to run the script which will load the dac_loop() function into the notebook, and then uncomment and execute the dac_loop() function in the cell below"
   ]
  },
  {
   "cell_type": "code",
   "execution_count": 10,
   "metadata": {
    "collapsed": false
   },
   "outputs": [],
   "source": [
    "#%run dac_loop.py\n",
    "#dac_loop()"
   ]
  }
 ],
 "metadata": {
  "celltoolbar": "Raw Cell Format",
  "kernelspec": {
   "display_name": "Python 3",
   "language": "python",
   "name": "python3"
  },
  "language_info": {
   "codemirror_mode": {
    "name": "ipython",
    "version": 3
   },
   "file_extension": ".py",
   "mimetype": "text/x-python",
   "name": "python",
   "nbconvert_exporter": "python",
   "pygments_lexer": "ipython3",
   "version": "3.4.3+"
  }
 },
 "nbformat": 4,
 "nbformat_minor": 0
}
