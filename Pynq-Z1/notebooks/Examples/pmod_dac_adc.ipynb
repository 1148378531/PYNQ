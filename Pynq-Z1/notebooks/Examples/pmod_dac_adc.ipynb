{
 "cells": [
  {
   "cell_type": "markdown",
   "metadata": {},
   "source": [
    "## Demo of DAC-ADC loopback using the PYNQ-Z1 Pmod interfaces¶\n",
    "\n",
    "This is a demo on PYNQ-Z1 using both of its Pmod interfaces. Users need to have 2 Pmods to run this demo: the Digilent PmodDA4 DAC and the Digilent PMODAD2 ADC.\n",
    "\n",
    "#### Note:\n",
    "The output of the DAC must be connected with a wire to the input of the ADC to make the measurement.\n",
    "\n",
    "This demo will write 20 successive values ranging from 0V to 1.8V to the DAC, then read them back from the ADC and print the results to the notebook."
   ]
  },
  {
   "cell_type": "code",
   "execution_count": null,
   "metadata": {
    "collapsed": true,
    "run_control": {
     "frozen": false,
     "read_only": false
    }
   },
   "outputs": [],
   "source": [
    "from time import sleep\n",
    "from pynq import Overlay\n",
    "from pynq.iop import PMOD_ADC, PMOD_DAC"
   ]
  },
  {
   "cell_type": "code",
   "execution_count": null,
   "metadata": {
    "collapsed": false,
    "run_control": {
     "frozen": false,
     "read_only": false
    }
   },
   "outputs": [],
   "source": [
    "ol = Overlay(\"base.bit\")\n",
    "ol.download()\n",
    "# Writing values from 0.0V to 2.0V with step 0.1V.\n",
    "dac_id = int(input(\"Type in the PMOD ID of the DAC (1 ~ 2): \"))\n",
    "adc_id = int(input(\"Type in the PMOD ID of the ADC (1 ~ 2): \"))\n",
    "\n",
    "dac = PMOD_DAC(dac_id)\n",
    "adc = PMOD_ADC(adc_id)\n",
    "\n",
    "for j in range(20):\n",
    "    value = 0.1 * j\n",
    "    dac.write(value)\n",
    "    sleep(0.5)\n",
    "#    readings=adc.read(1,0,0)\n",
    "#    x1=readings[0]\n",
    "    print(\"Voltage read by DAC is: {:.4f} Volts\".format(adc.read(1,0,0)[0]))\n",
    "        \n",
    "print('End of this demo ...')\n",
    "adc.reset()\n",
    "\n",
    "# Cleanup IOPs\n",
    "ol.reset()\n",
    "del dac,adc,ol"
   ]
  }
 ],
 "metadata": {
  "anaconda-cloud": {},
  "kernelspec": {
   "display_name": "Python [Root]",
   "language": "python",
   "name": "Python [Root]"
  },
  "language_info": {
   "codemirror_mode": {
    "name": "ipython",
    "version": 3
   },
   "file_extension": ".py",
   "mimetype": "text/x-python",
   "name": "python",
   "nbconvert_exporter": "python",
   "pygments_lexer": "ipython3",
   "version": "3.5.2"
  }
 },
 "nbformat": 4,
 "nbformat_minor": 0
}
