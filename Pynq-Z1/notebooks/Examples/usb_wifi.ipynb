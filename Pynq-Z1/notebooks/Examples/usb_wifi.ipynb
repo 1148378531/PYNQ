{
 "cells": [
  {
   "cell_type": "markdown",
   "metadata": {},
   "source": [
    "# USB Wifi Example\n",
    "\n",
    "In this notebook, a wifi dongle has been plugged into the Zybo board.  Specifically a RALink wifi dongle commonly used with Raspberry Pi kits is connected into the board.  Using Linux calls and Python functions, we will determine the unique name of the dongle and then create a network entry for a known ssid/password pair.  This demo was first done using an iPhone hotspot wireless connection.\n",
    "\n",
    "References <br>\n",
    "http://www.canakit.com/raspberry-pi-wifi.html <br>"
   ]
  },
  {
   "cell_type": "markdown",
   "metadata": {},
   "source": [
    "#### 1. Need to find Wifi Device using Linux calls"
   ]
  },
  {
   "cell_type": "code",
   "execution_count": 151,
   "metadata": {
    "collapsed": false
   },
   "outputs": [
    {
     "data": {
      "text/plain": [
       "['1: lo: <LOOPBACK,UP,LOWER_UP> mtu 65536 qdisc noqueue state UNKNOWN group default ',\n",
       " '    link/loopback 00:00:00:00:00:00 brd 00:00:00:00:00:00',\n",
       " '    inet 127.0.0.1/8 scope host lo',\n",
       " '       valid_lft forever preferred_lft forever',\n",
       " '    inet6 ::1/128 scope host ',\n",
       " '       valid_lft forever preferred_lft forever',\n",
       " '2: eth0: <BROADCAST,MULTICAST,UP,LOWER_UP> mtu 1500 qdisc pfifo_fast state UP group default qlen 1000',\n",
       " '    link/ether 00:1e:c0:dd:a1:bb brd ff:ff:ff:ff:ff:ff',\n",
       " '    inet 172.20.9.92/22 brd 172.20.11.255 scope global eth0',\n",
       " '       valid_lft forever preferred_lft forever',\n",
       " '    inet6 fe80::21e:c0ff:fedd:a1bb/64 scope link ',\n",
       " '       valid_lft forever preferred_lft forever',\n",
       " '3: wlx000f6002a692: <BROADCAST,MULTICAST,UP,LOWER_UP> mtu 1500 qdisc mq state UP group default qlen 1000',\n",
       " '    link/ether 00:0f:60:02:a6:92 brd ff:ff:ff:ff:ff:ff',\n",
       " '    inet 172.20.10.4/28 brd 172.20.10.15 scope global wlx000f6002a692',\n",
       " '       valid_lft forever preferred_lft forever',\n",
       " '    inet6 fe80::20f:60ff:fe02:a692/64 scope link ',\n",
       " '       valid_lft forever preferred_lft forever']"
      ]
     },
     "execution_count": 151,
     "metadata": {},
     "output_type": "execute_result"
    }
   ],
   "source": [
    "network_devices_bash_str = !ip a\n",
    "network_devices_bash_str.l"
   ]
  },
  {
   "cell_type": "markdown",
   "metadata": {},
   "source": [
    "#### 2. Use Python regular expressions to get wifi port name"
   ]
  },
  {
   "cell_type": "code",
   "execution_count": 152,
   "metadata": {
    "collapsed": false
   },
   "outputs": [
    {
     "data": {
      "text/plain": [
       "'wlx000f6002a692'"
      ]
     },
     "execution_count": 152,
     "metadata": {},
     "output_type": "execute_result"
    }
   ],
   "source": [
    "#2. \n",
    "import re\n",
    "\n",
    "for line in network_devices_bash_str.l:\n",
    "    m = re.match('^([\\d]): ([\\w]+): *', line)\n",
    "    if m:\n",
    "        if m.group(2) != 'lo' and m.group(2) != 'eth0':\n",
    "            wifi_port = m.group(2)\n",
    "\n",
    "wifi_port"
   ]
  },
  {
   "cell_type": "markdown",
   "metadata": {},
   "source": [
    "#### 3. Generate the correct /etc/network/interfaces.d entry"
   ]
  },
  {
   "cell_type": "code",
   "execution_count": 147,
   "metadata": {
    "collapsed": false
   },
   "outputs": [],
   "source": [
    "def gen_network_password_file(wifi_port,ssid,password):\n",
    "\n",
    "    # get bash string into string format for key search\n",
    "    wifikey_bash_str = !wpa_passphrase $ssid $password\n",
    "    wifikey_tokens = str(wifikey_bash_str).replace(\"'\",'').split(',')\n",
    "    \n",
    "    # search clean list for tpsk key value\n",
    "    for key_val in wifikey_tokens:\n",
    "        if '\\\\tpsk=' in key_val:\n",
    "            wifi_wpa_key = key_val.split('=')[1]\n",
    "    \n",
    "    # write the network interface file with new ssid/password entry\n",
    "    !ip link set $wifi_port up\n",
    "    \n",
    "    net_iface_fh = open(\"/etc/network/interfaces.d/\" + wifi_port, 'w')\n",
    "    net_iface_fh.write(\"iface \" + wifi_port + \" inet dhcp\\n\")\n",
    "    net_iface_fh.write(\" wpa-ssid \" + ssid + \"\\n\")\n",
    "    net_iface_fh.write(\" wpa-psk \" +   wifi_wpa_key + \"\\n\\n\")\n",
    "    net_iface_fh.close()\n",
    "        \n",
    "    !ifup {wifi_port}\n"
   ]
  },
  {
   "cell_type": "markdown",
   "metadata": {},
   "source": [
    "#### 4. Call the above function with ssid/password for your wifi network"
   ]
  },
  {
   "cell_type": "code",
   "execution_count": 153,
   "metadata": {
    "collapsed": false
   },
   "outputs": [
    {
     "name": "stdout",
     "output_type": "stream",
     "text": [
      "ifup: interface wlx000f6002a692 already configured\r\n"
     ]
    }
   ],
   "source": [
    "# Do custom ssid/password for your wifi connection - below is example from iPhone hotspot\n",
    "gen_network_password_file(wifi_port,'iPhone','iphonehs')"
   ]
  },
  {
   "cell_type": "markdown",
   "metadata": {},
   "source": [
    "#### 5. Verify Wifi network has IP address"
   ]
  },
  {
   "cell_type": "code",
   "execution_count": 150,
   "metadata": {
    "collapsed": false
   },
   "outputs": [
    {
     "name": "stdout",
     "output_type": "stream",
     "text": [
      "eth0      Link encap:Ethernet  HWaddr 00:1e:c0:dd:a1:bb  \r\n",
      "          inet addr:172.20.9.92  Bcast:172.20.11.255  Mask:255.255.252.0\r\n",
      "          inet6 addr: fe80::21e:c0ff:fedd:a1bb/64 Scope:Link\r\n",
      "          UP BROADCAST RUNNING MULTICAST  MTU:1500  Metric:1\r\n",
      "          RX packets:73250 errors:106 dropped:0 overruns:102 frame:4\r\n",
      "          TX packets:6176 errors:0 dropped:0 overruns:0 carrier:0\r\n",
      "          collisions:0 txqueuelen:1000 \r\n",
      "          RX bytes:11409389 (11.4 MB)  TX bytes:3900962 (3.9 MB)\r\n",
      "          Interrupt:54 Base address:0xb000 \r\n",
      "\r\n",
      "lo        Link encap:Local Loopback  \r\n",
      "          inet addr:127.0.0.1  Mask:255.0.0.0\r\n",
      "          inet6 addr: ::1/128 Scope:Host\r\n",
      "          UP LOOPBACK RUNNING  MTU:65536  Metric:1\r\n",
      "          RX packets:2475 errors:0 dropped:0 overruns:0 frame:0\r\n",
      "          TX packets:2475 errors:0 dropped:0 overruns:0 carrier:0\r\n",
      "          collisions:0 txqueuelen:0 \r\n",
      "          RX bytes:943488 (943.4 KB)  TX bytes:943488 (943.4 KB)\r\n",
      "\r\n",
      "wlx000f6002a692 Link encap:Ethernet  HWaddr 00:0f:60:02:a6:92  \r\n",
      "          inet addr:172.20.10.4  Bcast:172.20.10.15  Mask:255.255.255.240\r\n",
      "          inet6 addr: fe80::20f:60ff:fe02:a692/64 Scope:Link\r\n",
      "          UP BROADCAST RUNNING MULTICAST  MTU:1500  Metric:1\r\n",
      "          RX packets:9 errors:0 dropped:0 overruns:0 frame:0\r\n",
      "          TX packets:17 errors:0 dropped:0 overruns:0 carrier:0\r\n",
      "          collisions:0 txqueuelen:1000 \r\n",
      "          RX bytes:1683 (1.6 KB)  TX bytes:2759 (2.7 KB)\r\n",
      "\r\n"
     ]
    }
   ],
   "source": [
    "!ifconfig"
   ]
  }
 ],
 "metadata": {
  "kernelspec": {
   "display_name": "Python 3",
   "language": "python",
   "name": "python3"
  },
  "language_info": {
   "codemirror_mode": {
    "name": "ipython",
    "version": 3
   },
   "file_extension": ".py",
   "mimetype": "text/x-python",
   "name": "python",
   "nbconvert_exporter": "python",
   "pygments_lexer": "ipython3",
   "version": "3.4.3+"
  }
 },
 "nbformat": 4,
 "nbformat_minor": 0
}
