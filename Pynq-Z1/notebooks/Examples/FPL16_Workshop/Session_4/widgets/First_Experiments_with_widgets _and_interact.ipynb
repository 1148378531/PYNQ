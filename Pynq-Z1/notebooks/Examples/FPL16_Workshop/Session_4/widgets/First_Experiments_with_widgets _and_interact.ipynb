{
 "cells": [
  {
   "cell_type": "markdown",
   "metadata": {},
   "source": [
    "# Learning to use widgets"
   ]
  },
  {
   "cell_type": "markdown",
   "metadata": {},
   "source": [
    "### Changelog:"
   ]
  },
  {
   "cell_type": "markdown",
   "metadata": {},
   "source": [
    "* 15 Feb 2016\n",
    "    * Discovered that `IPython.html.widgets` have been replaced with `ipywidgets`\n",
    "        * Widget classes, such as `IntSliderWidget`, are now referred to as simply `IntSlider`\n",
    "    * Updated [initial notebook](http://nbviewer.jupyter.org/github/ipython/ipywidgets/blob/master/examples/Using%20Interact.ipynb) to point to the latest version which also include revised and new material\n",
    "    * Attempting to install `ipywidgets` triggered a much bigger update of notebook, conda, etc, etc\n",
    "    * Master site is at https://github.com/ipython/ipywidgets.  This is still very active.  `ipywidgets` has only recently been released as a library and the docs at https://ipywidgets.readthedocs.org are a bit sparse - no API details as yet\n",
    "* 14 Feb 2016:\n",
    "    * Experimented with function annotation format\n",
    "        * Issues with slider parameter initialization\n",
    "        * Added Changelog and Table of Contents\n",
    "* 13 Feb 2016:\n",
    "    * Downloaded [initial notebook](http://nbviewer.jupyter.org/github/quantopian/ipython/blob/master/examples/Interactive%20Widgets/Using%20Interact.ipynb)\n",
    "    * Deleted Python 2 material as irrelevant\n",
    "    * Customized and extended examples: `get_minutes()`, etc\n",
    "    * Re-discovered ouput supression trick: `;` at end of `interact()` call\n",
    "    \n"
   ]
  },
  {
   "cell_type": "markdown",
   "metadata": {},
   "source": [
    "----"
   ]
  },
  {
   "cell_type": "markdown",
   "metadata": {},
   "source": [
    "### Table of Contents"
   ]
  },
  {
   "cell_type": "markdown",
   "metadata": {},
   "source": [
    "* [Using Interact](#Using-Interact)\n",
    "    * [Basic interact](#Basic-interact)\n",
    "    * [interact decorator](#interact-decorator)\n",
    "    * [Fixing arguments using fixed](#Fixing-arguments-using-fixed)\n",
    "    * [Widget abbreviations](#Widget-abbreviations)\n",
    "    * [Issue: setting default slider values](#Issue:-setting-default-slider-values)\n",
    "    * [Correction: setting default slider values](#Correction:-setting-default-slider-values )\n",
    "    * [Note: possible development flow](#Note:-possible-development-flow)\n",
    "        * [Start with a regular function def and call ...](#Start-with-a-regular-function-def-and-call-...)\n",
    "        * [Then replace the call with the interact decorator ...](#Then-replace-the-call-with-the-interact-decorator-...)\n",
    "    * [Note: closing the slider widget window, leaves the output result visible ...](#Note:-closing-the-slider-widget-window,-leaves-the-output-result-visible-...)\n",
    "    * [More on min, max, step and initial values](#More-on-min,-max,-step-and-initial-values)    \n",
    "    * [Dropdown Menus](#Dropdown-Menus)\n",
    "        * [Note: the default does not seem to work dicts](#Note:-the-default-does-not-seem-to-work-dicts)\n",
    "        * [Note: suppressing unwanted output](#Note:-suppressing-unwanted-output)\n",
    "    * [Using function annotations with interact](#Using-function-annotations-with-interact)\n",
    "    * [Trying annotations with the get_minutes example](#Trying-annotations-with-the-get_minutes-example)\n",
    "    * [Issue: Annotations with initial values](#Issue:-Annotations-with-initial-values)\n",
    "* [interactive](#interactive)\n",
    "    * [Using Interactive with get_minutes](#Using-Interactive-with-get_minutes)\n",
    "        * [Note: We did not need to call display to see the widgets](#Note:-We-did-not-need-to-call-display-to-see- the-widgets)\n",
    "    * [Note: We added a return statement to get_minutes to enable w_get_mins.result](#Note:-We-added-a-return-statement-to-get_minutes-to-enable-w_get_mins.result)\n"
   ]
  },
  {
   "cell_type": "markdown",
   "metadata": {},
   "source": [
    "----"
   ]
  },
  {
   "cell_type": "markdown",
   "metadata": {},
   "source": [
    "### Installed version of `ipywidgets`"
   ]
  },
  {
   "cell_type": "code",
   "execution_count": 1,
   "metadata": {
    "collapsed": false,
    "run_control": {
     "frozen": false,
     "read_only": false
    }
   },
   "outputs": [
    {
     "name": "stdout",
     "output_type": "stream",
     "text": [
      "/bin/sh: conda: command not found\r\n"
     ]
    }
   ],
   "source": [
    "!conda list ipywidgets"
   ]
  },
  {
   "cell_type": "markdown",
   "metadata": {},
   "source": [
    "## Using `interact`"
   ]
  },
  {
   "cell_type": "markdown",
   "metadata": {},
   "source": [
    "The `interact` function (`IPython.html.widgets.interact`) automatically creates user interface (UI) controls for exploring code and data interactively. It is the easiest way to get started using IPython's widgets."
   ]
  },
  {
   "cell_type": "code",
   "execution_count": 2,
   "metadata": {
    "collapsed": false,
    "run_control": {
     "frozen": false,
     "read_only": false
    }
   },
   "outputs": [],
   "source": [
    "from ipywidgets import interact, interactive, fixed\n",
    "import ipywidgets as widgets"
   ]
  },
  {
   "cell_type": "markdown",
   "metadata": {},
   "source": [
    "### Basic `interact`"
   ]
  },
  {
   "cell_type": "markdown",
   "metadata": {},
   "source": [
    "At the most basic level, `interact` autogenerates UI controls for function arguments, and then calls the function with those arguments when you manipulate the controls interactively. To use `interact`, you need to define a function that you want to explore. Here is a function that prints its only argument `x`."
   ]
  },
  {
   "cell_type": "code",
   "execution_count": 3,
   "metadata": {
    "collapsed": false,
    "run_control": {
     "frozen": false,
     "read_only": false
    }
   },
   "outputs": [],
   "source": [
    "def sqr(x):\n",
    "    return(x**2)"
   ]
  },
  {
   "cell_type": "markdown",
   "metadata": {},
   "source": [
    "When you pass this function as the first argument to `interact` along with an integer keyword argument (`x=10`), a slider is generated and bound to the function."
   ]
  },
  {
   "cell_type": "code",
   "execution_count": 4,
   "metadata": {
    "collapsed": false,
    "run_control": {
     "frozen": false,
     "read_only": false
    },
    "scrolled": true
   },
   "outputs": [
    {
     "data": {
      "text/plain": [
       "1681"
      ]
     },
     "metadata": {},
     "output_type": "display_data"
    }
   ],
   "source": [
    "interact(sqr, x=50);"
   ]
  },
  {
   "cell_type": "markdown",
   "metadata": {},
   "source": [
    "When you move the slider, the function is called and the current value of `x` is printed.\n",
    "\n",
    "If you pass `True` or `False`, `interact` will generate a checkbox:"
   ]
  },
  {
   "cell_type": "code",
   "execution_count": 6,
   "metadata": {
    "collapsed": false,
    "run_control": {
     "frozen": false,
     "read_only": false
    }
   },
   "outputs": [
    {
     "name": "stdout",
     "output_type": "stream",
     "text": [
      "Marital status: False\n"
     ]
    }
   ],
   "source": [
    "def print_status(married):\n",
    "    print(\"Marital status: {}\".format(married))\n",
    "\n",
    "interact(print_status, married=False);"
   ]
  },
  {
   "cell_type": "markdown",
   "metadata": {},
   "source": [
    "If you pass a string, `interact` will generate a text area."
   ]
  },
  {
   "cell_type": "code",
   "execution_count": 8,
   "metadata": {
    "collapsed": false,
    "run_control": {
     "frozen": false,
     "read_only": false
    }
   },
   "outputs": [
    {
     "name": "stdout",
     "output_type": "stream",
     "text": [
      "Your name is: ENTER YOUR NAME HERE\n"
     ]
    }
   ],
   "source": [
    "def print_name(name):\n",
    "    print(\"Your name is: {}\".format(name.upper()))\n",
    "\n",
    "\n",
    "interact(print_name, name='Enter your name here');"
   ]
  },
  {
   "cell_type": "markdown",
   "metadata": {},
   "source": [
    "----"
   ]
  },
  {
   "cell_type": "markdown",
   "metadata": {},
   "source": [
    "### `interact` decorator"
   ]
  },
  {
   "cell_type": "markdown",
   "metadata": {},
   "source": [
    "`interact` can also be used as a decorator. This allows you to define a function and interact with it in a single shot. As this example shows, `interact` also works with functions that have multiple arguments."
   ]
  },
  {
   "cell_type": "code",
   "execution_count": 9,
   "metadata": {
    "collapsed": false,
    "run_control": {
     "frozen": false,
     "read_only": false
    }
   },
   "outputs": [
    {
     "data": {
      "text/plain": [
       "(True, 1.4)"
      ]
     },
     "metadata": {},
     "output_type": "display_data"
    }
   ],
   "source": [
    "@interact(x=True, y=1.0)\n",
    "def g(x, y):\n",
    "    return (x, y)"
   ]
  },
  {
   "cell_type": "code",
   "execution_count": 10,
   "metadata": {
    "collapsed": false,
    "run_control": {
     "frozen": false,
     "read_only": false
    }
   },
   "outputs": [
    {
     "name": "stdout",
     "output_type": "stream",
     "text": [
      "51 weeks, 6 days plus 23 hours equal ... 524100 minutes\n"
     ]
    }
   ],
   "source": [
    "@interact(weeks=51, days=6, hours=23)\n",
    "def get_minutes(weeks, days, hours):\n",
    "    minutes = 60 * (hours + (24 * (days + (7 * weeks))))\n",
    "    print(\"{} weeks, {} days plus {} hours equal ... {} minutes\". format(weeks, days, hours, minutes ))"
   ]
  },
  {
   "cell_type": "markdown",
   "metadata": {},
   "source": [
    "### Fixing arguments using `fixed`"
   ]
  },
  {
   "cell_type": "markdown",
   "metadata": {},
   "source": [
    "There are times when you may want to explore a function using `interact`, but fix one or more of its arguments to specific values. This can be accomplished by wrapping values with the `fixed` function."
   ]
  },
  {
   "cell_type": "code",
   "execution_count": 11,
   "metadata": {
    "collapsed": false,
    "run_control": {
     "frozen": false,
     "read_only": false
    }
   },
   "outputs": [],
   "source": [
    "def h(p, q):\n",
    "    return(p, q)"
   ]
  },
  {
   "cell_type": "markdown",
   "metadata": {},
   "source": [
    "When we call `interact`, we pass `fixed(20)` for q to hold it fixed at a value of `20`."
   ]
  },
  {
   "cell_type": "code",
   "execution_count": 12,
   "metadata": {
    "collapsed": false,
    "run_control": {
     "frozen": false,
     "read_only": false
    }
   },
   "outputs": [
    {
     "data": {
      "text/plain": [
       "(1, 20)"
      ]
     },
     "metadata": {},
     "output_type": "display_data"
    }
   ],
   "source": [
    "interact(h, p=1, q=fixed(20));"
   ]
  },
  {
   "cell_type": "markdown",
   "metadata": {},
   "source": [
    "Notice that a slider is only produced for `p` as the value of `q` is fixed."
   ]
  },
  {
   "cell_type": "markdown",
   "metadata": {},
   "source": [
    "### Widget abbreviations"
   ]
  },
  {
   "cell_type": "markdown",
   "metadata": {},
   "source": [
    "When you pass an integer valued keyword argument (`x=10`) to `interact`, it generates an integer valued slider control with a range of $[-10,+3\\times10]$.  \n",
    "In this case `10` is an *abbreviation* for an actual slider widget:\n",
    "\n",
    "```python\n",
    "IntSliderWidget(min=-10,max=30,step=1,value=10)\n",
    "```\n",
    "\n",
    "In fact, we can get the same result if we pass this `IntSlider` as the keyword argument for `x`:"
   ]
  },
  {
   "cell_type": "code",
   "execution_count": 13,
   "metadata": {
    "collapsed": false,
    "run_control": {
     "frozen": false,
     "read_only": false
    }
   },
   "outputs": [
    {
     "data": {
      "text/plain": [
       "10"
      ]
     },
     "metadata": {},
     "output_type": "display_data"
    }
   ],
   "source": [
    "def f(x):\n",
    "    return(x)\n",
    "\n",
    "interact(f, x=widgets.IntSlider(min=0,max=20,step=5,value=10));"
   ]
  },
  {
   "cell_type": "markdown",
   "metadata": {},
   "source": [
    "This examples clarifies how `interact` proceses its keyword arguments:\n",
    "\n",
    "1. If the keyword argument is `Widget` instance with a `value` attribute, that widget is used.  \n",
    "    Any widget with a `value` attribute can be used, even custom ones.\n",
    "\n",
    "2. Otherwise, the value is treated as a *widget abbreviation* that is converted to a widget before it is used.\n",
    "\n",
    "The following table gives an overview of different widget abbreviations:\n",
    "\n",
    "|Keyword argument                                                   | Widget      |\n",
    "|-------------------------------------------------------------------|-------------|\n",
    "|`True` or `False`                                                  | Checkbox    |\n",
    "| 'Hi there'                                                        | Textarea    |\n",
    "| `value` or `(min,max)` or `(min,max,step)` if integers are passed | IntSlider   |\n",
    "| `value` or `(min,max)` or `(min,max,step)` if floats are passed   | FloatSlider |\n",
    "| `('orange','apple')` or `{'one':1,'two':2}`                       | Dropdown    |"
   ]
  },
  {
   "cell_type": "code",
   "execution_count": 14,
   "metadata": {
    "collapsed": false,
    "run_control": {
     "frozen": false,
     "read_only": false
    }
   },
   "outputs": [
    {
     "name": "stdout",
     "output_type": "stream",
     "text": [
      "0 years, 0 weeks, 0 days plus 17 hours equal ... 1020 minutes\n"
     ]
    }
   ],
   "source": [
    "@interact(years=widgets.IntSlider(min=0,max=150,step=1,value=0),\n",
    "          weeks=widgets.IntSlider(min=0,max=51,step=1,value=0),\n",
    "          days=widgets.IntSlider(min=0,max=6,step=1,value=0),\n",
    "          hours=widgets.IntSlider(min=0,max=23,step=1,value=1))\n",
    "def get_minutes(years, weeks, days, hours):\n",
    "    minutes = 60 * (hours + (24 * (days + (7 * weeks + (52 * years)))))\n",
    "    print(\"{} years, {} weeks, {} days plus {} hours equal ... {} minutes\"\n",
    "          .format(years,weeks, days, hours, minutes ))"
   ]
  },
  {
   "cell_type": "code",
   "execution_count": 15,
   "metadata": {
    "collapsed": false,
    "run_control": {
     "frozen": false,
     "read_only": false
    }
   },
   "outputs": [
    {
     "name": "stdout",
     "output_type": "stream",
     "text": [
      "75 years, 25 weeks, 3 days plus 11 hours equal ... 5872980 minutes\n"
     ]
    }
   ],
   "source": [
    "@interact(years=(0,150,1), weeks=(0,51,1), days=(0,6,1), hours=(0,23,1))\n",
    "def get_minutes(years, weeks, days, hours):\n",
    "    minutes = 60 * (hours + (24 * (days + (7 * weeks + (52 * years)))))\n",
    "    print(\"{} years, {} weeks, {} days plus {} hours equal ... {} minutes\"\n",
    "          .format(years,weeks, days, hours, minutes))"
   ]
  },
  {
   "cell_type": "markdown",
   "metadata": {},
   "source": [
    "### Issue: setting default slider values"
   ]
  },
  {
   "cell_type": "markdown",
   "metadata": {},
   "source": [
    "We cannot add the initial value as a 4th entry in the tuples above for the parameters of the various widgets: `years`, `weeks`, `days` and `hours`\n",
    "\n",
    "It seems odd that \n",
    "\n",
    "``` python\n",
    "@interact(years=(0,150,1), weeks=(0,51,1), days=(0,6,1), hours=(0,23,1))\n",
    "```\n",
    "\n",
    "is ok, but \n",
    "\n",
    "``` python\n",
    "@interact(years=(0,150,1,0), weeks=(0,51,1,0), days=(0,6,1,0), hours=(0,23,1,1))\n",
    "```\n",
    "\n",
    "throws the following exception!\n",
    "\n",
    "``` python\n",
    "ValueError: (0, 150, 1, 0) cannot be transformed to a Widget\n",
    "\n",
    "```"
   ]
  },
  {
   "cell_type": "code",
   "execution_count": 16,
   "metadata": {
    "collapsed": false,
    "run_control": {
     "frozen": false,
     "read_only": false
    }
   },
   "outputs": [
    {
     "name": "stdout",
     "output_type": "stream",
     "text": [
      "0 years, 0 weeks, 0 days plus 1 hours equal ... 60 minutes\n"
     ]
    }
   ],
   "source": [
    "@interact(years=(0,150,1), weeks=(0,51,1), days=(0,6,1), hours=(0,23,1))\n",
    "def get_minutes(years=0, weeks=0, days=0, hours=1):\n",
    "    minutes = 60 * (hours + (24 * (days + (7 * weeks + (52 * years)))))\n",
    "    print(\"{} years, {} weeks, {} days plus {} hours equal ... {} minutes\"\n",
    "          .format(years,weeks, days, hours, minutes))"
   ]
  },
  {
   "cell_type": "markdown",
   "metadata": {},
   "source": [
    "### Correction: setting slider values"
   ]
  },
  {
   "cell_type": "markdown",
   "metadata": {},
   "source": [
    "So the way to set the initial values of the sliders is to set the defaults in the `get_minutes` function parameters.\n",
    "\n",
    "```python\n",
    "@interact(years=(0,150,1), weeks=(0,51,1), days=(0,6,1), hours=(0,23,1))\n",
    "def get_minutes(years=0, weeks=0, days=0, hours=1):\n",
    "...\n",
    "```\n",
    "This makes sense and is more 'Pythonic'"
   ]
  },
  {
   "cell_type": "markdown",
   "metadata": {},
   "source": [
    "### Note: one possible development flow"
   ]
  },
  {
   "cell_type": "markdown",
   "metadata": {},
   "source": [
    "#### Start with a regular function def and call ..."
   ]
  },
  {
   "cell_type": "code",
   "execution_count": 17,
   "metadata": {
    "collapsed": false,
    "run_control": {
     "frozen": false,
     "read_only": false
    }
   },
   "outputs": [
    {
     "name": "stdout",
     "output_type": "stream",
     "text": [
      "0 years, 0 weeks, 0 days plus 5 hours equal ... 300 minutes\n"
     ]
    }
   ],
   "source": [
    "def get_minutes(years=0, weeks=0, days=0, hours=1):\n",
    "    'Calculates number of minutes in so many years, + weeks, + days'\n",
    "    \n",
    "    minutes = 60 * (hours + (24 * (days + (7 * weeks + (52 * years)))))\n",
    "    print(\"{} years, {} weeks, {} days plus {} hours equal ... {} minutes\"\n",
    "          .format(years,weeks, days, hours, minutes))\n",
    "\n",
    "get_minutes(0,0,0,5)"
   ]
  },
  {
   "cell_type": "markdown",
   "metadata": {},
   "source": [
    "#### Then replace the call with the `interact` decorator ..."
   ]
  },
  {
   "cell_type": "code",
   "execution_count": 18,
   "metadata": {
    "collapsed": false,
    "run_control": {
     "frozen": false,
     "read_only": false
    }
   },
   "outputs": [
    {
     "name": "stdout",
     "output_type": "stream",
     "text": [
      "0 years, 0 weeks, 0 days plus 1 hours equal ... 60 minutes\n"
     ]
    }
   ],
   "source": [
    "@interact(years=(0,150,1), weeks=(0,51,1), days=(0,6,1), hours=(0,23,1))\n",
    "def get_minutes(years=0, weeks=0, days=0, hours=1):\n",
    "    'Calculates number of minutes in so many years, + weeks, + days'\n",
    "    \n",
    "    minutes = 60 * (hours + (24 * (days + (7 * weeks + (52 * years)))))\n",
    "    print(\"{} years, {} weeks, {} days plus {} hours equal ... {} minutes\"\n",
    "          .format(years,weeks, days, hours, minutes))\n",
    "\n",
    "#get_minutes(0,0,0,2)"
   ]
  },
  {
   "cell_type": "markdown",
   "metadata": {},
   "source": [
    "#### Note: `closing` the slider widget window, leaves the output result visible ..."
   ]
  },
  {
   "cell_type": "code",
   "execution_count": 19,
   "metadata": {
    "collapsed": false,
    "run_control": {
     "frozen": false,
     "read_only": false
    },
    "scrolled": true
   },
   "outputs": [
    {
     "name": "stdout",
     "output_type": "stream",
     "text": [
      "0 years, 0 weeks, 0 days plus 1 hours equal ... 60 minutes\n"
     ]
    }
   ],
   "source": [
    "@interact(years=(0,150,1), weeks=(0,51,1), days=(0,6,1), hours=(0,23,1))\n",
    "def get_minutes(years=0, weeks=0, days=0, hours=1):\n",
    "    'Calculates number of minutes in so many years, + weeks, + days'\n",
    "    \n",
    "    minutes = 60 * (hours + (24 * (days + (7 * weeks + (52 * years)))))\n",
    "    print(\"{} years, {} weeks, {} days plus {} hours equal ... {} minutes\"\n",
    "          .format(years,weeks, days, hours, minutes))"
   ]
  },
  {
   "cell_type": "markdown",
   "metadata": {},
   "source": [
    "----"
   ]
  },
  {
   "cell_type": "markdown",
   "metadata": {},
   "source": [
    "### More on `min`, `max`, `step` and `initial values`"
   ]
  },
  {
   "cell_type": "markdown",
   "metadata": {},
   "source": [
    "You have seen how the checkbox and textarea widgets work above. Here, more details about the different abbreviations for sliders and dropdowns are given.\n",
    "\n",
    "If a 2-tuple of integers is passed `(min,max)` a integer valued slider is produced with those minimum and maximum (inclusive) values. In this case, the default step size of `1` is used."
   ]
  },
  {
   "cell_type": "code",
   "execution_count": 20,
   "metadata": {
    "collapsed": false,
    "run_control": {
     "frozen": false,
     "read_only": false
    }
   },
   "outputs": [
    {
     "data": {
      "text/plain": [
       "2"
      ]
     },
     "metadata": {},
     "output_type": "display_data"
    }
   ],
   "source": [
    "interact(f, x=(0,4));"
   ]
  },
  {
   "cell_type": "markdown",
   "metadata": {},
   "source": [
    "If a 3-tuple of integers is passed `(min,max,step)` the step size can also be set."
   ]
  },
  {
   "cell_type": "code",
   "execution_count": 21,
   "metadata": {
    "collapsed": false,
    "run_control": {
     "frozen": false,
     "read_only": false
    }
   },
   "outputs": [
    {
     "data": {
      "text/plain": [
       "4"
      ]
     },
     "metadata": {},
     "output_type": "display_data"
    }
   ],
   "source": [
    "interact(f, x=(0,8,2));"
   ]
  },
  {
   "cell_type": "markdown",
   "metadata": {},
   "source": [
    "A float valued slider is produced if the elements of the tuples are floats. Here the minimum is `0.0`, the maximum is `10.0` and step size is `0.1` (the default)."
   ]
  },
  {
   "cell_type": "code",
   "execution_count": 22,
   "metadata": {
    "collapsed": false,
    "run_control": {
     "frozen": false,
     "read_only": false
    }
   },
   "outputs": [
    {
     "data": {
      "text/plain": [
       "5.0"
      ]
     },
     "metadata": {},
     "output_type": "display_data"
    }
   ],
   "source": [
    "interact(f, x=(0.0,10.0));"
   ]
  },
  {
   "cell_type": "markdown",
   "metadata": {},
   "source": [
    "The step size can be changed by passing a 3rd element in the tuple."
   ]
  },
  {
   "cell_type": "code",
   "execution_count": 23,
   "metadata": {
    "collapsed": false,
    "run_control": {
     "frozen": false,
     "read_only": false
    }
   },
   "outputs": [
    {
     "data": {
      "text/plain": [
       "4.99"
      ]
     },
     "metadata": {},
     "output_type": "display_data"
    }
   ],
   "source": [
    "interact(f, x=(0.0,10.0,0.01));"
   ]
  },
  {
   "cell_type": "markdown",
   "metadata": {},
   "source": [
    "For both integer and float valued sliders, you can pick the initial value of the widget by passing a default keyword argument to the underlying Python function. Here we set the initial value of a float slider to `5.5`."
   ]
  },
  {
   "cell_type": "code",
   "execution_count": 24,
   "metadata": {
    "collapsed": false,
    "run_control": {
     "frozen": false,
     "read_only": false
    }
   },
   "outputs": [
    {
     "data": {
      "text/plain": [
       "5.5"
      ]
     },
     "metadata": {},
     "output_type": "display_data"
    }
   ],
   "source": [
    "@interact(x=(0.0,20.0,0.5))\n",
    "def h(x=5.5):\n",
    "    return(x)"
   ]
  },
  {
   "cell_type": "markdown",
   "metadata": {},
   "source": [
    "### Dropdown Menus"
   ]
  },
  {
   "cell_type": "markdown",
   "metadata": {},
   "source": [
    "Dropdown menus can be produced by passing a tuple of strings. In this case, the strings are both used as the names in the dropdown menu UI and passed to the underlying Python function."
   ]
  },
  {
   "cell_type": "code",
   "execution_count": 25,
   "metadata": {
    "collapsed": false,
    "run_control": {
     "frozen": false,
     "read_only": false
    }
   },
   "outputs": [
    {
     "name": "stdout",
     "output_type": "stream",
     "text": [
      "oranges\n"
     ]
    }
   ],
   "source": [
    "def f(x='oranges'):\n",
    "    print(x)\n",
    "\n",
    "interact(f, x=('apples','oranges'));"
   ]
  },
  {
   "cell_type": "markdown",
   "metadata": {},
   "source": [
    "If you want a dropdown menu that passes non-string values to the Python function, you can pass a dictionary. The keys in the dictionary are used for the names in the dropdown menu UI and the values are the arguments that are passed to the underlying Python function."
   ]
  },
  {
   "cell_type": "code",
   "execution_count": 26,
   "metadata": {
    "collapsed": false,
    "run_control": {
     "frozen": false,
     "read_only": false
    }
   },
   "outputs": [
    {
     "name": "stdout",
     "output_type": "stream",
     "text": [
      "jueves\n"
     ]
    }
   ],
   "source": [
    "def days_to_dias(day='Thursday'):\n",
    "    print(day)\n",
    "\n",
    "interact(days_to_dias, day={'Monday': 'lunes', 'Tuesday': 'martes', 'Wednesday': 'miércoles',\n",
    "                             'Thursday': 'jueves', 'Friday': 'viernes', 'Saturday': 'sábado',\n",
    "                             'Sunday': 'domingo'});"
   ]
  },
  {
   "cell_type": "markdown",
   "metadata": {},
   "source": [
    "#### Note: the default does not seem to work dicts"
   ]
  },
  {
   "cell_type": "code",
   "execution_count": 27,
   "metadata": {
    "collapsed": false,
    "run_control": {
     "frozen": false,
     "read_only": false
    }
   },
   "outputs": [
    {
     "name": "stdout",
     "output_type": "stream",
     "text": [
      "There 30 days in this month\n"
     ]
    }
   ],
   "source": [
    "days_in_month = {'January': 31, 'February': 28, 'March': 31, 'April': 30, 'May': 31, 'June': 30,\n",
    "             'July': 31, 'August': 31, 'September': 30, 'October': 31, 'November': 30, 'December': 31}\n",
    "\n",
    "def print_days_in_month(month='September'):\n",
    "    print('There {} days in this month'.format(month))\n",
    "    \n",
    "    \n",
    "interact(print_days_in_month, month=days_in_month);"
   ]
  },
  {
   "cell_type": "markdown",
   "metadata": {},
   "source": [
    "#### Note: suppressing unwanted output"
   ]
  },
  {
   "cell_type": "markdown",
   "metadata": {},
   "source": [
    "The `;` at the end of the function call\n",
    "\n",
    "```python\n",
    "interact(print_days_in_month, month=days_in_month);\n",
    "```\n",
    "\n",
    "It suppresses the output line after the widget area\n",
    "\n",
    "```python\n",
    "<function __main__.print_days_in_month>\n",
    "```"
   ]
  },
  {
   "cell_type": "markdown",
   "metadata": {},
   "source": [
    "### Using function annotations with `interact`"
   ]
  },
  {
   "cell_type": "markdown",
   "metadata": {},
   "source": [
    "If you are using Python 3, you can also specify widget abbreviations using [function annotations](https://docs.python.org/3/tutorial/controlflow.html#function-annotations). This is a convenient approach allows the widget abbreviations to be defined with a function.\n",
    "\n",
    "Define a function with an checkbox widget abbreviation for the argument `x`."
   ]
  },
  {
   "cell_type": "code",
   "execution_count": 28,
   "metadata": {
    "collapsed": false,
    "run_control": {
     "frozen": false,
     "read_only": false
    }
   },
   "outputs": [],
   "source": [
    "def f(x:True):\n",
    "    return(x)"
   ]
  },
  {
   "cell_type": "markdown",
   "metadata": {},
   "source": [
    "Then, because the widget abbreviation has already been defined, you can call `interact` with a single argument."
   ]
  },
  {
   "cell_type": "code",
   "execution_count": 29,
   "metadata": {
    "collapsed": false,
    "run_control": {
     "frozen": false,
     "read_only": false
    }
   },
   "outputs": [
    {
     "data": {
      "text/plain": [
       "True"
      ]
     },
     "metadata": {},
     "output_type": "display_data"
    }
   ],
   "source": [
    "interact(f);"
   ]
  },
  {
   "cell_type": "markdown",
   "metadata": {},
   "source": [
    "#### Trying annotations with the `get_minutes` example"
   ]
  },
  {
   "cell_type": "code",
   "execution_count": 30,
   "metadata": {
    "collapsed": false,
    "run_control": {
     "frozen": false,
     "read_only": false
    }
   },
   "outputs": [
    {
     "name": "stdout",
     "output_type": "stream",
     "text": [
      "75 years, 25 weeks, 3 days plus 11 hours equal ... 5872980 minutes\n"
     ]
    }
   ],
   "source": [
    "#@interact(years=(0,150,1), weeks=(0,51,1), days=(0,6,1), hours=(0,23,1))\n",
    "\n",
    "def get_minutes(years:(0,150,1), weeks:(0,51,1), days:(0,6,1), hours:(0,23,1)):\n",
    "    'Calculates number of minutes in so many years, + weeks, + days'\n",
    "    \n",
    "    minutes = 60 * (hours + (24 * (days + (7 * weeks + (52 * years)))))\n",
    "    print(\"{} years, {} weeks, {} days plus {} hours equal ... {} minutes\"\n",
    "          .format(years,weeks, days, hours, minutes))\n",
    "\n",
    "interact(get_minutes);  # `;` suppresses output of <function __main__.get_minutes>"
   ]
  },
  {
   "cell_type": "markdown",
   "metadata": {},
   "source": [
    "#### Issue: Annotations with initial values"
   ]
  },
  {
   "cell_type": "markdown",
   "metadata": {},
   "source": [
    "The annotation can be a tuple of 3 values (min, max, step) but the initial vaue cannot be added to the tuple as a 4th element.\n",
    "\n",
    "Nor can the initial value be applied in the regular way of specifying the default value of a function parameter when using annottaions as shown in the [Python docs](https://docs.python.org/3/tutorial/controlflow.html#function-annotations) ...\n",
    "\n",
    "\n",
    "```python\n",
    ">>> def f(ham: str, eggs: str = 'eggs') -> str:\n",
    "...     print(\"Annotations:\", f.__annotations__)\n",
    "...     print(\"Arguments:\", ham, eggs)\n",
    "...     return ham + ' and ' + eggs\n",
    "```\n",
    "\n",
    "This version:\n",
    "```python\n",
    "def get_minutes(years:(0,150,1)=1, weeks:(0,51,1), days:(0,6,1), hours:(0,23,1)):\n",
    "    minutes = 60 * (hours + (24 * (days + (7 * weeks + (52 * years)))))\n",
    "    print(\"{} years, {} weeks, {} days plus {} hours equal ... {} minutes\"\n",
    "          .format(years,weeks, days, hours, minutes))\n",
    "```\n",
    "\n",
    "raises the following error ...\n",
    "\n",
    "```python\n",
    "  File \"<ipython-input-208-e77735168217>\", line 3\n",
    "    def get_minutes(years:(0,150,1)=1, weeks:(0,51,1), days:(0,6,1), hours:(0,23,1)):\n",
    "    \n",
    "SyntaxError: non-default argument follows default argument\n",
    "```"
   ]
  },
  {
   "cell_type": "markdown",
   "metadata": {},
   "source": [
    "----"
   ]
  },
  {
   "cell_type": "markdown",
   "metadata": {},
   "source": [
    "## `interactive()`"
   ]
  },
  {
   "cell_type": "markdown",
   "metadata": {},
   "source": [
    "In addition to `interact()` IPython provides another function, `interactive()`.\n",
    "\n",
    "`interactive()` is useful when\n",
    "\n",
    "* you want to reuse the widgets that are produced\n",
    "\n",
    "* you want to **access the data that is bound to the UI controls**"
   ]
  },
  {
   "cell_type": "markdown",
   "metadata": {},
   "source": [
    "Here is a function that returns the sum of its two arguments."
   ]
  },
  {
   "cell_type": "code",
   "execution_count": 31,
   "metadata": {
    "collapsed": false,
    "run_control": {
     "frozen": false,
     "read_only": false
    }
   },
   "outputs": [],
   "source": [
    "def sum(a, b):\n",
    "    return a+b"
   ]
  },
  {
   "cell_type": "markdown",
   "metadata": {},
   "source": [
    "Unlike `interact`, `interactive` returns a `Widget` instance rather than immediately displaying the widget."
   ]
  },
  {
   "cell_type": "code",
   "execution_count": 32,
   "metadata": {
    "collapsed": false,
    "run_control": {
     "frozen": false,
     "read_only": false
    }
   },
   "outputs": [],
   "source": [
    "w_sum = interactive(sum, a=10, b=20)"
   ]
  },
  {
   "cell_type": "markdown",
   "metadata": {},
   "source": [
    "The widget is a `Box`, which is a container for other widgets."
   ]
  },
  {
   "cell_type": "code",
   "execution_count": 33,
   "metadata": {
    "collapsed": false,
    "run_control": {
     "frozen": false,
     "read_only": false
    }
   },
   "outputs": [
    {
     "data": {
      "text/plain": [
       "ipywidgets.widgets.widget_box.Box"
      ]
     },
     "execution_count": 33,
     "metadata": {},
     "output_type": "execute_result"
    }
   ],
   "source": [
    "type(w_sum)"
   ]
  },
  {
   "cell_type": "markdown",
   "metadata": {},
   "source": [
    "The children of the `Box` are two integer valued sliders produced by the widget abbreviations above."
   ]
  },
  {
   "cell_type": "code",
   "execution_count": 34,
   "metadata": {
    "collapsed": false,
    "run_control": {
     "frozen": false,
     "read_only": false
    }
   },
   "outputs": [
    {
     "data": {
      "text/plain": [
       "(<ipywidgets.widgets.widget_int.IntSlider at 0x317e8a50>,\n",
       " <ipywidgets.widgets.widget_int.IntSlider at 0x317e89d0>)"
      ]
     },
     "execution_count": 34,
     "metadata": {},
     "output_type": "execute_result"
    }
   ],
   "source": [
    "w_sum.children"
   ]
  },
  {
   "cell_type": "markdown",
   "metadata": {},
   "source": [
    "To actually display the widgets, you can use IPython's `display` function."
   ]
  },
  {
   "cell_type": "code",
   "execution_count": 35,
   "metadata": {
    "collapsed": false,
    "run_control": {
     "frozen": false,
     "read_only": false
    }
   },
   "outputs": [
    {
     "data": {
      "text/plain": [
       "30"
      ]
     },
     "metadata": {},
     "output_type": "display_data"
    }
   ],
   "source": [
    "from IPython.display import display\n",
    "display(w_sum)"
   ]
  },
  {
   "cell_type": "markdown",
   "metadata": {},
   "source": [
    "At this point, the UI controls work just like they would if `interact` had been used. You can manipulate them interactively and the function will be called. However, the widget instance returned by `interactive` also give you access to the current keyword arguments and return value of the underlying Python function.\n",
    "\n",
    "Here are the current keyword arguments. If you rerun this cell after manipulating the sliders, the values will have changed."
   ]
  },
  {
   "cell_type": "code",
   "execution_count": 36,
   "metadata": {
    "collapsed": false,
    "run_control": {
     "frozen": false,
     "read_only": false
    }
   },
   "outputs": [
    {
     "data": {
      "text/plain": [
       "{'a': 10, 'b': 20}"
      ]
     },
     "execution_count": 36,
     "metadata": {},
     "output_type": "execute_result"
    }
   ],
   "source": [
    "w_sum.kwargs"
   ]
  },
  {
   "cell_type": "markdown",
   "metadata": {},
   "source": [
    "Here is the current return value of the function."
   ]
  },
  {
   "cell_type": "code",
   "execution_count": 37,
   "metadata": {
    "collapsed": false,
    "run_control": {
     "frozen": false,
     "read_only": false
    }
   },
   "outputs": [
    {
     "data": {
      "text/plain": [
       "30"
      ]
     },
     "execution_count": 37,
     "metadata": {},
     "output_type": "execute_result"
    }
   ],
   "source": [
    "w_sum.result"
   ]
  },
  {
   "cell_type": "markdown",
   "metadata": {},
   "source": [
    "### Using `Interactive` with `get_minutes`"
   ]
  },
  {
   "cell_type": "code",
   "execution_count": 38,
   "metadata": {
    "collapsed": false,
    "run_control": {
     "frozen": false,
     "read_only": false
    }
   },
   "outputs": [
    {
     "name": "stdout",
     "output_type": "stream",
     "text": [
      "0 years, 0 weeks, 4 days plus 1 hours equal ... 5820 minutes\n"
     ]
    },
    {
     "data": {
      "text/plain": [
       "5820"
      ]
     },
     "metadata": {},
     "output_type": "display_data"
    }
   ],
   "source": [
    "def get_minutes(years=0, weeks=0, days=0, hours=1):\n",
    "    'Calculates number of minutes in so many years, + weeks, + days'\n",
    "    \n",
    "    minutes = 60 * (hours + (24 * (days + (7 * weeks + (52 * years)))))\n",
    "    print(\"{} years, {} weeks, {} days plus {} hours equal ... {} minutes\"\n",
    "          .format(years,weeks, days, hours, minutes))\n",
    "    return minutes\n",
    "\n",
    "w_get_mins= interactive(get_minutes, years=(0,150,1), weeks=(0,51,1), days=(0,6,1), hours=(0,23,1))\n",
    "\n",
    "w_get_mins"
   ]
  },
  {
   "cell_type": "markdown",
   "metadata": {},
   "source": [
    "#### Note: We did not need to call `display` to see the widgets"
   ]
  },
  {
   "cell_type": "code",
   "execution_count": 39,
   "metadata": {
    "collapsed": false,
    "run_control": {
     "frozen": false,
     "read_only": false
    }
   },
   "outputs": [
    {
     "data": {
      "text/plain": [
       "ipywidgets.widgets.widget_box.Box"
      ]
     },
     "execution_count": 39,
     "metadata": {},
     "output_type": "execute_result"
    }
   ],
   "source": [
    "type(w_get_mins)"
   ]
  },
  {
   "cell_type": "code",
   "execution_count": 40,
   "metadata": {
    "collapsed": false,
    "run_control": {
     "frozen": false,
     "read_only": false
    }
   },
   "outputs": [
    {
     "data": {
      "text/plain": [
       "(<ipywidgets.widgets.widget_int.IntSlider at 0x31788cb0>,\n",
       " <ipywidgets.widgets.widget_int.IntSlider at 0x31788f90>,\n",
       " <ipywidgets.widgets.widget_int.IntSlider at 0x31788870>,\n",
       " <ipywidgets.widgets.widget_int.IntSlider at 0x31788b10>)"
      ]
     },
     "execution_count": 40,
     "metadata": {},
     "output_type": "execute_result"
    }
   ],
   "source": [
    "w_get_mins.children"
   ]
  },
  {
   "cell_type": "code",
   "execution_count": 41,
   "metadata": {
    "collapsed": false,
    "run_control": {
     "frozen": false,
     "read_only": false
    }
   },
   "outputs": [
    {
     "data": {
      "text/plain": [
       "{'days': 4, 'hours': 1, 'weeks': 0, 'years': 0}"
      ]
     },
     "execution_count": 41,
     "metadata": {},
     "output_type": "execute_result"
    }
   ],
   "source": [
    "w_get_mins.kwargs"
   ]
  },
  {
   "cell_type": "code",
   "execution_count": 42,
   "metadata": {
    "collapsed": false,
    "run_control": {
     "frozen": false,
     "read_only": false
    }
   },
   "outputs": [
    {
     "data": {
      "text/plain": [
       "0"
      ]
     },
     "execution_count": 42,
     "metadata": {},
     "output_type": "execute_result"
    }
   ],
   "source": [
    "w_get_mins.kwargs['weeks']"
   ]
  },
  {
   "cell_type": "markdown",
   "metadata": {},
   "source": [
    "#### Note: We added a return statement to `get_minutes` to enable `w_get_mins.result`"
   ]
  },
  {
   "cell_type": "code",
   "execution_count": 43,
   "metadata": {
    "collapsed": false,
    "run_control": {
     "frozen": false,
     "read_only": false
    }
   },
   "outputs": [
    {
     "data": {
      "text/plain": [
       "5820"
      ]
     },
     "execution_count": 43,
     "metadata": {},
     "output_type": "execute_result"
    }
   ],
   "source": [
    "w_get_mins.result"
   ]
  },
  {
   "cell_type": "markdown",
   "metadata": {},
   "source": [
    "### Disabling continuous updates"
   ]
  },
  {
   "cell_type": "markdown",
   "metadata": {},
   "source": [
    "When interacting with long running functions, realtime feedback is a burden instead of being helpful. See the following example:"
   ]
  },
  {
   "cell_type": "code",
   "execution_count": 44,
   "metadata": {
    "collapsed": true,
    "run_control": {
     "frozen": false,
     "read_only": false
    }
   },
   "outputs": [],
   "source": [
    "def slow_function(i):\n",
    "    print(int(i),list(x for x in range(int(i)) if \n",
    "                str(x)==str(x)[::-1] and \n",
    "                str(x**2)==str(x**2)[::-1]))\n",
    "    return"
   ]
  },
  {
   "cell_type": "code",
   "execution_count": 45,
   "metadata": {
    "collapsed": false,
    "run_control": {
     "frozen": false,
     "read_only": false
    }
   },
   "outputs": [
    {
     "name": "stdout",
     "output_type": "stream",
     "text": [
      "1000000 [0, 1, 2, 3, 11, 22, 101, 111, 121, 202, 212, 1001, 1111, 2002, 10001, 10101, 10201, 11011, 11111, 11211, 20002, 20102, 100001, 101101, 110011, 111111, 200002]\n",
      "CPU times: user 5.93 s, sys: 0 ns, total: 5.93 s\n",
      "Wall time: 5.93 s\n"
     ]
    }
   ],
   "source": [
    "%%time\n",
    "slow_function(1e6)"
   ]
  },
  {
   "cell_type": "markdown",
   "metadata": {},
   "source": [
    "Notice that the output is updated even while dragging the mouse on the slider. This is not useful for long running functions due to lagging:"
   ]
  },
  {
   "cell_type": "code",
   "execution_count": 46,
   "metadata": {
    "collapsed": false,
    "run_control": {
     "frozen": false,
     "read_only": false
    }
   },
   "outputs": [
    {
     "name": "stdout",
     "output_type": "stream",
     "text": [
      "5300000 [0, 1, 2, 3, 11, 22, 101, 111, 121, 202, 212, 1001, 1111, 2002, 10001, 10101, 10201, 11011, 11111, 11211, 20002, 20102, 100001, 101101, 110011, 111111, 200002, 1000001, 1001001, 1002001, 1010101, 1011101, 1012101, 1100011, 1101011, 1102011, 1110111, 1111111, 2000002, 2001002]\n"
     ]
    }
   ],
   "source": [
    "from ipywidgets import FloatSlider\n",
    "interact(slow_function,i=FloatSlider(min=1e5, max=1e7, step=1e5))"
   ]
  },
  {
   "cell_type": "markdown",
   "metadata": {},
   "source": [
    "There are two ways to mitigate this. You can either only execute on demand, or restrict execution to mouse release events."
   ]
  },
  {
   "cell_type": "markdown",
   "metadata": {},
   "source": [
    "### __manual"
   ]
  },
  {
   "cell_type": "markdown",
   "metadata": {},
   "source": [
    "The __manual kwarg of interact allows you to restrict execution so it is only done on demand. A button is added to the interact controls that allows you to trigger an execute event."
   ]
  },
  {
   "cell_type": "code",
   "execution_count": 47,
   "metadata": {
    "collapsed": false,
    "run_control": {
     "frozen": false,
     "read_only": false
    }
   },
   "outputs": [
    {
     "data": {
      "text/plain": [
       "<function __main__.slow_function>"
      ]
     },
     "execution_count": 47,
     "metadata": {},
     "output_type": "execute_result"
    }
   ],
   "source": [
    "interact(slow_function,i=FloatSlider(min=1e5, max=1e7, step=1e5),__manual=True)"
   ]
  },
  {
   "cell_type": "markdown",
   "metadata": {},
   "source": [
    "### continuous_update"
   ]
  },
  {
   "cell_type": "markdown",
   "metadata": {},
   "source": [
    "If you are using slider widgets, you can set the continuous_update kwarg to False. continuous_update is a kwarg of slider widgets that restricts executions to mouse release events."
   ]
  },
  {
   "cell_type": "code",
   "execution_count": 31,
   "metadata": {
    "collapsed": false,
    "run_control": {
     "frozen": false,
     "read_only": false
    }
   },
   "outputs": [
    {
     "name": "stdout",
     "output_type": "stream",
     "text": [
      "8100000 [0, 1, 2, 3, 11, 22, 101, 111, 121, 202, 212, 1001, 1111, 2002, 10001, 10101, 10201, 11011, 11111, 11211, 20002, 20102, 100001, 101101, 110011, 111111, 200002, 1000001, 1001001, 1002001, 1010101, 1011101, 1012101, 1100011, 1101011, 1102011, 1110111, 1111111, 2000002, 2001002]\n"
     ]
    }
   ],
   "source": [
    "interact(slow_function,i=FloatSlider(min=1e5, max=1e7, step=1e5,continuous_update=False))"
   ]
  },
  {
   "cell_type": "markdown",
   "metadata": {},
   "source": [
    "### Arguments that are dependent of each other"
   ]
  },
  {
   "cell_type": "markdown",
   "metadata": {},
   "source": [
    "Arguments that are dependent of each other can be expressed manually using observe. See the following example, where one variable is used to describe the bounds of another. For more information, please see the widget events example notebook."
   ]
  },
  {
   "cell_type": "code",
   "execution_count": 48,
   "metadata": {
    "collapsed": false,
    "run_control": {
     "frozen": false,
     "read_only": false
    }
   },
   "outputs": [
    {
     "name": "stdout",
     "output_type": "stream",
     "text": [
      "0.0 5.0\n"
     ]
    },
    {
     "data": {
      "text/plain": [
       "<function __main__.printer>"
      ]
     },
     "execution_count": 48,
     "metadata": {},
     "output_type": "execute_result"
    }
   ],
   "source": [
    "x_widget = FloatSlider(min=0.0, max=10.0, step=0.05)\n",
    "y_widget = FloatSlider(min=0.5, max=10.0, step=0.05, value=5.0)\n",
    "\n",
    "x_widget.color = 'black'\n",
    "x_widget.slider_color = 'navy'\n",
    "\n",
    "def update_x_range(*args):\n",
    "    if y_widget.value > 8.0:\n",
    "        x_widget.max = 16.0\n",
    "        x_widget.color = 'red'\n",
    "        x_widget.slider_color = 'red'\n",
    "    else:\n",
    "        x_widget.max = 10.0\n",
    "        x_widget.color = 'green'\n",
    "        x_widget.slider_color = 'green'\n",
    "\n",
    "y_widget.observe(update_x_range, 'value')\n",
    "\n",
    "def printer(x, y):\n",
    "    print(x, y)\n",
    "interact(printer,x=x_widget, y=y_widget)"
   ]
  },
  {
   "cell_type": "markdown",
   "metadata": {},
   "source": [
    "#### Note: \n",
    "\n",
    "* I tried making `x_widget.slider_color`  dependent on `y_widget.value`, in the same way that `x_widget.color` is but without success\n"
   ]
  },
  {
   "cell_type": "markdown",
   "metadata": {},
   "source": [
    "* [Table of Contents](#Table-of-Contents)"
   ]
  },
  {
   "cell_type": "markdown",
   "metadata": {},
   "source": [
    "----"
   ]
  }
 ],
 "metadata": {
  "anaconda-cloud": {},
  "kernelspec": {
   "display_name": "Python 3",
   "language": "python",
   "name": "python3"
  },
  "language_info": {
   "codemirror_mode": {
    "name": "ipython",
    "version": 3
   },
   "file_extension": ".py",
   "mimetype": "text/x-python",
   "name": "python",
   "nbconvert_exporter": "python",
   "pygments_lexer": "ipython3",
   "version": "3.4.3+"
  },
  "widgets": {
   "state": {
    "0246b69b801f441092cf341d2fb563f2": {
     "views": [
      {
       "cell_index": 68
      }
     ]
    },
    "02e7aae70c924a1c8c6a9b43f689b347": {
     "views": [
      {
       "cell_index": 98
      }
     ]
    },
    "0ccf8762628e48589b003a33d77936a2": {
     "views": [
      {
       "cell_index": 92
      }
     ]
    },
    "0ce306b8fcea441f90995c0b763fe743": {
     "views": [
      {
       "cell_index": 53
      }
     ]
    },
    "10c948068b174caaa88ff4850d316502": {
     "views": [
      {
       "cell_index": 77
      }
     ]
    },
    "150b3e4bae8443a28f2cd448cf61aceb": {
     "views": [
      {
       "cell_index": 64
      }
     ]
    },
    "15a57304a40043abb8987822e03e3e66": {
     "views": [
      {
       "cell_index": 20
      }
     ]
    },
    "1c22ce75018b45118fe6957b6008e61a": {
     "views": [
      {
       "cell_index": 34
      }
     ]
    },
    "25b12a0106a3446ab2a6f3b8fe02c824": {
     "views": [
      {
       "cell_index": 30
      }
     ]
    },
    "36fe5eab80d4419bab0810a3c0e64d2f": {
     "views": [
      {
       "cell_index": 47
      }
     ]
    },
    "388d2be4a7164e9782f4894832f281ce": {
     "views": [
      {
       "cell_index": 55
      }
     ]
    },
    "3b9767d001d042c6a7dd0c47fd68881e": {
     "views": [
      {
       "cell_index": 24
      }
     ]
    },
    "4514cde16f4c42cb860a8e240b538bd7": {
     "views": [
      {
       "cell_index": 37
      }
     ]
    },
    "56bbd8ee0d7043c18fb7223111d4d510": {
     "views": [
      {
       "cell_index": 121
      }
     ]
    },
    "58c415053e4641fbb33d1e0981278646": {
     "views": [
      {
       "cell_index": 40
      }
     ]
    },
    "596cd60ba0fe455db1df2059277cf627": {
     "views": [
      {
       "cell_index": 25
      }
     ]
    },
    "5c604251bae246aeb87685a8a9f848ef": {
     "views": [
      {
       "cell_index": 111
      }
     ]
    },
    "6ecd5158776140feb12f65928966b8f1": {
     "views": [
      {
       "cell_index": 61
      }
     ]
    },
    "9b55940f55504fdbb6670f883c2d771e": {
     "views": [
      {
       "cell_index": 59
      }
     ]
    },
    "a351fa97db564b8ab7875618199ed0f1": {
     "views": [
      {
       "cell_index": 36
      }
     ]
    },
    "c2d7dbfd16f447f788d5c023869751f0": {
     "views": [
      {
       "cell_index": 115
      }
     ]
    },
    "c6ad0668b66d475b98129734db3139a7": {
     "views": [
      {
       "cell_index": 18
      }
     ]
    },
    "cd53839a195048a1a390d9220fe55514": {
     "views": [
      {
       "cell_index": 16
      }
     ]
    },
    "ddbec20a53514d67a6a365739f045946": {
     "views": [
      {
       "cell_index": 57
      }
     ]
    },
    "e0bd7691ea1449d38f29320b7ecb0d55": {
     "views": [
      {
       "cell_index": 49
      }
     ]
    },
    "e3209a3695b040bc8d1740eef67f0fa7": {
     "views": [
      {
       "cell_index": 75
      }
     ]
    },
    "f623c384eca4452a8bd772118cc0de8a": {
     "views": [
      {
       "cell_index": 66
      }
     ]
    }
   },
   "version": "1.2.0"
  }
 },
 "nbformat": 4,
 "nbformat_minor": 0
}
