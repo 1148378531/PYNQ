{
 "cells": [
  {
   "cell_type": "markdown",
   "metadata": {},
   "source": [
    "# Webcam to HDMI example"
   ]
  },
  {
   "cell_type": "markdown",
   "metadata": {},
   "source": [
    "Import libraries:"
   ]
  },
  {
   "cell_type": "code",
   "execution_count": 1,
   "metadata": {
    "collapsed": true
   },
   "outputs": [],
   "source": [
    "from time import sleep\n",
    "from pynq.drivers.video import Frame, HDMI\n",
    "from IPython.display import Image\n",
    "import cv2\n",
    "import time\n",
    "import numpy as np"
   ]
  },
  {
   "cell_type": "markdown",
   "metadata": {},
   "source": [
    "#### Monitor and camera configurations:"
   ]
  },
  {
   "cell_type": "code",
   "execution_count": 2,
   "metadata": {
    "collapsed": false
   },
   "outputs": [],
   "source": [
    "# monitor configuration\n",
    "hdmi_out_res_mode = 1 # 640x480 @ 60Hz\n",
    "\n",
    "# monitor (output) frame buffer size\n",
    "frame_out_w = 1920\n",
    "frame_out_h = 1080\n",
    "\n",
    "# camera (input) configuration\n",
    "frame_in_w = 640\n",
    "frame_in_h = 480"
   ]
  },
  {
   "cell_type": "markdown",
   "metadata": {},
   "source": [
    "#### Initialize camera inout:"
   ]
  },
  {
   "cell_type": "code",
   "execution_count": 3,
   "metadata": {
    "collapsed": false
   },
   "outputs": [
    {
     "name": "stdout",
     "output_type": "stream",
     "text": [
      "capture device is open: True\n"
     ]
    }
   ],
   "source": [
    "# initialize camera from OpenCV\n",
    "videoIn = cv2.VideoCapture(0)\n",
    "videoIn.set(cv2.CAP_PROP_FRAME_WIDTH, frame_in_w);\n",
    "videoIn.set(cv2.CAP_PROP_FRAME_HEIGHT, frame_in_h);\n",
    "print(\"capture device is open: \" + str(videoIn.isOpened()))"
   ]
  },
  {
   "cell_type": "markdown",
   "metadata": {},
   "source": [
    "#### Initialize and start HDMI output:"
   ]
  },
  {
   "cell_type": "code",
   "execution_count": 4,
   "metadata": {
    "collapsed": false
   },
   "outputs": [
    {
     "name": "stdout",
     "output_type": "stream",
     "text": [
      "selected video resolution: 800x600@60Hz\n",
      "output state is 1\n",
      "  0: disconnected\n",
      "  1: streaming\n",
      "  2: paused\n"
     ]
    }
   ],
   "source": [
    "# create HDMI output object\n",
    "hdmi_out=HDMI('out')\n",
    "\n",
    "# create frame \n",
    "hdmi_out.mode(4)\n",
    "frameOut = hdmi_out.frame(0)\n",
    "# uncomment the following line to see frame resolution\n",
    "#print(\"frame resolution: \"str(frameOut.width) +\"x\" +str(frameOut.height))\n",
    "\n",
    "# start\n",
    "resolution = hdmi_out.mode(hdmi_out_res_mode)\n",
    "hdmi_out.frame_index(0)\n",
    "hdmi_out.start()\n",
    "\n",
    "# print configuration\n",
    "print(\"selected video resolution: \" + resolution)\n",
    "state = hdmi_out.state()\n",
    "print(\"output state is \" + str(state))\n",
    "print(\"  0: disconnected\")\n",
    "print(\"  1: streaming\")\n",
    "print(\"  2: paused\")"
   ]
  },
  {
   "cell_type": "markdown",
   "metadata": {},
   "source": [
    "##### Prepare "
   ]
  },
  {
   "cell_type": "code",
   "execution_count": 5,
   "metadata": {
    "collapsed": false
   },
   "outputs": [],
   "source": [
    "# initialize support variables\n",
    "readError = 0\n",
    "# check input resolution\n",
    "ret, frame = videoIn.read()\n",
    "frame_w = frame.shape[1]\n",
    "frame_h = frame.shape[0]"
   ]
  },
  {
   "cell_type": "markdown",
   "metadata": {
    "collapsed": true
   },
   "source": [
    "#### Stream mode:"
   ]
  },
  {
   "cell_type": "code",
   "execution_count": 6,
   "metadata": {
    "collapsed": false,
    "scrolled": true
   },
   "outputs": [
    {
     "name": "stdout",
     "output_type": "stream",
     "text": [
      "Frames per second:     8.1908051343057\n",
      "Number of read errors: 0\n"
     ]
    }
   ],
   "source": [
    "start = time.time()\n",
    "for NumOfFrames in range (100):\n",
    "            \n",
    "    # read next image\n",
    "    ret, frame = videoIn.read()\n",
    "    frame.resize(frame_w*frame_h*3)\n",
    "    \n",
    "    if (ret):\n",
    "        for y in range (frame_h):\n",
    "            # in this loop we go through all the lines of the READ image\n",
    "            # every line has a size of the pixel width multiplied by the number of colors for RGB (3)\n",
    "            # uncomment the foloowing line for addressing output\n",
    "            #print(\"input image width:   \" + str(frame_w))\n",
    "            #print(\"input image height:  \" + str(frame_h))\n",
    "            #print(\"output buffer width: \" + str(frame_out_w))\n",
    "            #print(\"output buffer height:\" + str(frame_out_h))\n",
    "            #print(\"line copies:\")\n",
    "            #print(str(y*frame_out_w*3)+\":\"+str(y*frame_out_w*3+frame_w*3)+\"=\"+str(y*frame_w*3)+\":\"+str((y+1)*frame_w*3))\n",
    "            #print(str((y*frame_out_w*3+frame_w*3)-y*frame_out_w*3)+\"=\"+str(((y+1)*frame_w*3)-y*frame_w*3))\n",
    "            frameOut.frame[y*frame_out_w*3:y*frame_out_w*3+frame_w*3] = frame.data[y*frame_w*3:(y+1)*frame_w*3]\n",
    "\n",
    "        # copy to frame buffer / show on monitor\n",
    "        hdmi_out.frame(0, frameOut)\n",
    "        \n",
    "    else:\n",
    "        readError = readError + 1\n",
    "\n",
    "end = time.time()\n",
    "print(\"Frames per second:     \" + str(100 / (end - start)))\n",
    "print(\"Number of read errors: \" + str(readError))"
   ]
  },
  {
   "cell_type": "markdown",
   "metadata": {
    "collapsed": false
   },
   "source": [
    "#### Laplacian\n"
   ]
  },
  {
   "cell_type": "code",
   "execution_count": 7,
   "metadata": {
    "collapsed": false
   },
   "outputs": [
    {
     "name": "stdout",
     "output_type": "stream",
     "text": [
      "Frames per second:     4.943327048157233\n",
      "Number of read errors: 0\n"
     ]
    }
   ],
   "source": [
    "start = time.time()\n",
    "for NumOfFrames in range (100):\n",
    "            \n",
    "    # read next image\n",
    "    ret, frame = videoIn.read()\n",
    "    \n",
    "    if (ret):\n",
    "        #frame.resize(frame_w*frame_h*3)\n",
    "        frame = cv2.Laplacian(frame, cv2.CV_8U) \n",
    "        frame.resize(frame_w*frame_h*3)\n",
    "        \n",
    "        for y in range (frame_h):\n",
    "            # in this loop we go through all the lines of the READ image\n",
    "            # every line has a size of the pixel width multiplied by the number of colors for RGB (3)\n",
    "            # uncomment the foloowing line for addressing output\n",
    "            #print(\"input image width:   \" + str(frame_w))\n",
    "            #print(\"input image height:  \" + str(frame_h))\n",
    "            #print(\"output buffer width: \" + str(frame_out_w))\n",
    "            #print(\"output buffer height:\" + str(frame_out_h))\n",
    "            #print(\"line copies:\")\n",
    "            #print(str(y*frame_out_w*3)+\":\"+str(y*frame_out_w*3+frame_w*3)+\"=\"+str(y*frame_w*3)+\":\"+str((y+1)*frame_w*3))\n",
    "            #print(str((y*frame_out_w*3+frame_w*3)-y*frame_out_w*3)+\"=\"+str(((y+1)*frame_w*3)-y*frame_w*3))\n",
    "            frameOut.frame[y*frame_out_w*3:y*frame_out_w*3+frame_w*3] = frame.data[y*frame_w*3:(y+1)*frame_w*3]\n",
    "\n",
    "        # copy to frame buffer / show on monitor\n",
    "        hdmi_out.frame(0, frameOut)\n",
    "        \n",
    "    else:\n",
    "        readError = readError + 1\n",
    "\n",
    "end = time.time()\n",
    "print(\"Frames per second:     \" + str(100 / (end - start)))\n",
    "print(\"Number of read errors: \" + str(readError))"
   ]
  },
  {
   "cell_type": "markdown",
   "metadata": {},
   "source": [
    "#### Canny Edge Detection\n",
    "Canny Edge Detection is a popular edge detection algorithm. It was developed by John F. Canny in 1986. It is a multi-stage algorithm and we will go through each stages.\n",
    "Doc source: http://opencv-python-tutroals.readthedocs.io/en/latest/py_tutorials/py_imgproc/py_canny/py_canny.html"
   ]
  },
  {
   "cell_type": "code",
   "execution_count": 8,
   "metadata": {
    "collapsed": false
   },
   "outputs": [
    {
     "name": "stdout",
     "output_type": "stream",
     "text": [
      "Frames per second:     0.5371525277489161\n",
      "Number of read errors: 0\n"
     ]
    }
   ],
   "source": [
    "start = time.time()\n",
    "for NumOfFrames in range (20):\n",
    "            \n",
    "    # read next image\n",
    "    ret, frame = videoIn.read()\n",
    "    frame.resize(frame_w*frame_h*3)\n",
    "    \n",
    "    if (ret):\n",
    "        # \"Any edges with intensity gradient more than maxVal are sure to be edges and those below \n",
    "        # minVal are sure to be non-edges, so discarded. Those who lie between these two thresholds \n",
    "        # are classified edges or non-edges based on their connectivity. If they are connected to \n",
    "        # “sure-edge” pixels, they are considered to be part of edges. Otherwise, they are also \n",
    "        # discarded.\" \n",
    "        frame = cv2.Canny(frame,100,110)\n",
    "        \n",
    "        for y in range (frame_h):\n",
    "            # in this loop we go through all the lines of the READ image\n",
    "            # every line has a size of the pixel width multiplied by the number of colors for RGB (3)\n",
    "            # uncomment the foloowing line for addressing output\n",
    "            #print(\"input image width:   \" + str(frame_w))\n",
    "            #print(\"input image height:  \" + str(frame_h))\n",
    "            #print(\"output buffer width: \" + str(frame_out_w))\n",
    "            #print(\"output buffer height:\" + str(frame_out_h))\n",
    "            #print(\"line copies:\")\n",
    "            #print(str(y*frame_out_w*3)+\":\"+str(y*frame_out_w*3+frame_w*3)+\"=\"+str(y*frame_w*3)+\":\"+str((y+1)*frame_w*3))\n",
    "            #print(str((y*frame_out_w*3+frame_w*3)-y*frame_out_w*3)+\"=\"+str(((y+1)*frame_w*3)-y*frame_w*3))\n",
    "            frameOut.frame[y*frame_out_w*3:y*frame_out_w*3+frame_w*3] = frame.data[y*frame_w*3:(y+1)*frame_w*3]\n",
    "\n",
    "        # copy to frame buffer / show on monitor\n",
    "        hdmi_out.frame(0, frameOut)\n",
    "        \n",
    "    else:\n",
    "        readError = readError + 1\n",
    "\n",
    "end = time.time()\n",
    "print(\"Frames per second:     \" + str(20 / (end - start)))\n",
    "print(\"Number of read errors: \" + str(readError))"
   ]
  },
  {
   "cell_type": "markdown",
   "metadata": {},
   "source": [
    "#### SURF (Speeded-Up Robust Features)\n",
    "opencv_contrib needs to be compiled"
   ]
  },
  {
   "cell_type": "markdown",
   "metadata": {},
   "source": [
    "start = time.time()\n",
    "for NumOfFrames in range (20):\n",
    "            \n",
    "    # read next image\n",
    "    ret, frame = videoIn.read()\n",
    "    frame.resize(frame_w*frame_h*3)\n",
    "    \n",
    "    if (ret):        \n",
    "        # Create SURF object. You can specify params here or later.\n",
    "        # Here I set Hessian Threshold to 400\n",
    "        surf = cv2.SURF(400)\n",
    "        # Find keypoints and descriptors directly\n",
    "        kp, des = surf.detectAndCompute(frame,None)\n",
    "        frame = cv2.drawKeypoints(frame,kp,None,(255,0,0),4)\n",
    "        \n",
    "        for y in range (frame_h):\n",
    "            # in this loop we go through all the lines of the READ image\n",
    "            # every line has a size of the pixel width multiplied by the number of colors for RGB (3)\n",
    "            # uncomment the foloowing line for addressing output\n",
    "            #print(\"input image width:   \" + str(frame_w))\n",
    "            #print(\"input image height:  \" + str(frame_h))\n",
    "            #print(\"output buffer width: \" + str(frame_out_w))\n",
    "            #print(\"output buffer height:\" + str(frame_out_h))\n",
    "            #print(\"line copies:\")\n",
    "            #print(str(y*frame_out_w*3)+\":\"+str(y*frame_out_w*3+frame_w*3)+\"=\"+str(y*frame_w*3)+\":\"+str((y+1)*frame_w*3))\n",
    "            #print(str((y*frame_out_w*3+frame_w*3)-y*frame_out_w*3)+\"=\"+str(((y+1)*frame_w*3)-y*frame_w*3))\n",
    "            frameOut.frame[y*frame_out_w*3:y*frame_out_w*3+frame_w*3] = frame.data[y*frame_w*3:(y+1)*frame_w*3]\n",
    "\n",
    "        # copy to frame buffer / show on monitor\n",
    "        hdmi_out.frame(0, frameOut)\n",
    "        \n",
    "    else:\n",
    "        readError = readError + 1\n",
    "\n",
    "end = time.time()\n",
    "print(\"Frames per second:     \" + str(20 / (end - start)))\n",
    "print(\"Number of read errors: \" + str(readError))"
   ]
  },
  {
   "cell_type": "code",
   "execution_count": null,
   "metadata": {
    "collapsed": true
   },
   "outputs": [],
   "source": [
    "# release camera and monitor\n",
    "videoIn.release()\n",
    "hdmi_out.stop()"
   ]
  }
 ],
 "metadata": {
  "kernelspec": {
   "display_name": "Python 3",
   "language": "python",
   "name": "python3"
  },
  "language_info": {
   "codemirror_mode": {
    "name": "ipython",
    "version": 3
   },
   "file_extension": ".py",
   "mimetype": "text/x-python",
   "name": "python",
   "nbconvert_exporter": "python",
   "pygments_lexer": "ipython3",
   "version": "3.4.3+"
  }
 },
 "nbformat": 4,
 "nbformat_minor": 1
}
