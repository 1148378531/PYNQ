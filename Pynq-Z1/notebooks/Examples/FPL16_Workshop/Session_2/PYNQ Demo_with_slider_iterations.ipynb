{
 "cells": [
  {
   "cell_type": "markdown",
   "metadata": {},
   "source": [
    "# Pynx Demo\n",
    "\n",
    "### 9 May 2016"
   ]
  },
  {
   "cell_type": "markdown",
   "metadata": {},
   "source": [
    "----"
   ]
  },
  {
   "cell_type": "markdown",
   "metadata": {},
   "source": [
    "## Contents\n",
    "\n",
    "\n",
    "[Using Hardware Libraries: PMod Overlay](#Using-Hardware-Libraries:-PMod-Overlay)\n",
    "\n",
    "[Re-configure PMod peripherals and re-boot](#Re-configure-PMod-peripherals-and-re-boot)\n",
    "\n",
    "[Plotting the I/O linearity](#Plotting-the-I/O-linearity)\n",
    "\n",
    "[Accessing help](#Accessing-help)\n",
    "\n",
    "[Online Documentation](#Online-Documentation)\n",
    "\n",
    "[Exploring the target set-up](#Exploring-the-target-set-up)"
   ]
  },
  {
   "cell_type": "markdown",
   "metadata": {},
   "source": [
    "----"
   ]
  },
  {
   "cell_type": "markdown",
   "metadata": {},
   "source": [
    "## Using Hardware Libraries: PMod Overlay"
   ]
  },
  {
   "cell_type": "markdown",
   "metadata": {},
   "source": [
    "### 1. Import hardware libraries and classes"
   ]
  },
  {
   "cell_type": "code",
   "execution_count": 2,
   "metadata": {
    "collapsed": false
   },
   "outputs": [],
   "source": [
    "\"\"\"\n",
    "from pynq import Overlay\n",
    "from pynq.pmods import PMOD_ADC, PMOD_DAC, PMOD_OLED\n",
    "\"\"\"\n",
    "\n",
    "from pynq import Overlay\n",
    "from pynq.iop import PMOD_ADC, PMOD_DAC, PMOD_OLED"
   ]
  },
  {
   "cell_type": "markdown",
   "metadata": {},
   "source": [
    "### 2. Program the ZYNQ PL"
   ]
  },
  {
   "cell_type": "code",
   "execution_count": 3,
   "metadata": {
    "collapsed": true
   },
   "outputs": [],
   "source": [
    "\"\"\"ol = Overlay('base.bit')\"\"\"\n",
    "\n",
    "ol = Overlay('base.bit')"
   ]
  },
  {
   "cell_type": "code",
   "execution_count": 4,
   "metadata": {
    "collapsed": false
   },
   "outputs": [],
   "source": [
    "\"\"\"ol.download()\"\"\"\n",
    "\n",
    "ol.download()"
   ]
  },
  {
   "cell_type": "markdown",
   "metadata": {},
   "source": [
    "### 3. Instantiate the PMod peripherals as Python objects"
   ]
  },
  {
   "cell_type": "code",
   "execution_count": 5,
   "metadata": {
    "collapsed": true
   },
   "outputs": [],
   "source": [
    "\"\"\"\n",
    "adc = PMOD_ADC(3)\n",
    "dac = PMOD_DAC(1)\n",
    "oled = PMOD_OLED(4)\n",
    "\"\"\"\n",
    "\n",
    "adc = PMOD_ADC(1)\n",
    "dac = PMOD_DAC(2)\n"
   ]
  },
  {
   "cell_type": "markdown",
   "metadata": {},
   "source": [
    "### 4. Write to DAC, read from ADC, write to OLED"
   ]
  },
  {
   "cell_type": "code",
   "execution_count": 6,
   "metadata": {
    "collapsed": false
   },
   "outputs": [
    {
     "name": "stdout",
     "output_type": "stream",
     "text": [
      "[0.623]\n"
     ]
    }
   ],
   "source": [
    "\"\"\"\n",
    "dac.write(0.75)\n",
    "sample = adc.read()\n",
    "oled.write(str(sample))\n",
    "print(sample)\n",
    "\"\"\"\n",
    "\n",
    "dac.write(0.65)\n",
    "sample = adc.read()\n",
    "print(sample)"
   ]
  },
  {
   "cell_type": "markdown",
   "metadata": {},
   "source": [
    "----"
   ]
  },
  {
   "cell_type": "markdown",
   "metadata": {},
   "source": [
    "## Shutdon Re-configure PMod peripherals and re-boot"
   ]
  },
  {
   "cell_type": "code",
   "execution_count": null,
   "metadata": {
    "collapsed": true
   },
   "outputs": [],
   "source": [
    "!shutdown now"
   ]
  },
  {
   "cell_type": "markdown",
   "metadata": {},
   "source": [
    "### Udate port numbers and output volatge and re-run"
   ]
  },
  {
   "cell_type": "code",
   "execution_count": null,
   "metadata": {
    "collapsed": false
   },
   "outputs": [],
   "source": [
    "# DAC - ADC - OLED PMod Demo\n",
    "# 5 May 2016\n",
    "\n",
    "from pynq import Overlay\n",
    "from pynq.pmods import PMOD_ADC, PMOD_DAC, PMOD_OLED\n",
    "\n",
    "# Program the ZYNQ PL\n",
    "ol = Overlay('pmod.bit')\n",
    "ol.download()\n",
    "\n",
    "# Instantiate the PMod peripherals as Python objects\n",
    "dac = PMOD_DAC(3)\n",
    "adc = PMOD_ADC(1)\n",
    "oled = PMOD_OLED(4)\n",
    "\n",
    "# Write to DAC, read from ADC, write to OLED\n",
    "dac.write(0.35)\n",
    "sample = adc.read()\n",
    "oled.write(str(sample))\n",
    "print(sample)"
   ]
  },
  {
   "cell_type": "markdown",
   "metadata": {},
   "source": [
    "----"
   ]
  },
  {
   "cell_type": "markdown",
   "metadata": {},
   "source": [
    "## Plotting the I/O linearity"
   ]
  },
  {
   "cell_type": "code",
   "execution_count": 19,
   "metadata": {
    "collapsed": false,
    "scrolled": false
   },
   "outputs": [
    {
     "name": "stdout",
     "output_type": "stream",
     "text": [
      "Value written: 0.00\tSample read: 0.00\tError: +0.0020\n",
      "Value written: 0.11\tSample read: 0.10\tError: -0.0037\n",
      "Value written: 0.21\tSample read: 0.21\tError: +0.0004\n",
      "Value written: 0.32\tSample read: 0.31\tError: -0.0072\n",
      "Value written: 0.42\tSample read: 0.41\tError: -0.0070\n",
      "Value written: 0.53\tSample read: 0.50\tError: -0.0278\n",
      "Value written: 0.63\tSample read: 0.62\tError: -0.0105\n",
      "Value written: 0.74\tSample read: 0.71\tError: -0.0220\n",
      "Value written: 0.84\tSample read: 0.81\tError: -0.0335\n",
      "Value written: 0.95\tSample read: 0.93\tError: -0.0138\n",
      "Value written: 1.05\tSample read: 1.03\tError: -0.0253\n",
      "Value written: 1.16\tSample read: 1.12\tError: -0.0368\n",
      "Value written: 1.26\tSample read: 1.21\tError: -0.0484\n",
      "Value written: 1.37\tSample read: 1.31\tError: -0.0579\n",
      "Value written: 1.47\tSample read: 1.43\tError: -0.0401\n",
      "Value written: 1.58\tSample read: 1.53\tError: -0.0516\n",
      "Value written: 1.68\tSample read: 1.62\tError: -0.0612\n",
      "Value written: 1.79\tSample read: 1.72\tError: -0.0727\n",
      "Value written: 1.89\tSample read: 1.81\tError: -0.0842\n",
      "Value written: 2.00\tSample read: 1.93\tError: -0.0664\n"
     ]
    }
   ],
   "source": [
    "# DAC - ADC - OLED PMod Demo\n",
    "# 5 May 2016\n",
    "\n",
    "from math import ceil\n",
    "from time import sleep\n",
    "import numpy as np\n",
    "import matplotlib.pyplot as plt\n",
    "\n",
    "from pynq import Overlay\n",
    "from pynq.iop import PMOD_ADC, PMOD_DAC\n",
    "\n",
    "# Program the ZYNQ PL\n",
    "ol = Overlay('base.bit')\n",
    "ol.download()\n",
    "\n",
    "# Instantiate the PMod peripherals as Python objects\n",
    "dac = PMOD_DAC(2)\n",
    "adc = PMOD_ADC(1)\n",
    "\n",
    "\n",
    "# Write to DAC, read from ADC\n",
    "delay = 0.0\n",
    "values = np.linspace(0, 2, 20)\n",
    "samples = []\n",
    "for value in values:\n",
    "    dac.write(value)\n",
    "    sleep(delay)\n",
    "    sample = adc.read()\n",
    "    samples.append(sample[0])\n",
    "    print('Value written: {:4.2f}\\tSample read: {:4.2f}\\tError: {:+4.4f}'.\n",
    "          format(value, sample[0], sample[0]-value))"
   ]
  },
  {
   "cell_type": "code",
   "execution_count": 20,
   "metadata": {
    "collapsed": false
   },
   "outputs": [
    {
     "data": {
      "image/png": "[encoded data removed]",
      "text/plain": [
       "<matplotlib.figure.Figure at 0x30dfdf90>"
      ]
     },
     "metadata": {},
     "output_type": "display_data"
    }
   ],
   "source": [
    "# Draw the DAC-ADC linearity plot in the notebook\n",
    "\n",
    "# Show plots in notebook (rather than in separate window)\n",
    "%matplotlib inline\n",
    "    \n",
    "X = np.arange(len(values))\n",
    "plt.bar(X + 0.0, values, facecolor='blue', edgecolor='white', width=0.5, label=\"Written_to_DAC\")\n",
    "plt.bar(X + 0.25, samples, facecolor='red', edgecolor='white', width=0.5, label=\"Read_from_ADC\")\n",
    "\n",
    "plt.title('DAC-ADC Linearity')\n",
    "plt.xlabel('Sample_number')\n",
    "plt.ylabel('Volts')\n",
    "plt.legend(loc='upper left', frameon=False)\n",
    "\n",
    "plt.show()"
   ]
  },
  {
   "cell_type": "code",
   "execution_count": 22,
   "metadata": {
    "collapsed": false,
    "scrolled": true
   },
   "outputs": [
    {
     "data": {
      "image/png": "[encoded data removed]",
      "text/plain": [
       "<matplotlib.figure.Figure at 0x30d2ad30>"
      ]
     },
     "metadata": {},
     "output_type": "display_data"
    }
   ],
   "source": [
    "from math import ceil\n",
    "from time import sleep\n",
    "import numpy as np\n",
    "import matplotlib.pyplot as plt\n",
    "\n",
    "from ipywidgets import interact, interactive, fixed\n",
    "import ipywidgets as widgets\n",
    "\n",
    "from pynq import Overlay\n",
    "from pynq.iop import PMOD_ADC, PMOD_DAC\n",
    "\n",
    "# Program the ZYNQ PL\n",
    "ol = Overlay('base.bit')\n",
    "ol.download()\n",
    "\n",
    "# Instantiate the PMod peripherals as Python objects\n",
    "dac = PMOD_DAC(2)\n",
    "adc = PMOD_ADC(1)\n",
    "\n",
    "# Draw the DAC-ADC linearity plot in the notebook\n",
    "\n",
    "# Show plots in notebook (rather than in separate window)\n",
    "%matplotlib inline\n",
    "\n",
    "def capture_samples(nmbr_of_samples):    \n",
    "    # Write to DAC, read from ADC, write to notebook\n",
    "    delay = 0.0\n",
    "    values = np.linspace(0, 2, nmbr_of_samples)\n",
    "    samples = []\n",
    "    for value in values:\n",
    "        dac.write(value)\n",
    "        sleep(delay)\n",
    "        sample = adc.read()\n",
    "        samples.append(sample[0])\n",
    "\n",
    "    if (len(samples) == nmbr_of_samples):\n",
    "        X = np.arange(nmbr_of_samples)\n",
    "        plt.bar(X + 0.0, values[:nmbr_of_samples+1], facecolor='blue', edgecolor='white', width=0.5, label=\"Written_to_DAC\")\n",
    "        plt.bar(X + 0.25, samples[:nmbr_of_samples+1], facecolor='red', edgecolor='white', width=0.5, label=\"Read_from_ADC\")\n",
    "\n",
    "        plt.title('DAC-ADC Linearity')\n",
    "        plt.xlabel('Sample_number')\n",
    "        plt.ylabel('Volts')\n",
    "        plt.legend(loc='upper left', frameon=False)\n",
    "        plt.show()  \n",
    "\n",
    "interact(capture_samples, nmbr_of_samples=widgets.IntSlider(min=5, max=30, step=5, value=10));"
   ]
  },
  {
   "cell_type": "code",
   "execution_count": 23,
   "metadata": {
    "collapsed": false,
    "scrolled": true
   },
   "outputs": [
    {
     "data": {
      "image/png": "[encoded data removed]",
      "text/plain": [
       "<matplotlib.figure.Figure at 0x30d2f530>"
      ]
     },
     "metadata": {},
     "output_type": "display_data"
    }
   ],
   "source": [
    "from math import ceil\n",
    "from time import sleep\n",
    "import numpy as np\n",
    "import matplotlib.pyplot as plt\n",
    "\n",
    "from ipywidgets import interact, interactive, fixed\n",
    "import ipywidgets as widgets\n",
    "\n",
    "from pynq import Overlay\n",
    "from pynq.iop import PMOD_ADC, PMOD_DAC\n",
    "\n",
    "# Program the ZYNQ PL\n",
    "ol = Overlay('base.bit')\n",
    "ol.download()\n",
    "\n",
    "# Instantiate the PMod peripherals as Python objects\n",
    "dac = PMOD_DAC(2)\n",
    "adc = PMOD_ADC(1)\n",
    "\n",
    "# Draw the DAC-ADC linearity plot in the notebook\n",
    "\n",
    "# Show plots in notebook (rather than in separate window)\n",
    "%matplotlib inline\n",
    "\n",
    "def capture_samples(nmbr_of_samples):    \n",
    "    # Write to DAC, read from ADC, write to OLED\n",
    "    delay = 0.0\n",
    "    values = np.linspace(0, 2, nmbr_of_samples)\n",
    "    samples = []\n",
    "    for value in values:\n",
    "        dac.write(value)\n",
    "        sleep(delay)\n",
    "        sample = adc.read()\n",
    "        samples.append(sample[0])\n",
    "\n",
    "    X = np.arange(nmbr_of_samples)\n",
    "    plt.bar(X + 0.0, values[:nmbr_of_samples+1], facecolor='blue', edgecolor='white', width=0.5, label=\"Written_to_DAC\")\n",
    "    plt.bar(X + 0.25, samples[:nmbr_of_samples+1], facecolor='red', edgecolor='white', width=0.5, label=\"Read_from_ADC\")\n",
    "\n",
    "    plt.title('DAC-ADC Linearity')\n",
    "    plt.xlabel('Sample_number')\n",
    "    plt.ylabel('Volts')\n",
    "    plt.legend(loc='upper left', frameon=False)\n",
    "   \n",
    "interact(capture_samples, nmbr_of_samples=widgets.IntSlider(min=5, max=30, step=5,\n",
    "    value=10, continuous_update=False));\n",
    "\n",
    "plt.show()"
   ]
  },
  {
   "cell_type": "code",
   "execution_count": 24,
   "metadata": {
    "collapsed": false,
    "scrolled": true
   },
   "outputs": [
    {
     "name": "stderr",
     "output_type": "stream",
     "text": [
      "/usr/local/lib/python3.4/dist-packages/matplotlib/font_manager.py:1288: UserWarning: findfont: Font family ['Humor Sans', 'Comic Sans MS'] not found. Falling back to Bitstream Vera Sans\n",
      "  (prop.get_family(), self.defaultFamily[fontext]))\n"
     ]
    },
    {
     "data": {
      "image/png": "[encoded data removed]",
      "text/plain": [
       "<matplotlib.figure.Figure at 0x30d2a6b0>"
      ]
     },
     "metadata": {},
     "output_type": "display_data"
    }
   ],
   "source": [
    "# Draw the DAC-ADC linearity plot in the notebook\n",
    "\n",
    "# Show plots in notebook (rather than in separate window)\n",
    "%matplotlib inline\n",
    "    \n",
    "# xkcd comic book style plots\n",
    "with plt.xkcd():\n",
    "    X = np.arange(len(values))\n",
    "    plt.bar(X + 0.0, values, facecolor='blue', edgecolor='white', width=0.5, label=\"Written_to_DAC\")\n",
    "    plt.bar(X + 0.25, samples, facecolor='red', edgecolor='white', width=0.5, label=\"Read_from_ADC\")\n",
    "\n",
    "    plt.title('DAC-ADC Linearity')\n",
    "    plt.xlabel('Sample_number')\n",
    "    plt.ylabel('Volts')\n",
    "    plt.legend(loc='upper left', frameon=False)\n",
    "\n",
    "plt.show()"
   ]
  },
  {
   "cell_type": "code",
   "execution_count": 25,
   "metadata": {
    "collapsed": false
   },
   "outputs": [
    {
     "name": "stdout",
     "output_type": "stream",
     "text": [
      "Traceback (most recent call last):\r\n",
      "  File \"/usr/local/bin/jupyter-nbextension\", line 6, in <module>\r\n",
      "    main()\r\n",
      "  File \"/usr/local/lib/python3.4/dist-packages/jupyter_core/application.py\", line 267, in launch_instance\r\n",
      "    return super(JupyterApp, cls).launch_instance(argv=argv, **kwargs)\r\n",
      "  File \"/usr/local/lib/python3.4/dist-packages/traitlets/config/application.py\", line 596, in launch_instance\r\n",
      "    app.start()\r\n",
      "  File \"/usr/local/lib/python3.4/dist-packages/notebook/nbextensions.py\", line 961, in start\r\n",
      "    super(NBExtensionApp, self).start()\r\n",
      "  File \"/usr/local/lib/python3.4/dist-packages/jupyter_core/application.py\", line 256, in start\r\n",
      "    self.subapp.start()\r\n",
      "  File \"/usr/local/lib/python3.4/dist-packages/notebook/nbextensions.py\", line 869, in start\r\n",
      "    self.toggle_nbextension_python(self.extra_args[0])\r\n",
      "  File \"/usr/local/lib/python3.4/dist-packages/notebook/nbextensions.py\", line 845, in toggle_nbextension_python\r\n",
      "    logger=self.log)\r\n",
      "  File \"/usr/local/lib/python3.4/dist-packages/notebook/nbextensions.py\", line 459, in enable_nbextension_python\r\n",
      "    logger=logger)\r\n",
      "  File \"/usr/local/lib/python3.4/dist-packages/notebook/nbextensions.py\", line 374, in _set_nbextension_state_python\r\n",
      "    m, nbexts = _get_nbextension_metadata(module)\r\n",
      "  File \"/usr/local/lib/python3.4/dist-packages/notebook/nbextensions.py\", line 1123, in _get_nbextension_metadata\r\n",
      "    m = import_item(module)\r\n",
      "  File \"/usr/local/lib/python3.4/dist-packages/traitlets/utils/importstring.py\", line 41, in import_item\r\n",
      "    return __import__(parts[0])\r\n",
      "ImportError: No module named 'widgetsnbextension'\r\n"
     ]
    }
   ],
   "source": [
    "!jupyter nbextension enable --py --sys-prefix widgetsnbextension"
   ]
  },
  {
   "cell_type": "code",
   "execution_count": 26,
   "metadata": {
    "collapsed": false
   },
   "outputs": [
    {
     "name": "stdout",
     "output_type": "stream",
     "text": [
      "0.0 5.0\n"
     ]
    },
    {
     "data": {
      "text/plain": [
       "<function __main__.printer>"
      ]
     },
     "execution_count": 26,
     "metadata": {},
     "output_type": "execute_result"
    }
   ],
   "source": [
    "from ipywidgets import interact, interactive, fixed\n",
    "import ipywidgets as widgets\n",
    "\n",
    "x_widget = widgets.FloatSlider(min=0.0, max=10.0, step=0.05)\n",
    "y_widget = widgets.FloatSlider(min=0.5, max=10.0, step=0.05, value=5.0)\n",
    "\n",
    "def update_x_range(*args):\n",
    "    x_widget.max = 2.0 * y_widget.value\n",
    "y_widget.observe(update_x_range, 'value')\n",
    "\n",
    "def printer(x, y):\n",
    "    print(x, y)\n",
    "\n",
    "\n",
    "interact(printer,x=x_widget, y=y_widget)"
   ]
  },
  {
   "cell_type": "code",
   "execution_count": 28,
   "metadata": {
    "collapsed": false,
    "scrolled": true
   },
   "outputs": [
    {
     "name": "stdout",
     "output_type": "stream",
     "text": [
      "['Port_2', 'Port_3', 'Port_4']\n"
     ]
    },
    {
     "data": {
      "text/plain": [
       "['Port_2', 'Port_3', 'Port_4']"
      ]
     },
     "metadata": {},
     "output_type": "display_data"
    }
   ],
   "source": [
    "from ipywidgets import interact, interactive, fixed\n",
    "import ipywidgets as widgets\n",
    "\n",
    "ADC_choices = ['Port_1', 'Port_2', 'Port_3', 'Port_4']\n",
    "\n",
    "def f(ADC):\n",
    "    ADC_choices = ['Port_1', 'Port_2', 'Port_3', 'Port_4']\n",
    "    ADC_choices.remove(ADC)\n",
    "    print(ADC_choices)\n",
    "    return ADC_choices\n",
    "\n",
    "DAC_choices = ['Port_1', 'Port_2', 'Port_3', 'Port_4']\n",
    "\n",
    "def g(DAC):\n",
    "    DAC_choices.remove(DAC)\n",
    "    print(DAC_choices)\n",
    "    return DAC_choices\n",
    "\n",
    "interact(f, ADC=ADC_choices);\n",
    "interact(g, DAC=DAC_choices);"
   ]
  },
  {
   "cell_type": "code",
   "execution_count": 29,
   "metadata": {
    "collapsed": false
   },
   "outputs": [],
   "source": [
    "from ipywidgets import interact, interactive, fixed\n",
    "import ipywidgets as widgets\n",
    "from IPython.display import display\n",
    "\n",
    "x_widget = widgets.FloatSlider(min=0.0, max=10.0, step=0.05)\n",
    "y_widget = widgets.FloatSlider(min=0.5, max=10.0, step=0.05, value=5.0)\n",
    "\n",
    "def update_x_range(*args):\n",
    "    x_widget.max = 2.0 * y_widget.value\n",
    "\n",
    "y_widget.observe(update_x_range, 'value')\n",
    "\n",
    "display(x_widget)\n",
    "display(y_widget)"
   ]
  },
  {
   "cell_type": "code",
   "execution_count": 4,
   "metadata": {
    "collapsed": false
   },
   "outputs": [],
   "source": [
    "from ipywidgets import widgets\n",
    "from IPython.display import display\n",
    "\n",
    "from collections import OrderedDict\n",
    "\n",
    "     \n",
    "values = list(range(1,5))\n",
    "keys = ['Port Number {}'.format(val) for val in values]\n",
    "ports_dict = OrderedDict(zip(keys,values))\n",
    "\n",
    "adc_ports = widgets.Dropdown(options=ports_dict, description='ADC: ')\n",
    "display(adc_ports)\n",
    "dac_ports = widgets.Dropdown(options=ports_dict, description='DAC: ')\n",
    "display(dac_ports)\n",
    "\n"
   ]
  },
  {
   "cell_type": "code",
   "execution_count": 1,
   "metadata": {
    "collapsed": false
   },
   "outputs": [
    {
     "name": "stdout",
     "output_type": "stream",
     "text": [
      "Enabling notebook extension jupyter-js-widgets/extension...\r\n",
      "      - Validating: \u001b[32mOK\u001b[0m\r\n"
     ]
    }
   ],
   "source": [
    "!jupyter nbextension enable --py --sys-prefix widgetsnbextension"
   ]
  },
  {
   "cell_type": "code",
   "execution_count": 46,
   "metadata": {
    "collapsed": false
   },
   "outputs": [
    {
     "name": "stdout",
     "output_type": "stream",
     "text": [
      "OrderedDict([('Unassigned', 0), ('PMod Port Number 1', 1), ('PMod Port Number 3', 3), ('PMod Port Number 4', 4)])\n"
     ]
    }
   ],
   "source": [
    "from ipywidgets import widgets\n",
    "from IPython.display import display\n",
    "\n",
    "from collections import OrderedDict\n",
    "\n",
    "     \n",
    "values = list(range(5))\n",
    "key_0 = 'Unassigned'\n",
    "keys = ['PMod Port Number {}'.format(val) for val in values[1:]]\n",
    "keys.insert(0, key_0)\n",
    "ports_dict = OrderedDict(zip(keys, values))\n",
    "\n",
    "\"\"\"\n",
    "dac_values = list(range(2,5))\n",
    "dac_keys = ['PMod Port Number {}'.format(val) for val in dac_values]\n",
    "dac_ports_dict = OrderedDict(zip(dac_keys, dac_values))\n",
    "\n",
    "oled_values = list(range(3,5))\n",
    "oled_keys = ['PMod Port Number {}'.format(val) for val in oled_values]\n",
    "oled_ports_dict = OrderedDict(zip(oled_keys, oled_values))\n",
    "\"\"\"\n",
    "\n",
    "adc_ports = widgets.Dropdown(options= ports_dict, description='adc: ')\n",
    "display(adc_ports)\n",
    "\n",
    "def update_available_ports(*args):\n",
    "    for i in args:\n",
    "        ports_dict.pop('PMod Port Number {}'.format(i['new']))\n",
    "        print(ports_dict)\n",
    "        display(dac_ports)\n",
    "\n",
    "adc_ports.observe(update_available_ports, 'value')\n",
    "\n",
    "dac_ports = widgets.Dropdown(options= ports_dict, description='dac: ')\n",
    "display(dac_ports)"
   ]
  },
  {
   "cell_type": "code",
   "execution_count": 36,
   "metadata": {
    "collapsed": false
   },
   "outputs": [
    {
     "ename": "ValueError",
     "evalue": "too many values to unpack (expected 2)",
     "output_type": "error",
     "traceback": [
      "\u001b[1;31m\u001b[0m",
      "\u001b[1;31mValueError\u001b[0mTraceback (most recent call last)",
      "\u001b[1;32m<ipython-input-36-1c0f4d79ca5e>\u001b[0m in \u001b[0;36m<module>\u001b[1;34m()\u001b[0m\n\u001b[1;32m----> 1\u001b[1;33m \u001b[1;32mfor\u001b[0m \u001b[0mkey\u001b[0m\u001b[1;33m,\u001b[0m \u001b[0mvalue\u001b[0m \u001b[1;32min\u001b[0m \u001b[0mports_dict\u001b[0m\u001b[1;33m:\u001b[0m\u001b[1;33m\u001b[0m\u001b[0m\n\u001b[0m\u001b[0;32m      2\u001b[0m     \u001b[1;32mif\u001b[0m \u001b[0mvalue\u001b[0m \u001b[1;33m==\u001b[0m \u001b[1;36m2\u001b[0m\u001b[1;33m:\u001b[0m\u001b[1;33m\u001b[0m\u001b[0m\n\u001b[0;32m      3\u001b[0m         \u001b[0mports_dict\u001b[0m\u001b[1;33m.\u001b[0m\u001b[0mpopitem\u001b[0m\u001b[1;33m[\u001b[0m\u001b[0mkey\u001b[0m\u001b[1;33m]\u001b[0m\u001b[1;33m\u001b[0m\u001b[0m\n\u001b[0;32m      4\u001b[0m \u001b[1;33m\u001b[0m\u001b[0m\n\u001b[0;32m      5\u001b[0m \u001b[1;33m\u001b[0m\u001b[0m\n",
      "\u001b[1;31mValueError\u001b[0m: too many values to unpack (expected 2)"
     ]
    }
   ],
   "source": [
    "for key, value in ports_dict:\n",
    "    if value == 2:\n",
    "        ports_dict.popitem[key]\n",
    "\n",
    "\n",
    "\n",
    "\n"
   ]
  },
  {
   "cell_type": "code",
   "execution_count": 8,
   "metadata": {
    "collapsed": false
   },
   "outputs": [
    {
     "name": "stdout",
     "output_type": "stream",
     "text": [
      "Help on class Dropdown in module ipywidgets.widgets.widget_selection:\n",
      "\n",
      "class Dropdown(_Selection)\n",
      " |  Allows you to select a single item from a dropdown.\n",
      " |  \n",
      " |  Method resolution order:\n",
      " |      Dropdown\n",
      " |      _Selection\n",
      " |      ipywidgets.widgets.domwidget.DOMWidget\n",
      " |      ipywidgets.widgets.widget.Widget\n",
      " |      traitlets.config.configurable.LoggingConfigurable\n",
      " |      traitlets.config.configurable.Configurable\n",
      " |      traitlets.traitlets.HasTraits\n",
      " |      traitlets.traitlets._NewBase\n",
      " |      traitlets.traitlets.HasDescriptors\n",
      " |      traitlets.traitlets._NewBase\n",
      " |      builtins.object\n",
      " |  \n",
      " |  Data descriptors defined here:\n",
      " |  \n",
      " |  button_style\n",
      " |      An enum of strings where the case should be ignored.\n",
      " |  \n",
      " |  ----------------------------------------------------------------------\n",
      " |  Methods inherited from _Selection:\n",
      " |  \n",
      " |  __init__(self, *args, **kwargs)\n",
      " |  \n",
      " |  ----------------------------------------------------------------------\n",
      " |  Data descriptors inherited from _Selection:\n",
      " |  \n",
      " |  description\n",
      " |      A trait for unicode strings.\n",
      " |  \n",
      " |  disabled\n",
      " |      A boolean (True, False) trait.\n",
      " |  \n",
      " |  options\n",
      " |      A trait type representing a Union type.\n",
      " |  \n",
      " |  value\n",
      " |      A trait which allows any value.\n",
      " |  \n",
      " |  ----------------------------------------------------------------------\n",
      " |  Methods inherited from ipywidgets.widgets.domwidget.DOMWidget:\n",
      " |  \n",
      " |  add_class(self, className)\n",
      " |      Adds a class to the top level element of the widget.\n",
      " |      \n",
      " |      Doesn't add the class if it already exists.\n",
      " |  \n",
      " |  remove_class(self, className)\n",
      " |      Removes a class from the top level element of the widget.\n",
      " |      \n",
      " |      Doesn't remove the class if it doesn't exist.\n",
      " |  \n",
      " |  ----------------------------------------------------------------------\n",
      " |  Data descriptors inherited from ipywidgets.widgets.domwidget.DOMWidget:\n",
      " |  \n",
      " |  background_color\n",
      " |      A string holding a valid HTML color such as 'blue', '#060482', '#A80'\n",
      " |  \n",
      " |  border\n",
      " |  \n",
      " |  color\n",
      " |      A string holding a valid HTML color such as 'blue', '#060482', '#A80'\n",
      " |  \n",
      " |  font_family\n",
      " |      A trait for unicode strings.\n",
      " |  \n",
      " |  font_size\n",
      " |      A casting version of the unicode trait.\n",
      " |  \n",
      " |  font_style\n",
      " |      An enum of strings where the case should be ignored.\n",
      " |  \n",
      " |  font_weight\n",
      " |      An enum of strings where the case should be ignored.\n",
      " |  \n",
      " |  height\n",
      " |  \n",
      " |  layout\n",
      " |      A trait whose value must be an instance of a specified class.\n",
      " |      \n",
      " |      The value can also be an instance of a subclass of the specified class.\n",
      " |      \n",
      " |      Subclasses can declare default classes by overriding the klass attribute\n",
      " |  \n",
      " |  margin\n",
      " |  \n",
      " |  padding\n",
      " |  \n",
      " |  visible\n",
      " |      A boolean (True, False) trait.\n",
      " |  \n",
      " |  width\n",
      " |  \n",
      " |  ----------------------------------------------------------------------\n",
      " |  Methods inherited from ipywidgets.widgets.widget.Widget:\n",
      " |  \n",
      " |  __del__(self)\n",
      " |      Object disposal\n",
      " |  \n",
      " |  add_traits(self, **traits)\n",
      " |      Dynamically add trait attributes to the Widget.\n",
      " |  \n",
      " |  close(self)\n",
      " |      Close method.\n",
      " |      \n",
      " |      Closes the underlying comm.\n",
      " |      When the comm is closed, all of the widget views are automatically\n",
      " |      removed from the front-end.\n",
      " |  \n",
      " |  get_state(self, key=None)\n",
      " |      Gets the widget state, or a piece of it.\n",
      " |      \n",
      " |      Parameters\n",
      " |      ----------\n",
      " |      key : unicode or iterable (optional)\n",
      " |          A single property's name or iterable of property names to get.\n",
      " |      \n",
      " |      Returns\n",
      " |      -------\n",
      " |      state : dict of states\n",
      " |      metadata : dict\n",
      " |          metadata for each field: {key: metadata}\n",
      " |  \n",
      " |  hold_sync(self)\n",
      " |      Hold syncing any state until the outermost context manager exits\n",
      " |  \n",
      " |  notify_change(self, change)\n",
      " |      Called when a property has changed.\n",
      " |  \n",
      " |  on_displayed(self, callback, remove=False)\n",
      " |      (Un)Register a widget displayed callback.\n",
      " |      \n",
      " |      Parameters\n",
      " |      ----------\n",
      " |      callback: method handler\n",
      " |          Must have a signature of::\n",
      " |      \n",
      " |              callback(widget, **kwargs)\n",
      " |      \n",
      " |          kwargs from display are passed through without modification.\n",
      " |      remove: bool\n",
      " |          True if the callback should be unregistered.\n",
      " |  \n",
      " |  on_msg(self, callback, remove=False)\n",
      " |      (Un)Register a custom msg receive callback.\n",
      " |      \n",
      " |      Parameters\n",
      " |      ----------\n",
      " |      callback: callable\n",
      " |          callback will be passed three arguments when a message arrives::\n",
      " |      \n",
      " |              callback(widget, content, buffers)\n",
      " |      \n",
      " |      remove: bool\n",
      " |          True if the callback should be unregistered.\n",
      " |  \n",
      " |  open(self)\n",
      " |      Open a comm to the frontend if one isn't already open.\n",
      " |  \n",
      " |  send(self, content, buffers=None)\n",
      " |      Sends a custom msg to the widget model in the front-end.\n",
      " |      \n",
      " |      Parameters\n",
      " |      ----------\n",
      " |      content : dict\n",
      " |          Content of the message to send.\n",
      " |      buffers : list of binary buffers\n",
      " |          Binary buffers to send with message\n",
      " |  \n",
      " |  send_state(self, key=None)\n",
      " |      Sends the widget state, or a piece of it, to the front-end.\n",
      " |      \n",
      " |      Parameters\n",
      " |      ----------\n",
      " |      key : unicode, or iterable (optional)\n",
      " |          A single property's name or iterable of property names to sync with the front-end.\n",
      " |  \n",
      " |  set_state(self, sync_data)\n",
      " |      Called when a state is received from the front-end.\n",
      " |  \n",
      " |  ----------------------------------------------------------------------\n",
      " |  Static methods inherited from ipywidgets.widgets.widget.Widget:\n",
      " |  \n",
      " |  handle_comm_opened(comm, msg)\n",
      " |      Static method, called when a widget is constructed.\n",
      " |  \n",
      " |  on_widget_constructed(callback)\n",
      " |      Registers a callback to be called when a widget is constructed.\n",
      " |      \n",
      " |      The callback must have the following signature:\n",
      " |      callback(widget)\n",
      " |  \n",
      " |  ----------------------------------------------------------------------\n",
      " |  Data descriptors inherited from ipywidgets.widgets.widget.Widget:\n",
      " |  \n",
      " |  comm\n",
      " |      A trait whose value must be an instance of a specified class.\n",
      " |      \n",
      " |      The value can also be an instance of a subclass of the specified class.\n",
      " |      \n",
      " |      Subclasses can declare default classes by overriding the klass attribute\n",
      " |  \n",
      " |  keys\n",
      " |      An instance of a Python list.\n",
      " |  \n",
      " |  model_id\n",
      " |      Gets the model id of this widget.\n",
      " |      \n",
      " |      If a Comm doesn't exist yet, a Comm will be created automagically.\n",
      " |  \n",
      " |  msg_throttle\n",
      " |      An int trait.\n",
      " |  \n",
      " |  ----------------------------------------------------------------------\n",
      " |  Data and other attributes inherited from ipywidgets.widgets.widget.Widget:\n",
      " |  \n",
      " |  widget_types = {'Jupyter.Accordion': <class 'ipywidgets.widgets.widget...\n",
      " |  \n",
      " |  widgets = {'061a2e1e24f747428cfbc572730d01ff': <ipywidgets.widgets.wid...\n",
      " |  \n",
      " |  ----------------------------------------------------------------------\n",
      " |  Data descriptors inherited from traitlets.config.configurable.LoggingConfigurable:\n",
      " |  \n",
      " |  log\n",
      " |      A trait whose value must be an instance of a specified class.\n",
      " |      \n",
      " |      The value can also be an instance of a subclass of the specified class.\n",
      " |      \n",
      " |      Subclasses can declare default classes by overriding the klass attribute\n",
      " |  \n",
      " |  ----------------------------------------------------------------------\n",
      " |  Methods inherited from traitlets.config.configurable.Configurable:\n",
      " |  \n",
      " |  update_config(self, config)\n",
      " |      Update config and load the new values\n",
      " |  \n",
      " |  ----------------------------------------------------------------------\n",
      " |  Class methods inherited from traitlets.config.configurable.Configurable:\n",
      " |  \n",
      " |  class_config_rst_doc() from traitlets.traitlets.MetaHasTraits\n",
      " |      Generate rST documentation for this class' config options.\n",
      " |      \n",
      " |      Excludes traits defined on parent classes.\n",
      " |  \n",
      " |  class_config_section() from traitlets.traitlets.MetaHasTraits\n",
      " |      Get the config class config section\n",
      " |  \n",
      " |  class_get_help(inst=None) from traitlets.traitlets.MetaHasTraits\n",
      " |      Get the help string for this class in ReST format.\n",
      " |      \n",
      " |      If `inst` is given, it's current trait values will be used in place of\n",
      " |      class defaults.\n",
      " |  \n",
      " |  class_get_trait_help(trait, inst=None) from traitlets.traitlets.MetaHasTraits\n",
      " |      Get the help string for a single trait.\n",
      " |      \n",
      " |      If `inst` is given, it's current trait values will be used in place of\n",
      " |      the class default.\n",
      " |  \n",
      " |  class_print_help(inst=None) from traitlets.traitlets.MetaHasTraits\n",
      " |      Get the help string for a single trait and print it.\n",
      " |  \n",
      " |  section_names() from traitlets.traitlets.MetaHasTraits\n",
      " |      return section names as a list\n",
      " |  \n",
      " |  ----------------------------------------------------------------------\n",
      " |  Data descriptors inherited from traitlets.config.configurable.Configurable:\n",
      " |  \n",
      " |  config\n",
      " |      A trait whose value must be an instance of a specified class.\n",
      " |      \n",
      " |      The value can also be an instance of a subclass of the specified class.\n",
      " |      \n",
      " |      Subclasses can declare default classes by overriding the klass attribute\n",
      " |  \n",
      " |  parent\n",
      " |      A trait whose value must be an instance of a specified class.\n",
      " |      \n",
      " |      The value can also be an instance of a subclass of the specified class.\n",
      " |      \n",
      " |      Subclasses can declare default classes by overriding the klass attribute\n",
      " |  \n",
      " |  ----------------------------------------------------------------------\n",
      " |  Methods inherited from traitlets.traitlets.HasTraits:\n",
      " |  \n",
      " |  __getstate__(self)\n",
      " |  \n",
      " |  __setstate__(self, state)\n",
      " |  \n",
      " |  has_trait(self, name)\n",
      " |      Returns True if the object has a trait with the specified name.\n",
      " |  \n",
      " |  hold_trait_notifications(self)\n",
      " |      Context manager for bundling trait change notifications and cross\n",
      " |      validation.\n",
      " |      \n",
      " |      Use this when doing multiple trait assignments (init, config), to avoid\n",
      " |      race conditions in trait notifiers requesting other trait values.\n",
      " |      All trait notifications will fire after all values have been assigned.\n",
      " |  \n",
      " |  observe(self, handler, names=traitlets.All, type='change')\n",
      " |      Setup a handler to be called when a trait changes.\n",
      " |      \n",
      " |      This is used to setup dynamic notifications of trait changes.\n",
      " |      \n",
      " |      Parameters\n",
      " |      ----------\n",
      " |      handler : callable\n",
      " |          A callable that is called when a trait changes. Its\n",
      " |          signature should be ``handler(change)``, where ``change```is a\n",
      " |          dictionary. The change dictionary at least holds a 'type' key.\n",
      " |          * ``type``: the type of notification.\n",
      " |          Other keys may be passed depending on the value of 'type'. In the\n",
      " |          case where type is 'change', we also have the following keys:\n",
      " |          * ``owner`` : the HasTraits instance\n",
      " |          * ``old`` : the old value of the modified trait attribute\n",
      " |          * ``new`` : the new value of the modified trait attribute\n",
      " |          * ``name`` : the name of the modified trait attribute.\n",
      " |      names : list, str, All\n",
      " |          If names is All, the handler will apply to all traits.  If a list\n",
      " |          of str, handler will apply to all names in the list.  If a\n",
      " |          str, the handler will apply just to that name.\n",
      " |      type : str, All (default: 'change')\n",
      " |          The type of notification to filter by. If equal to All, then all\n",
      " |          notifications are passed to the observe handler.\n",
      " |  \n",
      " |  on_trait_change(self, handler=None, name=None, remove=False)\n",
      " |      DEPRECATED: Setup a handler to be called when a trait changes.\n",
      " |      \n",
      " |      This is used to setup dynamic notifications of trait changes.\n",
      " |      \n",
      " |      Static handlers can be created by creating methods on a HasTraits\n",
      " |      subclass with the naming convention '_[traitname]_changed'.  Thus,\n",
      " |      to create static handler for the trait 'a', create the method\n",
      " |      _a_changed(self, name, old, new) (fewer arguments can be used, see\n",
      " |      below).\n",
      " |      \n",
      " |      If `remove` is True and `handler` is not specified, all change\n",
      " |      handlers for the specified name are uninstalled.\n",
      " |      \n",
      " |      Parameters\n",
      " |      ----------\n",
      " |      handler : callable, None\n",
      " |          A callable that is called when a trait changes.  Its\n",
      " |          signature can be handler(), handler(name), handler(name, new),\n",
      " |          handler(name, old, new), or handler(name, old, new, self).\n",
      " |      name : list, str, None\n",
      " |          If None, the handler will apply to all traits.  If a list\n",
      " |          of str, handler will apply to all names in the list.  If a\n",
      " |          str, the handler will apply just to that name.\n",
      " |      remove : bool\n",
      " |          If False (the default), then install the handler.  If True\n",
      " |          then unintall it.\n",
      " |  \n",
      " |  set_trait(self, name, value)\n",
      " |      Forcibly sets trait attribute, including read-only attributes.\n",
      " |  \n",
      " |  setup_instance(self, *args, **kwargs)\n",
      " |  \n",
      " |  trait_metadata(self, traitname, key, default=None)\n",
      " |      Get metadata values for trait by key.\n",
      " |  \n",
      " |  trait_names(self, **metadata)\n",
      " |      Get a list of all the names of this class' traits.\n",
      " |  \n",
      " |  traits(self, **metadata)\n",
      " |      Get a ``dict`` of all the traits of this class.  The dictionary\n",
      " |      is keyed on the name and the values are the TraitType objects.\n",
      " |      \n",
      " |      The TraitTypes returned don't know anything about the values\n",
      " |      that the various HasTrait's instances are holding.\n",
      " |      \n",
      " |      The metadata kwargs allow functions to be passed in which\n",
      " |      filter traits based on metadata values.  The functions should\n",
      " |      take a single value as an argument and return a boolean.  If\n",
      " |      any function returns False, then the trait is not included in\n",
      " |      the output.  If a metadata key doesn't exist, None will be passed\n",
      " |      to the function.\n",
      " |  \n",
      " |  unobserve(self, handler, names=traitlets.All, type='change')\n",
      " |      Remove a trait change handler.\n",
      " |      \n",
      " |      This is used to unregister handlers to trait change notificiations.\n",
      " |      \n",
      " |      Parameters\n",
      " |      ----------\n",
      " |      handler : callable\n",
      " |          The callable called when a trait attribute changes.\n",
      " |      names : list, str, All (default: All)\n",
      " |          The names of the traits for which the specified handler should be\n",
      " |          uninstalled. If names is All, the specified handler is uninstalled\n",
      " |          from the list of notifiers corresponding to all changes.\n",
      " |      type : str or All (default: 'change')\n",
      " |          The type of notification to filter by. If All, the specified handler\n",
      " |          is uninstalled from the list of notifiers corresponding to all types.\n",
      " |  \n",
      " |  unobserve_all(self, name=traitlets.All)\n",
      " |      Remove trait change handlers of any type for the specified name.\n",
      " |      If name is not specified, removes all trait notifiers.\n",
      " |  \n",
      " |  ----------------------------------------------------------------------\n",
      " |  Class methods inherited from traitlets.traitlets.HasTraits:\n",
      " |  \n",
      " |  class_own_traits(**metadata) from traitlets.traitlets.MetaHasTraits\n",
      " |      Get a dict of all the traitlets defined on this class, not a parent.\n",
      " |      \n",
      " |      Works like `class_traits`, except for excluding traits from parents.\n",
      " |  \n",
      " |  class_trait_names(**metadata) from traitlets.traitlets.MetaHasTraits\n",
      " |      Get a list of all the names of this class' traits.\n",
      " |      \n",
      " |      This method is just like the :meth:`trait_names` method,\n",
      " |      but is unbound.\n",
      " |  \n",
      " |  class_traits(**metadata) from traitlets.traitlets.MetaHasTraits\n",
      " |      Get a ``dict`` of all the traits of this class.  The dictionary\n",
      " |      is keyed on the name and the values are the TraitType objects.\n",
      " |      \n",
      " |      This method is just like the :meth:`traits` method, but is unbound.\n",
      " |      \n",
      " |      The TraitTypes returned don't know anything about the values\n",
      " |      that the various HasTrait's instances are holding.\n",
      " |      \n",
      " |      The metadata kwargs allow functions to be passed in which\n",
      " |      filter traits based on metadata values.  The functions should\n",
      " |      take a single value as an argument and return a boolean.  If\n",
      " |      any function returns False, then the trait is not included in\n",
      " |      the output.  If a metadata key doesn't exist, None will be passed\n",
      " |      to the function.\n",
      " |  \n",
      " |  ----------------------------------------------------------------------\n",
      " |  Data descriptors inherited from traitlets.traitlets.HasTraits:\n",
      " |  \n",
      " |  cross_validation_lock\n",
      " |      A contextmanager for running a block with our cross validation lock set\n",
      " |      to True.\n",
      " |      \n",
      " |      At the end of the block, the lock's value is restored to its value\n",
      " |      prior to entering the block.\n",
      " |  \n",
      " |  ----------------------------------------------------------------------\n",
      " |  Static methods inherited from traitlets.traitlets.HasDescriptors:\n",
      " |  \n",
      " |  __new__(cls, *args, **kwargs)\n",
      " |  \n",
      " |  ----------------------------------------------------------------------\n",
      " |  Data descriptors inherited from traitlets.traitlets._NewBase:\n",
      " |  \n",
      " |  __dict__\n",
      " |      dictionary for instance variables (if defined)\n",
      " |  \n",
      " |  __weakref__\n",
      " |      list of weak references to the object (if defined)\n",
      "\n"
     ]
    }
   ],
   "source": [
    "help(widgets.Dropdown)\n"
   ]
  },
  {
   "cell_type": "markdown",
   "metadata": {
    "collapsed": true
   },
   "source": [
    "----"
   ]
  },
  {
   "cell_type": "markdown",
   "metadata": {},
   "source": [
    "\n",
    "## Accessing help"
   ]
  },
  {
   "cell_type": "code",
   "execution_count": null,
   "metadata": {
    "collapsed": false,
    "scrolled": false
   },
   "outputs": [],
   "source": [
    "help(PMOD_OLED)"
   ]
  },
  {
   "cell_type": "code",
   "execution_count": null,
   "metadata": {
    "collapsed": true
   },
   "outputs": [],
   "source": [
    "oled.clear()"
   ]
  },
  {
   "cell_type": "code",
   "execution_count": null,
   "metadata": {
    "collapsed": false
   },
   "outputs": [],
   "source": [
    "help(plt.bar)"
   ]
  },
  {
   "cell_type": "markdown",
   "metadata": {
    "collapsed": true
   },
   "source": [
    "## PYNQ Documentation"
   ]
  },
  {
   "cell_type": "markdown",
   "metadata": {},
   "source": [
    "[Link to PYNQ docs](http://pynq_pl:9090/files/docs/1_pynq.html)"
   ]
  },
  {
   "cell_type": "markdown",
   "metadata": {},
   "source": [
    "### References\n",
    "\n",
    "* [Matplotlib Gallery](http://matplotlib.org/gallery.html)"
   ]
  },
  {
   "cell_type": "markdown",
   "metadata": {},
   "source": [
    "----"
   ]
  },
  {
   "cell_type": "markdown",
   "metadata": {},
   "source": [
    "## Exploring the target set-up"
   ]
  },
  {
   "cell_type": "markdown",
   "metadata": {},
   "source": [
    "### Verify that we are running on the Zynq's ARM A9 CPUs ..."
   ]
  },
  {
   "cell_type": "code",
   "execution_count": null,
   "metadata": {
    "collapsed": false
   },
   "outputs": [],
   "source": [
    "!cat /proc/cpuinfo"
   ]
  },
  {
   "cell_type": "markdown",
   "metadata": {},
   "source": [
    "### Check CPU speed ..."
   ]
  },
  {
   "cell_type": "code",
   "execution_count": null,
   "metadata": {
    "collapsed": false
   },
   "outputs": [],
   "source": [
    "!lscpu | grep 'max MHz'"
   ]
  },
  {
   "cell_type": "markdown",
   "metadata": {},
   "source": [
    "### Verify our device's network status ...¶"
   ]
  },
  {
   "cell_type": "code",
   "execution_count": null,
   "metadata": {
    "collapsed": false
   },
   "outputs": [],
   "source": [
    "!ifconfig eth0"
   ]
  },
  {
   "cell_type": "markdown",
   "metadata": {},
   "source": [
    "### Confirm local hostname"
   ]
  },
  {
   "cell_type": "code",
   "execution_count": null,
   "metadata": {
    "collapsed": false
   },
   "outputs": [],
   "source": [
    "!hostname"
   ]
  },
  {
   "cell_type": "markdown",
   "metadata": {},
   "source": [
    "### Verify Linux version ..."
   ]
  },
  {
   "cell_type": "code",
   "execution_count": null,
   "metadata": {
    "collapsed": false
   },
   "outputs": [],
   "source": [
    "!cat /etc/os-release | grep VERSION"
   ]
  },
  {
   "cell_type": "markdown",
   "metadata": {},
   "source": [
    "----"
   ]
  },
  {
   "cell_type": "markdown",
   "metadata": {},
   "source": [
    "### Confirm Python version, platform and path settings"
   ]
  },
  {
   "cell_type": "code",
   "execution_count": null,
   "metadata": {
    "collapsed": false
   },
   "outputs": [],
   "source": [
    "import sys\n",
    "\n",
    "print('\\nPython Version:\\n {} \\n\\nPython Platform:\\n{}\\n'.format(sys.version, sys.platform))\n",
    "\n",
    "print ('Python path settings:')\n",
    "for path_entry in sys.path:\n",
    "    print(path_entry)"
   ]
  },
  {
   "cell_type": "code",
   "execution_count": null,
   "metadata": {
    "collapsed": true
   },
   "outputs": [],
   "source": [
    "Widget Javascript not detected.  It may not be installed properly. Did you enable the widgetsnbextension? If not, then run \"jupyter nbextension enable --py --sys-prefix widgetsnbextension\""
   ]
  },
  {
   "cell_type": "code",
   "execution_count": null,
   "metadata": {
    "collapsed": false
   },
   "outputs": [],
   "source": [
    "!pip list\n"
   ]
  },
  {
   "cell_type": "code",
   "execution_count": null,
   "metadata": {
    "collapsed": true
   },
   "outputs": [],
   "source": []
  }
 ],
 "metadata": {
  "kernelspec": {
   "display_name": "Python 3",
   "language": "python",
   "name": "python3"
  },
  "language_info": {
   "codemirror_mode": {
    "name": "ipython",
    "version": 3
   },
   "file_extension": ".py",
   "mimetype": "text/x-python",
   "name": "python",
   "nbconvert_exporter": "python",
   "pygments_lexer": "ipython3",
   "version": "3.4.3+"
  },
  "widgets": {
   "state": {
    "000390ee5394451998a1183f148d7bd2": {
     "views": []
    },
    "01db8b5fe19d4b8280b00870d8bb8529": {
     "views": []
    },
    "022d8b8cb3304a25a17365126af7e756": {
     "views": []
    },
    "024a41e5fba548ceb03af6e8ca497d11": {
     "views": []
    },
    "03f8bbe5f4f64c8e939179b1474f6025": {
     "views": []
    },
    "047b624bc8da4a958f9c1fe1c6a739a6": {
     "views": []
    },
    "04fe73e5c9e840adb59185bc666daa40": {
     "views": []
    },
    "0543f778ef04424bb574e1efa6ea8c5a": {
     "views": []
    },
    "06f27fc951e144129b27c1299867649d": {
     "views": [
      {
       "cell_index": 31
      }
     ]
    },
    "0797e1a3599d45de98349850665b229e": {
     "views": []
    },
    "08b1519d940849cf90bb24766302f8f9": {
     "views": []
    },
    "09a3317d7ffb4279bcd6763be593ea1a": {
     "views": []
    },
    "0c3d7a1ce2e3490c94b3599ce29ced3a": {
     "views": []
    },
    "0c453dccdfd04fe7b5301ba6f3ebe997": {
     "views": []
    },
    "0db8be871a924ebc93e8518c0a8b551e": {
     "views": []
    },
    "0e33112e285145c8abb009d1cd32e213": {
     "views": []
    },
    "10939f8dfb934ab7bc76014a9991b4d4": {
     "views": []
    },
    "134734886be346f38d248fcf59617057": {
     "views": []
    },
    "1421afe70a0b4605ac0b61383c1f192b": {
     "views": []
    },
    "16c52a70c7954365bd11b7c952d220d7": {
     "views": []
    },
    "16d48a5a43db4ad6b42e39c3fe7c246d": {
     "views": []
    },
    "16f0ae60a5494b7081d96b656892a5c0": {
     "views": [
      {
       "cell_index": 32
      }
     ]
    },
    "183cad9cc2bf496f8be15744f395cdb4": {
     "views": []
    },
    "1917836e070242c8a209dcf0c13fa18d": {
     "views": []
    },
    "195d5830618b4e0da24643fd96f386d8": {
     "views": [
      {
       "cell_index": 32
      }
     ]
    },
    "19d2ad4b88244a5d80ac8505514a8463": {
     "views": []
    },
    "1a1b25ca99b14480aabd14b0a260dcef": {
     "views": []
    },
    "1a6178bbb1324779906d59e7c1c0c30f": {
     "views": []
    },
    "1a7c79a5d382460f83c38caea5991119": {
     "views": []
    },
    "1ac61710899a42a9ad6dda40f5a2f02b": {
     "views": []
    },
    "1b219b4b406f41f59ac85b70728122d3": {
     "views": []
    },
    "1bbaf415f65547589069a8bb1cf6ca46": {
     "views": [
      {
       "cell_index": 32
      },
      {
       "cell_index": 32
      }
     ]
    },
    "1be88ddad9664877b316b067b0b7abf6": {
     "views": []
    },
    "1c26c88b1b584be4a14db75966030ba0": {
     "views": []
    },
    "1cc4290e239e41d99e32f168ba3b915e": {
     "views": [
      {
       "cell_index": 32
      }
     ]
    },
    "1d678a9488294308ac7d0d9ac4e086ec": {
     "views": []
    },
    "2141f652ed274e48a1f2ce92cadbac8e": {
     "views": []
    },
    "228317773f5f42bd8d059dfcd829d3fe": {
     "views": []
    },
    "246e67fffe2b4ca4a6a9b0b69e5e4550": {
     "views": []
    },
    "2651a56a1412474e81fb4cf4ecb5b0d2": {
     "views": []
    },
    "27327d8f85924b31aa00138102c81eb4": {
     "views": []
    },
    "28480af228c54e91958c419a1cc13507": {
     "views": []
    },
    "28903f2cc79c48de8c63b0b3ce114811": {
     "views": []
    },
    "29734f314f6f40b6876ab9912c67222e": {
     "views": []
    },
    "2b2b06fbb2364a95aeccee779c8b4e0b": {
     "views": []
    },
    "2c779bc381b14b1099d3d592b798e264": {
     "views": [
      {
       "cell_index": 32
      }
     ]
    },
    "2f41706612584e3db2a5faa544eba9a9": {
     "views": []
    },
    "2f4374229cf4453ba2b032ed9f0011da": {
     "views": []
    },
    "308eb97168a74e1095efb0e7d8f0f694": {
     "views": []
    },
    "30ab4e494cbf4a7b8aefd216e140fcda": {
     "views": [
      {
       "cell_index": 32
      }
     ]
    },
    "3634dd1dbec04c04bc1ba45f53794110": {
     "views": []
    },
    "36d691c2d36c4035b92edd9d8d090347": {
     "views": []
    },
    "37d5c76afa044db6944299839c92c2e0": {
     "views": []
    },
    "392774052e854738970899084dd43088": {
     "views": []
    },
    "3a6d31a8b218482aa565c66142151cf3": {
     "views": []
    },
    "3a8b917a44e744fa9dda21adc1e73645": {
     "views": []
    },
    "3b1dc04711754fda832539e13cb90677": {
     "views": []
    },
    "3be4937d95464d2e90644497d16f8ff1": {
     "views": []
    },
    "3d070c572fc5425cbf92e4467e2fb1c4": {
     "views": []
    },
    "3e287554773b430db7f2942d75bf3472": {
     "views": []
    },
    "3fb2f411f91d49ac9d0e957356d113b1": {
     "views": []
    },
    "41eee537d6e248018bf3e59f671ab892": {
     "views": [
      {
       "cell_index": 32
      }
     ]
    },
    "4291be47c15d47eaba31bb4f90b47bb4": {
     "views": [
      {
       "cell_index": 29
      }
     ]
    },
    "42d2cc640cec4b7fa1653b7fc729f69d": {
     "views": []
    },
    "44faa3cdbe80470eae9ff8aff7d0ec36": {
     "views": []
    },
    "456ac3c7f0564ed79a1c20f4f042a11d": {
     "views": []
    },
    "45ca044ad1b84af691fb4b8f5bce64a4": {
     "views": []
    },
    "47dfadbed9cb4f5b8be5614abee3ee86": {
     "views": []
    },
    "489bf0e824f34ccbb8c30a25747da915": {
     "views": [
      {
       "cell_index": 32
      }
     ]
    },
    "48c81c46dea24c75a5d7795a9b36ba94": {
     "views": []
    },
    "497eec9d5e864df4b1726fea2d2d6d43": {
     "views": []
    },
    "4a13c79f7d5a403d9ad7b392367935c9": {
     "views": []
    },
    "4a1890e69f4147a0a44fcaec4361f4b3": {
     "views": []
    },
    "4a8791b9164f4904b073bfd5bdbbf3b8": {
     "views": [
      {
       "cell_index": 32
      }
     ]
    },
    "4b4eeb5b70214c36ba3b59344c17fa46": {
     "views": []
    },
    "4b6e509e98dd471dae7be09dd4371df9": {
     "views": []
    },
    "4bbd774bf1dc47599c42f8fcdd915483": {
     "views": []
    },
    "4c0a169334084821befc87b0899485d4": {
     "views": []
    },
    "4d883d568a564e1a9a639b11da20c2eb": {
     "views": [
      {
       "cell_index": 32
      }
     ]
    },
    "4ddb5897c60949019fc44399ebca1457": {
     "views": []
    },
    "4e432745533d41bb812720d3b0a505d0": {
     "views": []
    },
    "4e88e6d5fa1d4353a84312cf770f8bf3": {
     "views": []
    },
    "519884ed5b6f4a068296c34788eec0ad": {
     "views": []
    },
    "51ab8fc0749d4172a1b6259a9691e464": {
     "views": []
    },
    "523869aa359d40619a76fe00f26681d4": {
     "views": [
      {
       "cell_index": 27
      }
     ]
    },
    "52c935e3fb834385980a4d2c4d7e4aba": {
     "views": []
    },
    "52d6c602246b46f98a262c3775322f1a": {
     "views": []
    },
    "5372b49d1923438da8d1dd016cca46bb": {
     "views": []
    },
    "56158499da2a483bb94bd7eea9ddff24": {
     "views": []
    },
    "56ae9c2caa5f4739973c9b0376dbc4c9": {
     "views": []
    },
    "57a939ce9d904e7cb727a2c6c9c4c81b": {
     "views": []
    },
    "57acdf4f574f482abe03f1078e84beb4": {
     "views": []
    },
    "5810afbb84444a528bb5bef292220330": {
     "views": []
    },
    "583feb7da1b44376a2c758a162237de9": {
     "views": []
    },
    "5880a2430a914fd38de5f5e756273073": {
     "views": []
    },
    "589bc37486e14b5c90bb86dfc8d4c2b5": {
     "views": []
    },
    "58f8b47ed83c4c7ba3e5ffff3fb1f34e": {
     "views": []
    },
    "59e8d597d7564c1b9e2adc83c00d6d15": {
     "views": []
    },
    "5ac2740c2b854baaba158d1e83be4b14": {
     "views": []
    },
    "5b9c9fe5acc04aecb9fd8bd76d8827bf": {
     "views": []
    },
    "5cb8523390b64c3f8ce206666a53bc94": {
     "views": []
    },
    "5cbad655d5bb4bc3ad833e00ca7d061b": {
     "views": []
    },
    "5dc017f4a6e141308735ac95c81ef234": {
     "views": []
    },
    "5dd477e57e4b40a9b6e4500e4cc0fce8": {
     "views": []
    },
    "5f34075f5d4b41598810cb1d03b1bc26": {
     "views": []
    },
    "5f575d4499e447feabb74acdae2f38d2": {
     "views": []
    },
    "5f79d99a27964b73b4045f5ec67a443e": {
     "views": []
    },
    "5fee923eb265458580a922590fe238de": {
     "views": []
    },
    "6103dee70fd24cfea3603edcf6f9c490": {
     "views": []
    },
    "62a01254f9d444e8aea92311da56fe46": {
     "views": []
    },
    "638ad9b96cfb4e41b6aadd12b6b1a443": {
     "views": []
    },
    "65821cc81f9a4f29a4c64cb6ce2614e1": {
     "views": []
    },
    "66f23cffaef54c0193530de99b12c7db": {
     "views": []
    },
    "68741751be38424c9fa8e2ed28bd817a": {
     "views": []
    },
    "68a012acbb3d460092603239194ce38c": {
     "views": []
    },
    "695cd3d7e06c4b5e9522b5eb735a5ad9": {
     "views": []
    },
    "6a1cbdb9f83044e983ed379b4958788d": {
     "views": []
    },
    "6b18a382f4574482ae5ffd4e9f8210e1": {
     "views": []
    },
    "6bf952dc75454a42a999712fe6e57093": {
     "views": []
    },
    "6c99a3ccbc184eb1abac979aa407b3f5": {
     "views": []
    },
    "6e1029b2b3cc4dc1a3c1d451ff396b2c": {
     "views": []
    },
    "6ef386ac60cb40be8fb1f1371fc0bf95": {
     "views": []
    },
    "6f3f53632d4f42cc81da3e6f8638f300": {
     "views": []
    },
    "7024013dcbff4de2a1635f5a4eca99bd": {
     "views": [
      {
       "cell_index": 32
      }
     ]
    },
    "711a8884b2b447fa809fbfc2c608d7b4": {
     "views": []
    },
    "7151c29a3c30495c83d19eeb22af55b7": {
     "views": []
    },
    "729163edf47b40268725cfc14d4911bc": {
     "views": []
    },
    "74de56899898404e9e6df1e3697a7585": {
     "views": []
    },
    "752630faff2847ff9c9a50bdc6a9a49b": {
     "views": []
    },
    "770577ef13b14085b9d1714e75a5cda0": {
     "views": []
    },
    "79209509f59d43429e2ae252b8ed0980": {
     "views": []
    },
    "79f2a477524f42f99134d7f3eb94ab44": {
     "views": []
    },
    "7a178933dfef4c008afa2692c98f3353": {
     "views": []
    },
    "7a1f974e1705408da5c65479e54dcbba": {
     "views": []
    },
    "7b5062d78cc845b9b8c4180bd76e0c25": {
     "views": [
      {
       "cell_index": 31
      }
     ]
    },
    "7b56966ba2924e1d8092849cd8b4a2ec": {
     "views": []
    },
    "7d1606392272445f9711d07112d5386a": {
     "views": []
    },
    "7dcbb2dadaee46c29682cb1e8e27c340": {
     "views": []
    },
    "7e6859d2174b49549178dadb99423e8f": {
     "views": []
    },
    "7efa28c8e6fc44da97f3d15f18cef3c2": {
     "views": []
    },
    "807b39e0f77543cd9d12d53a8bc8045c": {
     "views": [
      {
       "cell_index": 32
      }
     ]
    },
    "83728e8d5b92438ab319837b578ba75e": {
     "views": []
    },
    "838730cfe6874c5daac6355e2a76bb8f": {
     "views": []
    },
    "84e998f3b3aa4ea9a130822d674e28ce": {
     "views": []
    },
    "853e5d1e3e974142b5ac18d694933ad1": {
     "views": []
    },
    "871d20ac68b948e0af260020014f9e11": {
     "views": []
    },
    "8aa2606342794f5ea332def53190d369": {
     "views": []
    },
    "8acbb08e64824044b37682eab7de160e": {
     "views": []
    },
    "8bde2622c3964bed8bee9188293c3aab": {
     "views": []
    },
    "8d47eafcfb0e4f42aa47f009a2b33079": {
     "views": []
    },
    "8f05f5e1f7a24bf3ae01d37d712adb7c": {
     "views": []
    },
    "902dd073dda645449e0f1ba755c2c72b": {
     "views": []
    },
    "9138b39c6d8048aa930456367b8bd7f0": {
     "views": []
    },
    "91b5216d4af343919605ad18866a4c3b": {
     "views": [
      {
       "cell_index": 32
      }
     ]
    },
    "924e5dbf02484f5bb1d689a532435f60": {
     "views": [
      {
       "cell_index": 32
      },
      {
       "cell_index": 32
      }
     ]
    },
    "93e55952838a4f818811f4f6ba5aac88": {
     "views": [
      {
       "cell_index": 32
      }
     ]
    },
    "94474cad52d3471aa84282d931eafeea": {
     "views": []
    },
    "960265e24f4a4154bc5aa4e4b8e9f082": {
     "views": []
    },
    "961d7dd81e034cdd866b671f7827c668": {
     "views": []
    },
    "9679f28638c84e4ea95e529936d648de": {
     "views": []
    },
    "974877dad6784dc4bcd090c7936e7dcf": {
     "views": []
    },
    "9819ae12a0dd4474bcb489bc52681a8b": {
     "views": []
    },
    "98388f607c5343699fb50344fdaea08b": {
     "views": [
      {
       "cell_index": 32
      }
     ]
    },
    "984977e758ff421db15873595e1ff8ea": {
     "views": []
    },
    "997cecf3fa964770ba871dc4a93fd38c": {
     "views": []
    },
    "99ed7eec742d44f199648ecf1adb0447": {
     "views": []
    },
    "99f3bd17f38b48de9d89dcc1e192d757": {
     "views": []
    },
    "9a193615b7e041a3898bd66bec42ee9a": {
     "views": [
      {
       "cell_index": 29
      }
     ]
    },
    "9bb0f32e309b474a9f8b0d779140773a": {
     "views": []
    },
    "9bcfdbdd3e3a4d7e8a9836fab57b4647": {
     "views": []
    },
    "9c0c231dcf2e444fb104a53b443c946c": {
     "views": []
    },
    "9c68c798119f4710a072cb3ed7c1c0c6": {
     "views": []
    },
    "9cddd1872c37401980d0def178377219": {
     "views": []
    },
    "9cecffab883b4c678feda384d506d35d": {
     "views": []
    },
    "9e63df177fd940e99f4732fb403dc924": {
     "views": []
    },
    "9f0e67c597fd4fc5b35252d2341b8521": {
     "views": []
    },
    "9fc716c718ba4c458e2259ca3194f88c": {
     "views": []
    },
    "a1239b8f54f74bdf98ec523111627f09": {
     "views": []
    },
    "a24ce16973ab44c9adfb1219e0f475dc": {
     "views": [
      {
       "cell_index": 31
      }
     ]
    },
    "a3c5b87da689419c965fe86f88f9e76d": {
     "views": []
    },
    "a410fb972aa44d9b8d449e27ac3862ca": {
     "views": []
    },
    "a60009d4c2464dc1a85d04d914e14006": {
     "views": []
    },
    "a6ce4a13bc1a4ba5852c508433774c0e": {
     "views": []
    },
    "a76acc3dbe29492bbc89f75e6cc49ccc": {
     "views": []
    },
    "a8729c05c06d4d8eb989336d77a14536": {
     "views": [
      {
       "cell_index": 32
      }
     ]
    },
    "a9415047f8ee40febba25f0e7054df36": {
     "views": [
      {
       "cell_index": 31
      }
     ]
    },
    "aadd1a0abd324c83be9c4e6e869cd885": {
     "views": []
    },
    "ab4f770cc0874e73b63c0c5d9e6f2ebb": {
     "views": []
    },
    "ac4ec90f81a14b12b864323074b45c6a": {
     "views": []
    },
    "ae21c29b0f294a5197183d8d5e931993": {
     "views": []
    },
    "ae4f508d913f40c7ad4caab8bbc9489f": {
     "views": []
    },
    "aeae35c1c3e34aa198936954540cdb47": {
     "views": []
    },
    "af43c1d6954442608990b8359d89697e": {
     "views": []
    },
    "af8bedb81f8f4aa8944471a15b9c7976": {
     "views": [
      {
       "cell_index": 32
      }
     ]
    },
    "b10c9b3732144522a9d95f060458fb88": {
     "views": []
    },
    "b284082ee716412e87ee82d51c15337c": {
     "views": []
    },
    "b29bec07b10248b4bce5d735d2014fb3": {
     "views": []
    },
    "b48204d696ab4e4fa4a686bdc1449745": {
     "views": []
    },
    "b6258d1b7d88447592c4904591f44b41": {
     "views": [
      {
       "cell_index": 31
      }
     ]
    },
    "b72bba91dc9a4e5881ca28e4262c612a": {
     "views": []
    },
    "b82ceafbe7964562be200a2e7ec129ae": {
     "views": []
    },
    "b8571326cb8643cfb5952a9dfe32b73b": {
     "views": []
    },
    "b88965708bc44756868f7c1f22e66772": {
     "views": [
      {
       "cell_index": 31
      }
     ]
    },
    "b98cc090ef094d3f8769053186c81eb7": {
     "views": []
    },
    "ba177abe179f4a139566c5053e17a39a": {
     "views": []
    },
    "ba2413b078544191a02599fd1360bd84": {
     "views": []
    },
    "ba2b94c01aac48d1a65f2410e3026fae": {
     "views": []
    },
    "bb5a37f8538f403dab6fdab797427895": {
     "views": []
    },
    "bc53912087314463b558ad2d64dc65a7": {
     "views": []
    },
    "bccd9158f1a545c9b4d848c882f9b2ee": {
     "views": []
    },
    "bcf5d63814bd41ab9a2fe265fe65909a": {
     "views": []
    },
    "bd22144110e744c28653dc5988177a03": {
     "views": []
    },
    "bd6cc48615be48a2ae9cc8b28a4b6d34": {
     "views": []
    },
    "be646d2135a342339d95041c270e5523": {
     "views": []
    },
    "beb522c1a82546c7a5336bfd8c0db8a1": {
     "views": []
    },
    "bf99b3e8e6974345995fe4eca7e4589e": {
     "views": []
    },
    "bfda1639e8854bb78cdadffa9cb520a0": {
     "views": []
    },
    "c028e09844fa4efba9705c9bf9d731fc": {
     "views": [
      {
       "cell_index": 32
      }
     ]
    },
    "c0993720108642a4ad49d915ad2296de": {
     "views": []
    },
    "c1225e29973b48adbb0db9164ae4c2f5": {
     "views": []
    },
    "c18d5d697be84afdbd16c9788d0217e6": {
     "views": [
      {
       "cell_index": 31
      }
     ]
    },
    "c1b412f9838e434ca61bd0bfd6e3adff": {
     "views": []
    },
    "c1fbd4d7d5354076b29f91ccccb25b9d": {
     "views": []
    },
    "c290d55ccf3b4b5084add17d1fe7a2dd": {
     "views": []
    },
    "c3e1798bc9a34cd8b30e122dc83339e0": {
     "views": []
    },
    "c47e43bcd9cd4a21967816a6710b2ba7": {
     "views": []
    },
    "c5168fdfcb694c47a7aa262693d583f2": {
     "views": []
    },
    "c74614314d2944d09ae9ac99cdcfded4": {
     "views": []
    },
    "c763e07230764e1aa962ad335d2bc085": {
     "views": []
    },
    "c7c08b4694eb4546990762eeb668548b": {
     "views": []
    },
    "c872cce47262426790e8cc25dd7f9688": {
     "views": []
    },
    "cc7ef3093ae849efb34e233771922585": {
     "views": []
    },
    "ce5e30b60a8943f8b51a44c1b84c2251": {
     "views": []
    },
    "d0971394a7224e068bfba9bd15c9f64c": {
     "views": []
    },
    "d19c52cc1e954355ab404cc2a401c742": {
     "views": []
    },
    "d23291834a014a2c9e2f43352abf021d": {
     "views": []
    },
    "d33fb08477ff4d979213ab4dae554eca": {
     "views": []
    },
    "d3773b9abbd44c6b828bc32face651be": {
     "views": []
    },
    "d3fefd8a53fe45d8b504f0d595776f45": {
     "views": []
    },
    "d54482f44c8d459097c02905fd4a7701": {
     "views": []
    },
    "d649bf38357146ef8181580fd9b5a55d": {
     "views": []
    },
    "d697d051afac4791a0cd83b1cda24f56": {
     "views": [
      {
       "cell_index": 31
      }
     ]
    },
    "d6a3ef6de05446b2b0c805e722ff974e": {
     "views": []
    },
    "d96d59a7215b45b0b3ab733f8baf2d9e": {
     "views": []
    },
    "da2613b7051048b4ae36e7749c579d51": {
     "views": []
    },
    "db1367ce54d94fd9b5d6a2a7011a40aa": {
     "views": []
    },
    "dbd35f5f5dac4874af56c91c84da6880": {
     "views": []
    },
    "dc42b527da2c4ef6b0b7a1ecc5f0fcc7": {
     "views": []
    },
    "dc46f904911442c89c433f92afa9207f": {
     "views": [
      {
       "cell_index": 32
      }
     ]
    },
    "dd39e6b5a46a49bea2092d544210b284": {
     "views": []
    },
    "e1a87adb13864592b3e1e7cfc13c87f3": {
     "views": []
    },
    "e1c4f98ea5b5458f8f2185ad29abc2cd": {
     "views": [
      {
       "cell_index": 32
      }
     ]
    },
    "e26197a82e3c457bb816b5120ceb168f": {
     "views": []
    },
    "e4ce53bedebb4fdcb26fdbdb69527584": {
     "views": []
    },
    "e8dbf21100c144c6bb76a1f27ad72543": {
     "views": []
    },
    "e8e064e2ae7e40059b5cdbbf530b751c": {
     "views": []
    },
    "e90c39a93b8d43718965c1db3fc00bc4": {
     "views": []
    },
    "ec241b794a0b48bfa943a3fc228576e8": {
     "views": []
    },
    "ed2f1dc90eaf46a69accc883a5187cf6": {
     "views": []
    },
    "eddca09233ba4c6dae576ee4e5b220b8": {
     "views": []
    },
    "ee4d600cae6f474285a559ab4c1773bd": {
     "views": []
    },
    "ef35d5cdd28c42af8c2c0da02bdc4112": {
     "views": []
    },
    "f0426672e9f44f7aa7ba5cd40b0d0e11": {
     "views": []
    },
    "f0b83bb653a34bdea8d5fe07b0bab405": {
     "views": []
    },
    "f0e7c20e74e4407e93af9bac49180b2f": {
     "views": []
    },
    "f1fc7867bb9a42f7a4489a7abcf5b9e2": {
     "views": []
    },
    "f418d69b18224726a0fa4e7310a3d62f": {
     "views": []
    },
    "f51ad0765d584da98f1e6f1445c225b0": {
     "views": []
    },
    "f540b93059d344b8a6788e6f71137adf": {
     "views": []
    },
    "f60fb59c804c4dc9b3d1818c34c4b602": {
     "views": []
    },
    "f76a820059d34696a15f8ffd91b6f0c0": {
     "views": []
    },
    "f79bb4de63b64f02a2f0f3d72f613c21": {
     "views": []
    },
    "f933baa4219a4c5e9254d2cef5ce2df1": {
     "views": []
    },
    "f9b7304e956d4de58694c5ed49525997": {
     "views": []
    },
    "fcbf27432c8a46ebb1a25aa5ccfd374a": {
     "views": []
    },
    "fcd81ea3f06d441b8ea401a22348f14f": {
     "views": [
      {
       "cell_index": 31
      }
     ]
    }
   },
   "version": "1.1.2"
  }
 },
 "nbformat": 4,
 "nbformat_minor": 1
}
