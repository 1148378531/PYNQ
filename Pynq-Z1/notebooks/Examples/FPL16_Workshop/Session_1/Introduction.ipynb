{
 "cells": [
  {
   "cell_type": "markdown",
   "metadata": {},
   "source": [
    "# FPL 2016 PYNQ Workshop"
   ]
  },
  {
   "cell_type": "markdown",
   "metadata": {},
   "source": [
    "### Lausanne, 3 Sept 2016"
   ]
  },
  {
   "cell_type": "markdown",
   "metadata": {},
   "source": [
    "## Contents\n"
   ]
  },
  {
   "cell_type": "markdown",
   "metadata": {},
   "source": [
    "* [Welcome](#Welcome)\n",
    "\n",
    "\n",
    "* [Goals](#Goals)\n",
    "\n",
    "\n",
    "* [Organization](#Organization)\n",
    "\n",
    "\n",
    "* [References](#References)\n",
    "\n"
   ]
  },
  {
   "cell_type": "markdown",
   "metadata": {},
   "source": [
    "----"
   ]
  },
  {
   "cell_type": "markdown",
   "metadata": {},
   "source": [
    "## Welcome"
   ]
  },
  {
   "cell_type": "markdown",
   "metadata": {},
   "source": [
    "### Introductions"
   ]
  },
  {
   "cell_type": "markdown",
   "metadata": {},
   "source": [
    "#### Patrick Lysaght, Xilinx, San Jose\n",
    "* plysaght@xilinx.com\n",
    "    \n",
    "\n",
    "#### Cathal McCabe, Xilinx, Dublin\n",
    "* cmccabe@xilinx.com\n",
    "    \n"
   ]
  },
  {
   "cell_type": "markdown",
   "metadata": {},
   "source": [
    "----\n",
    "\n",
    "[Contents](#Contents)\n",
    "\n",
    "----"
   ]
  },
  {
   "cell_type": "markdown",
   "metadata": {},
   "source": [
    "## Goals"
   ]
  },
  {
   "cell_type": "markdown",
   "metadata": {},
   "source": [
    "----\n",
    "\n",
    "[Contents](#Contents)\n",
    "\n",
    "----"
   ]
  },
  {
   "cell_type": "markdown",
   "metadata": {},
   "source": [
    "## Organization"
   ]
  },
  {
   "cell_type": "markdown",
   "metadata": {},
   "source": [
    "### Outline of the day"
   ]
  },
  {
   "cell_type": "markdown",
   "metadata": {},
   "source": [
    "|   Time         | Workshop                                           |\n",
    "|----------------|----------------------------------------------------|\n",
    "| 8.30 - 9.00    | _Registration_                                     |\n",
    "| 9.00 - 10.30   | __Session 1:__                                     |\n",
    "|                | Overview, organization, goals, equipment setup     |\n",
    "|                | Hands-on: Jupyter Notebook, Python code            |\n",
    "| 10.30 - 11.00  | _Coffee_                                           |                                        \n",
    "| 11.00 - 12.30  | __Session 2:__                                     |\n",
    "|                | Base overlay, IOP                                  |\n",
    "|                | Hands-on: Pmod ADC & DAC, Pmod-to-Grove adapter    |\n",
    "| 12.30 - 14.15  | _Lunch_                                            |\n",
    "| 14.15 - 15.30  | __Session 3:__                                     |\n",
    "|                | Advanced notebook features                         |\n",
    "|                | Hands-on: Arduino-Grove shield, AV                 |\n",
    "| 15.30 - 16.00  | _Coffee_                                           |\n",
    "| 16.30 - 17.30  | __Session 4:__                                     |\n",
    "|                | Choice of Intermediate Labs                        |\n",
    "|                | Hands-on: CFFI, Hardware introspection, debug,     |\n",
    "|                | Jupyter Labs                                       |\n",
    "|                | __Feedback / survey__                              |\n",
    "\n",
    "\n"
   ]
  },
  {
   "cell_type": "markdown",
   "metadata": {},
   "source": [
    "----\n",
    "\n",
    "[Contents](#Contents)\n",
    "\n",
    "----"
   ]
  },
  {
   "cell_type": "markdown",
   "metadata": {},
   "source": [
    "## PYNQ: Python on Zynq"
   ]
  },
  {
   "cell_type": "markdown",
   "metadata": {},
   "source": [
    "### Vision"
   ]
  },
  {
   "cell_type": "markdown",
   "metadata": {},
   "source": [
    "__*Make the benefits of FPGAs more accessible to more people more easily*__\n",
    "\n",
    "\n",
    "\n",
    "* Especially in All Programmable SOCs such as ZYNQ  where processors and FPGAs are tightly integrated"
   ]
  },
  {
   "cell_type": "markdown",
   "metadata": {},
   "source": [
    "### Sources of Inspiration"
   ]
  },
  {
   "cell_type": "markdown",
   "metadata": {},
   "source": [
    "#### Open source software\n",
    "\n",
    "* Specifically\n",
    "    * Python/IPython\n",
    "    * IPython/Jupyter Notebooks\n",
    "    \n",
    "\n",
    "* More broadly:\n",
    "    * Markdown/Sphinx/Readthedocs\n",
    "    * Github\n",
    "    * StackOverflow"
   ]
  },
  {
   "cell_type": "markdown",
   "metadata": {},
   "source": [
    "### Python\n",
    "   "
   ]
  },
  {
   "cell_type": "markdown",
   "metadata": {},
   "source": [
    "* Design philosophy\n",
    "    * Productivity / ease-of-use\n",
    "    * Simplicity coupled with pragmatism\n",
    "* Libraries (PyPI)\n",
    "* Extensibility\n",
    "* Community \n",
    "* Governance (PEPs)\n"
   ]
  },
  {
   "cell_type": "markdown",
   "metadata": {},
   "source": [
    "### Ipython Jupyter Notebooks (formerly IPython Notebooks)"
   ]
  },
  {
   "cell_type": "markdown",
   "metadata": {},
   "source": [
    "* Literate programming/computing\n",
    "* Reproducible science, reproducible knowledge\n",
    "* Browser-centric focus\n",
    "    * The most powerful information display platform today\n",
    "* Reliance on open standards\n",
    "* Vision\n",
    "    * Jupyter Labs"
   ]
  },
  {
   "cell_type": "markdown",
   "metadata": {},
   "source": [
    " "
   ]
  },
  {
   "cell_type": "markdown",
   "metadata": {},
   "source": [
    "----\n",
    "\n",
    "[Contents](#Contents)\n",
    "\n",
    "----"
   ]
  },
  {
   "cell_type": "markdown",
   "metadata": {},
   "source": [
    "### References"
   ]
  },
  {
   "cell_type": "markdown",
   "metadata": {},
   "source": [
    "* IPython paper\n",
    "\n",
    "\n",
    "* Jupyter Notebook grant application\n",
    "\n",
    "\n",
    "* Literate Programmer\n",
    "\n",
    "\n",
    "* "
   ]
  },
  {
   "cell_type": "markdown",
   "metadata": {},
   "source": [
    "----\n",
    "\n",
    "[Contents](#Contents)\n",
    "\n",
    "----"
   ]
  },
  {
   "cell_type": "code",
   "execution_count": null,
   "metadata": {
    "collapsed": true
   },
   "outputs": [],
   "source": []
  }
 ],
 "metadata": {
  "kernelspec": {
   "display_name": "Python 3",
   "language": "python",
   "name": "python3"
  },
  "language_info": {
   "codemirror_mode": {
    "name": "ipython",
    "version": 3
   },
   "file_extension": ".py",
   "mimetype": "text/x-python",
   "name": "python",
   "nbconvert_exporter": "python",
   "pygments_lexer": "ipython3",
   "version": "3.4.3+"
  }
 },
 "nbformat": 4,
 "nbformat_minor": 1
}
