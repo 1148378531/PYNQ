{
 "cells": [
  {
   "cell_type": "markdown",
   "metadata": {},
   "source": [
    "# Welcome to Pynq\n",
    "\n",
    "----\n",
    "\n",
    "Please see <a href=\"docs/1_pynq.html\">Pynq Documentation</a> for a complete guide to <b>Py</b>thon on Zy<b>nq</b>. \n",
    "\n",
    "## Contents\n",
    "\n",
    "* [Quick Start](#Quick Start)\n",
    "* [Notebook Tips](#Notebook Tips)\n",
    "* [Going Further](#Going Further)\n",
    "\n",
    "----"
   ]
  },
  {
   "cell_type": "markdown",
   "metadata": {},
   "source": [
    "## Quick Start\n",
    "\n",
    "### Jupyter Notebooks\n",
    "\n",
    "This is a Jupyter Notebook. The Jupyter Notebook is a web application that allows you to create and share documents that contain live code, equations, visualizations and explanatory text. Uses include: data cleaning and transformation, numerical simulation, statistical modeling, machine learning and much more.\n",
    "\n",
    "A Notebook consists of cells that are used to write code, or to record explanatory notes and comments. Notebooks are working docuements that can be modified. It is good practice to save a copy of the original notebook before you start to edit. \n",
    "\n",
    "You can do this now from the file menu by selecting **Make a copy... **. Continue this guide from the new copy. \n",
    "\n",
    "----"
   ]
  },
  {
   "cell_type": "markdown",
   "metadata": {
    "collapsed": true
   },
   "source": [
    "### Python\n",
    "Click on the cell below and notice the dropdown menu in the toolbar shows that this is a Code cell. Execute the Python code by clicking **Cell** > **Run Cells** or press *Command + Enter*.\n"
   ]
  },
  {
   "cell_type": "code",
   "execution_count": 2,
   "metadata": {
    "collapsed": false
   },
   "outputs": [
    {
     "name": "stdout",
     "output_type": "stream",
     "text": [
      "1\n",
      "4\n",
      "9\n",
      "16\n",
      "25\n",
      "36\n",
      "49\n",
      "64\n"
     ]
    }
   ],
   "source": [
    "import time\n",
    "for i in range (1,9):\n",
    "    print(i*i)\n",
    "    time.sleep(0.5)"
   ]
  },
  {
   "cell_type": "markdown",
   "metadata": {},
   "source": [
    "Notice the output of the cell is printed below the cell. The notebook can be saved and shared with this output. "
   ]
  },
  {
   "cell_type": "markdown",
   "metadata": {},
   "source": [
    "### Notes, comments and Markdown\n",
    "You can write notes and comments using the <a href=\"https://en.wikipedia.org/wiki/Markdown\">Markdown Language</a>. \n",
    "\n",
    "This cell is a Markdown cell. Double click it now to see the raw markdown.\n",
    "\n",
    "This is **bold**, this is _italic_ and you can see how headings and sub-headings are indicated above using \"#\". You can also use <b>html</b> in markdown.\n",
    "\n",
    "Execute the cell to render the markdown. \n",
    "\n",
    "* Note in the dropdown box in the toolbar that this is a Markdown cell. \n",
    "\n",
    "----"
   ]
  },
  {
   "cell_type": "markdown",
   "metadata": {},
   "source": [
    "### Pynq Board\n",
    "\n",
    "Pynq can be used to control the FPGA fabric and the board peripherals. Execute the cell below and notice the LED toggling on the board"
   ]
  },
  {
   "cell_type": "code",
   "execution_count": 5,
   "metadata": {
    "collapsed": false
   },
   "outputs": [
    {
     "name": "stdout",
     "output_type": "stream",
     "text": [
      "Finished\n"
     ]
    }
   ],
   "source": [
    "from pynq.board import LED\n",
    "\n",
    "LED0 = LED(0)\n",
    "LED1 = LED(1)\n",
    "\n",
    "LED0.on()\n",
    "LED1.off()\n",
    "\n",
    "for i in range (1,9):\n",
    "    LED0.toggle()\n",
    "    LED1.toggle()\n",
    "    time.sleep(0.25)\n",
    "    \n",
    "print(\"Finished\")"
   ]
  },
  {
   "cell_type": "markdown",
   "metadata": {},
   "source": [
    "You can execute the cell repeatedly. Notice when a cell is executed that the test beside the cell shows In [*], and once it has finished, it will then have a number, indicating a history of execution. e.g. in [2]\n",
    "\n",
    "Also notice that *time* package was imported in the first code cell above, and was then available for use in the second code cell. Once package has been imported, it will remain in scope for all other code cells in the notebook. i.e. it does not need to be imported in each cell. "
   ]
  },
  {
   "cell_type": "markdown",
   "metadata": {},
   "source": [
    "----\n",
    "[Contents](#Contents)\n",
    "\n",
    "----"
   ]
  },
  {
   "cell_type": "markdown",
   "metadata": {},
   "source": [
    "## Notebook Tips\n",
    "### Shell commands\n",
    "You can execute shell commands by adding \"!\" to the start of a command:\n",
    "    "
   ]
  },
  {
   "cell_type": "code",
   "execution_count": 43,
   "metadata": {
    "collapsed": false
   },
   "outputs": [
    {
     "name": "stdout",
     "output_type": "stream",
     "text": [
      "Linux pynq_cmc 3.17.0-xilinx-dirty #8 SMP PREEMPT Wed Mar 30 08:43:08 PDT 2016 armv7l armv7l armv7l GNU/Linux\n",
      "root\n",
      "/home/xpp/jupyter_notebooks\n",
      "Examples  Untitled.ipynb  Welcome to Pynq-Copy1.ipynb  Welcome to Pynq.ipynb\n",
      "ping: unknown host www.xilinx.com\n"
     ]
    }
   ],
   "source": [
    "!uname -a\n",
    "!whoami\n",
    "!pwd\n",
    "!ls\n",
    "!ping www.xilinx.com"
   ]
  },
  {
   "cell_type": "markdown",
   "metadata": {},
   "source": [
    "### Limitations\n",
    "Any commands that require user input, or produce continuous output are not typically suitable for execution in a Jupyter Notebook. e.g. the Linux *top* command\n",
    "\n",
    "----"
   ]
  },
  {
   "cell_type": "markdown",
   "metadata": {},
   "source": [
    "### Cell Magics\n",
    "IPython has a set of predefined ‘magic functions’ that can be called. There are two types of magics; line and cell\n",
    "\n",
    "Line magics are prefixed with %. The rest of the line is passed as an argument. \n",
    "\n",
    "Cell magics are prefixed with a double %%. All following lines in a cell are passed as seperate arguments. "
   ]
  },
  {
   "cell_type": "markdown",
   "metadata": {},
   "source": [
    "### Useful cell magics\n",
    "\n",
    "* %timeit : time the execution of a line or a cell\n",
    "* %cd : change directory\n",
    "* %debug : debug code"
   ]
  },
  {
   "cell_type": "code",
   "execution_count": 35,
   "metadata": {
    "collapsed": false
   },
   "outputs": [
    {
     "name": "stdout",
     "output_type": "stream",
     "text": [
      "The slowest run took 4.11 times longer than the fastest. This could mean that an intermediate result is being cached.\n",
      "100000 loops, best of 3: 3.32 µs per loop\n"
     ]
    }
   ],
   "source": [
    "# Time the execution of the code on the same line\n",
    "%timeit max(0.1,0.2,0.3,0.4,0.5)"
   ]
  },
  {
   "cell_type": "code",
   "execution_count": 40,
   "metadata": {
    "collapsed": false
   },
   "outputs": [
    {
     "name": "stdout",
     "output_type": "stream",
     "text": [
      "1000 loops, best of 3: 311 µs per loop\n"
     ]
    }
   ],
   "source": [
    "%%timeit\n",
    "# timeit will execute the code in the cell 1000 times, repeated 3 times, and try to measure the minimum execution time\n",
    "i = 0\n",
    "for i in range (0, 500):\n",
    "   i = i+1 "
   ]
  },
  {
   "cell_type": "markdown",
   "metadata": {},
   "source": [
    "----"
   ]
  },
  {
   "cell_type": "markdown",
   "metadata": {},
   "source": [
    "### Sharing Notebooks\n",
    "Notebooks can be downloaded (from the File Menu) in .ipynb format for use with Jupyter notebook on another machine. They can also be saved in other formats for sharing and distributing results. e.g. HTML webpage. \n",
    "\n",
    "When you are finished working with a notebook, you should Close and Halt it (File menu)."
   ]
  },
  {
   "cell_type": "markdown",
   "metadata": {},
   "source": [
    "----\n",
    "[Contents](#Contents)\n",
    "\n",
    "----"
   ]
  },
  {
   "cell_type": "markdown",
   "metadata": {},
   "source": [
    "## Going Further\n",
    "\n",
    "This was a quick introduction to Jupyter notebooks and the Pynq board. This guide did not cover using overlays, and more advanced features of Jupyter Notebooks and Pynq. \n",
    "A number of other examples on how to use Jupyter Notebooks, Pynq, Overlays, and Peripherals, are available in the *examples* folder. \n",
    "\n",
    "Please see the full Pynq documentation for details on how the provided overlays, how to write your own overlay, and more advanced use of the Jupyter Notebook."
   ]
  }
 ],
 "metadata": {
  "kernelspec": {
   "display_name": "Python 3",
   "language": "python",
   "name": "python3"
  },
  "language_info": {
   "codemirror_mode": {
    "name": "ipython",
    "version": 3
   },
   "file_extension": ".py",
   "mimetype": "text/x-python",
   "name": "python",
   "nbconvert_exporter": "python",
   "pygments_lexer": "ipython3",
   "version": "3.4.3+"
  }
 },
 "nbformat": 4,
 "nbformat_minor": 1
}
