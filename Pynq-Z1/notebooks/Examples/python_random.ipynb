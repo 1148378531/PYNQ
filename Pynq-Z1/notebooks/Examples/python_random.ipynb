{
 "cells": [
  {
   "cell_type": "markdown",
   "metadata": {},
   "source": [
    "# Random Number Generator example\n",
    "\n",
    "This example investigates random number generation. You will see how to generate and display images in a Jupyter notebook using the PIL module. \n",
    "\n",
    "A random number generator should produce evenly distributed random numbers. An array of numbers will be generated randomly and displayed graphically to investigate their randomness. \n",
    "\n",
    "## 1. Bad RNG\n",
    "The first RNG is a bad RNG. It contains a lot of common errors that reduce the randomness of the numbers generated:\n",
    "\n",
    "1. Use of \"%\" operation results in unequal probability of random numbers.\n",
    "2. Simple linear algebra leads to predictable results.\n",
    "3. Use of the same seed leads to the same pattern.\n",
    "\n",
    "Reference:\n",
    "\n",
    "https://www.random.org/\n",
    "\n",
    "http://hasard.readthedocs.org/en/latest/common_errors.html"
   ]
  },
  {
   "cell_type": "code",
   "execution_count": null,
   "metadata": {
    "collapsed": false
   },
   "outputs": [],
   "source": [
    "from PIL import Image\n",
    "from time import time\n",
    "\n",
    "rand_seed = int(time())\n",
    "def rng():\n",
    "    \"\"\"Return a pseudo-random number between 0 to 8388593.\"\"\" \n",
    "    global rand_seed\n",
    "    # For these choice of numbers, see P L'Ecuyer, \n",
    "    # \"Tables of linear congruential generators of different sizes \n",
    "    # and good lattice structure\"\n",
    "    rand_seed = (rand_seed * 653276) % 8388593\n",
    "    return rand_seed\n",
    "\n",
    "rgb = bytearray()\n",
    "for i in range(512*384):\n",
    "    if i%(128*96)==0:\n",
    "        # Use similar seeds\n",
    "        rand_seed = int(time())\n",
    "    gray = rng()%256\n",
    "    rgb.extend([gray,gray,gray])\n",
    "\n",
    "image = Image.frombytes('RGB', (512,384), bytes(rgb))\n",
    "image.save(\"/home/xilinx/jupyter_notebooks/Examples/data/random_1.jpg\", 'JPEG')\n",
    "image"
   ]
  },
  {
   "cell_type": "markdown",
   "metadata": {},
   "source": [
    "The regular patterns in the image above indicate that the randomm numbers are not evenly distributed."
   ]
  },
  {
   "cell_type": "markdown",
   "metadata": {},
   "source": [
    "## 2. A better one...\n",
    "The second RNG is much better than the first one, although this would still not be sufficiently random or security protection."
   ]
  },
  {
   "cell_type": "code",
   "execution_count": null,
   "metadata": {
    "collapsed": false
   },
   "outputs": [],
   "source": [
    "from PIL import Image\n",
    "from random import randint\n",
    "\n",
    "rgb = bytearray()\n",
    "for i in range(512*384):\n",
    "    gray = randint(0, 255)\n",
    "    rgb.extend([gray,gray,gray])\n",
    "\n",
    "image = Image.frombytes('RGB', (512,384), bytes(rgb))\n",
    "image.save(\"/home/xilinx/jupyter_notebooks/Examples/data/random_2.jpg\", 'JPEG')\n",
    "image"
   ]
  }
 ],
 "metadata": {
  "kernelspec": {
   "display_name": "Python [Root]",
   "language": "python",
   "name": "Python [Root]"
  },
  "language_info": {
   "codemirror_mode": {
    "name": "ipython",
    "version": 3
   },
   "file_extension": ".py",
   "mimetype": "text/x-python",
   "name": "python",
   "nbconvert_exporter": "python",
   "pygments_lexer": "ipython3",
   "version": "3.5.2"
  }
 },
 "nbformat": 4,
 "nbformat_minor": 0
}
