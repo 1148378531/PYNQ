{
 "cells": [
  {
   "cell_type": "markdown",
   "metadata": {},
   "source": [
    "## IP Address displayed on PmodOLED\n",
    "\n",
    "This demonstration shows how to get the IP address from a Linux command, and display it on the PmodOLED. You will see how to execute Linux commands from the Jupyter notebook. \n",
    "\n",
    "The PmodOLED is required. "
   ]
  },
  {
   "cell_type": "code",
   "execution_count": 1,
   "metadata": {
    "collapsed": false
   },
   "outputs": [],
   "source": [
    "def get_ip_address():\n",
    "    ipaddr = !hostname -I\n",
    "    return ipaddr.s"
   ]
  },
  {
   "cell_type": "markdown",
   "metadata": {},
   "source": [
    "The IP address can then be reported out using the PMOD Overlay with an attached OLED."
   ]
  },
  {
   "cell_type": "code",
   "execution_count": 2,
   "metadata": {
    "collapsed": false,
    "scrolled": true
   },
   "outputs": [
    {
     "name": "stdout",
     "output_type": "stream",
     "text": [
      "192.168.2.99 \n"
     ]
    }
   ],
   "source": [
    "# Write the IP address to an attached PMOD OLED\n",
    "from pynq import Overlay\n",
    "from pynq.pmods import PMOD_OLED\n",
    "\n",
    "ol = Overlay(\"pmod.bit\")\n",
    "ol.download()\n",
    "\n",
    "ip = get_ip_address()\n",
    "\n",
    "pmod_oled = PMOD_OLED(1)\n",
    "pmod_oled.write(str(ip))\n",
    "print(ip)\n",
    "\n",
    "del pmod_oled,ol"
   ]
  }
 ],
 "metadata": {
  "kernelspec": {
   "display_name": "Python 3",
   "language": "python",
   "name": "python3"
  },
  "language_info": {
   "codemirror_mode": {
    "name": "ipython",
    "version": 3
   },
   "file_extension": ".py",
   "mimetype": "text/x-python",
   "name": "python",
   "nbconvert_exporter": "python",
   "pygments_lexer": "ipython3",
   "version": "3.4.3+"
  }
 },
 "nbformat": 4,
 "nbformat_minor": 0
}
