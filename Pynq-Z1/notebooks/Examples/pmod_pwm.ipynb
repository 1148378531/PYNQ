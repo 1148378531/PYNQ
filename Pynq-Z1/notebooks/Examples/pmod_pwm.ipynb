{
 "cells": [
  {
   "cell_type": "markdown",
   "metadata": {},
   "source": [
    "# PMOD PWM\n",
    "\n",
    "In this notebook, PMOD Timer's PWM functionality is illustrated. The Timer has two sub-modules: Timer0 and Timer1. The PWM function uses both the sub-modules.\n"
   ]
  },
  {
   "cell_type": "markdown",
   "metadata": {},
   "source": [
    "## 1. Instantiation\n",
    "Import pmod overlay and instantiate PMOD_PWM class. Issue stop command which stops both timer sub-modules"
   ]
  },
  {
   "cell_type": "code",
   "execution_count": 1,
   "metadata": {
    "collapsed": true
   },
   "outputs": [],
   "source": [
    "from pynq import Overlay\n",
    "Overlay(\"base.bit\").download()"
   ]
  },
  {
   "cell_type": "code",
   "execution_count": 6,
   "metadata": {
    "collapsed": false,
    "scrolled": true
   },
   "outputs": [],
   "source": [
    "from pynq.iop import Pmod_PWM\n",
    "\n",
    "pwm = Pmod_PWM(1,0)"
   ]
  },
  {
   "cell_type": "markdown",
   "metadata": {},
   "source": [
    "## 2. Generate pulses of desired duty cycle and period\n",
    "Generate a 10 us clocks with 50% duty cycle for 4 seconds and the stop.\n",
    "\n",
    "Note that pulses are generated every $(count+2)\\times10$ ns.\n",
    "\n",
    "Use an oscilloscope to check the waveforms."
   ]
  },
  {
   "cell_type": "code",
   "execution_count": 4,
   "metadata": {
    "collapsed": false
   },
   "outputs": [],
   "source": [
    "import time\n",
    "\n",
    "# Generate a 10 us clocks with 50% duty cycle\n",
    "period=10\n",
    "duty=50\n",
    "pwm.generate(period,duty)\n",
    "# Sleep for 4 seconds and stop the timer\n",
    "time.sleep(4)\n",
    "pwm.stop()"
   ]
  },
  {
   "cell_type": "markdown",
   "metadata": {},
   "source": [
    "## 3. Generate clock of 25% duty cycle and 20 us period\n"
   ]
  },
  {
   "cell_type": "code",
   "execution_count": 5,
   "metadata": {
    "collapsed": false
   },
   "outputs": [],
   "source": [
    "import time\n",
    "\n",
    "# Generate a 20 us clocks with 25% duty cycle\n",
    "period=20\n",
    "duty=25\n",
    "pwm.generate(period,duty)\n",
    "# Sleep for 5 seconds and stop the timer\n",
    "time.sleep(5)\n",
    "pwm.stop()"
   ]
  },
  {
   "cell_type": "code",
   "execution_count": null,
   "metadata": {
    "collapsed": true
   },
   "outputs": [],
   "source": []
  }
 ],
 "metadata": {
  "kernelspec": {
   "display_name": "Python 3",
   "language": "python",
   "name": "python3"
  },
  "language_info": {
   "codemirror_mode": {
    "name": "ipython",
    "version": 3
   },
   "file_extension": ".py",
   "mimetype": "text/x-python",
   "name": "python",
   "nbconvert_exporter": "python",
   "pygments_lexer": "ipython3",
   "version": "3.4.3+"
  }
 },
 "nbformat": 4,
 "nbformat_minor": 1
}
