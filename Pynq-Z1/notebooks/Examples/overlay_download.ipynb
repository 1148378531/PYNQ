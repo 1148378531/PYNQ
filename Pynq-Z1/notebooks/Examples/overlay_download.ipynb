{
 "cells": [
  {
   "cell_type": "markdown",
   "metadata": {},
   "source": [
    "# Downloading Overlays\n",
    "\n",
    "This notebook shows how to download an overlay.  \n",
    "## 1. Instantiating an overlay\n",
    "To instantiate an overlay, the corresponding bitstream file can be located in the Pynq python package: /pynq/bitstream/ or at any location accessable in the file system.\n",
    " \n",
    "In the first case, only the bitstream name is needed to instantiate the overlay, as shown below."
   ]
  },
  {
   "cell_type": "code",
   "execution_count": 1,
   "metadata": {
    "collapsed": false
   },
   "outputs": [],
   "source": [
    "from pynq import Overlay\n",
    "ol = Overlay(\"base.bit\")"
   ]
  },
  {
   "cell_type": "markdown",
   "metadata": {},
   "source": [
    "In the second case, you need to use the absolute file path to instantiate the overlay."
   ]
  },
  {
   "cell_type": "code",
   "execution_count": 2,
   "metadata": {
    "collapsed": false
   },
   "outputs": [],
   "source": [
    "from pynq import Overlay\n",
    "ol = Overlay(\"/home/xilinx/pynq/bitstream/base.bit\")"
   ]
  },
  {
   "cell_type": "markdown",
   "metadata": {},
   "source": [
    "To check the timestamp of the overlay:"
   ]
  },
  {
   "cell_type": "code",
   "execution_count": 3,
   "metadata": {
    "collapsed": false
   },
   "outputs": [
    {
     "data": {
      "text/plain": [
       "'2016/8/15 13:28:37 +5921'"
      ]
     },
     "execution_count": 3,
     "metadata": {},
     "output_type": "execute_result"
    }
   ],
   "source": [
    "ol.download()\n",
    "ol.bitstream.timestamp"
   ]
  },
  {
   "cell_type": "markdown",
   "metadata": {},
   "source": [
    "## 2. Checking the PL\n",
    "There can be multiple overlay instances, but only one overlay can be loaded in programmable logic (PL) at any given time. \n",
    "\n",
    "** The PL instance can be queried to discover which overlay is currently active in the FPGA. **\n",
    "\n",
    "To check the overlay status:"
   ]
  },
  {
   "cell_type": "code",
   "execution_count": 4,
   "metadata": {
    "collapsed": false
   },
   "outputs": [
    {
     "data": {
      "text/plain": [
       "'/home/xilinx/pynq/bitstream/base.bit'"
      ]
     },
     "execution_count": 4,
     "metadata": {},
     "output_type": "execute_result"
    }
   ],
   "source": [
    "from pynq import PL\n",
    "PL.bitfile_name"
   ]
  },
  {
   "cell_type": "code",
   "execution_count": 5,
   "metadata": {
    "collapsed": false
   },
   "outputs": [
    {
     "data": {
      "text/plain": [
       "'2016/8/15 13:28:37 +5921'"
      ]
     },
     "execution_count": 5,
     "metadata": {},
     "output_type": "execute_result"
    }
   ],
   "source": [
    "PL.timestamp"
   ]
  },
  {
   "cell_type": "markdown",
   "metadata": {},
   "source": [
    "You can also verify if an overlay has been loaded. The following method checks both the `bitfile_name` and `timestamp` before returning the result."
   ]
  },
  {
   "cell_type": "code",
   "execution_count": 6,
   "metadata": {
    "collapsed": false
   },
   "outputs": [
    {
     "data": {
      "text/plain": [
       "True"
      ]
     },
     "execution_count": 6,
     "metadata": {},
     "output_type": "execute_result"
    }
   ],
   "source": [
    "ol.is_loaded()"
   ]
  },
  {
   "cell_type": "markdown",
   "metadata": {},
   "source": [
    "## 3. Overlay downloading overhead"
   ]
  },
  {
   "cell_type": "code",
   "execution_count": 7,
   "metadata": {
    "collapsed": false
   },
   "outputs": [
    {
     "data": {
      "image/png": "[encoded data removed]",
      "text/plain": [
       "<matplotlib.figure.Figure at 0x31e9b8d0>"
      ]
     },
     "metadata": {},
     "output_type": "display_data"
    }
   ],
   "source": [
    "import time\n",
    "import matplotlib.pyplot as plt\n",
    "from pynq import Overlay\n",
    "\n",
    "ol1 = Overlay(\"base.bit\")\n",
    "ol2 = Overlay(\"base.bit\")\n",
    "length = 50\n",
    "log1 = []\n",
    "log2 = []\n",
    "for i in range(length):\n",
    "    start = time.time()\n",
    "    ol1.download()\n",
    "    end = time.time()\n",
    "    # Record milliseconds\n",
    "    log1.append((end-start)*1000)\n",
    "    \n",
    "for i in range(length):\n",
    "    start = time.time()\n",
    "    ol2.download()\n",
    "    end = time.time()\n",
    "    # Record milliseconds\n",
    "    log2.append((end-start)*1000)\n",
    "\n",
    "# Draw the figure\n",
    "%matplotlib inline\n",
    "plt.plot(range(length), log1, 'ro')\n",
    "plt.plot(range(length), log2, 'bx')\n",
    "plt.title('Bitstream loading time (ms)')\n",
    "plt.axis([0, length, 0, 300])\n",
    "plt.show()\n",
    "\n",
    "ol1.download()\n",
    "del ol1,ol2"
   ]
  }
 ],
 "metadata": {
  "kernelspec": {
   "display_name": "Python 3",
   "language": "python",
   "name": "python3"
  },
  "language_info": {
   "codemirror_mode": {
    "name": "ipython",
    "version": 3
   },
   "file_extension": ".py",
   "mimetype": "text/x-python",
   "name": "python",
   "nbconvert_exporter": "python",
   "pygments_lexer": "ipython3",
   "version": "3.4.3+"
  }
 },
 "nbformat": 4,
 "nbformat_minor": 1
}
