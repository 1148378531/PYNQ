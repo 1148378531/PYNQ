{
 "cells": [
  {
   "cell_type": "markdown",
   "metadata": {},
   "source": [
    "# PMOD TIMER\n",
    "\n",
    "In this notebook, PMOD Timer functionalities are illustrated. The Timer has two sub-modules: Timer0 and Timer1. \n",
    "\n",
    "The Generate output and Capture Input of Timer0 are assumed to be connected to PMOD pin1. \n",
    "    1. The Generate function outputs one clock (10 ns) pulse after a desired period. \n",
    "    2. The Capture input is sensitive to a rising edge or high level logic."
   ]
  },
  {
   "cell_type": "markdown",
   "metadata": {},
   "source": [
    "## 1. Instantiation\n",
    "Import pmod overlay and instantiate PMOD_Timer class. Issue stop command which stops both timer sub-modules"
   ]
  },
  {
   "cell_type": "code",
   "execution_count": 1,
   "metadata": {
    "collapsed": true
   },
   "outputs": [],
   "source": [
    "from pynq import Overlay\n",
    "Overlay(\"base.bit\").download()"
   ]
  },
  {
   "cell_type": "code",
   "execution_count": 2,
   "metadata": {
    "collapsed": false,
    "scrolled": true
   },
   "outputs": [],
   "source": [
    "from pynq.iop import Pmod_Timer\n",
    "from pynq.iop import PMODA\n",
    "\n",
    "pt = Pmod_Timer(PMODA,1)\n",
    "pt.stop()"
   ]
  },
  {
   "cell_type": "markdown",
   "metadata": {},
   "source": [
    "## 2. Generate pulses for a certain period of time\n",
    "Generate a 10 ns clock pulse every 10 microseconds for 4 seconds and then stop the generation.\n",
    "\n",
    "Note that pulses are generated every $(count+2)\\times10$ ns."
   ]
  },
  {
   "cell_type": "code",
   "execution_count": 3,
   "metadata": {
    "collapsed": false
   },
   "outputs": [],
   "source": [
    "import time\n",
    "from pynq.iop import Pmod_Timer\n",
    "\n",
    "pt = Pmod_Timer(PMODA,1)\n",
    "# Generate a 10 ns pulse every (period+2)*10 ns => 10 us\n",
    "period=998\n",
    "pt.generate_pulse(period)\n",
    "\n",
    "# Sleep for 4 seconds and stop the timer\n",
    "time.sleep(4)\n",
    "pt.stop()"
   ]
  },
  {
   "cell_type": "markdown",
   "metadata": {},
   "source": [
    "## 3. Generate a certain number of pulses\n",
    "Note first parameter is the period interval. \n",
    "Denoting the desired period as $T$ (in ns), we need to set the first parameter `period` to:\n",
    "\n",
    "$period = \\frac{T}{10} - 2 $\n",
    "\n",
    "The second parameter is the number of pulses to be generated."
   ]
  },
  {
   "cell_type": "code",
   "execution_count": 4,
   "metadata": {
    "collapsed": false
   },
   "outputs": [],
   "source": [
    "from pynq.iop import Pmod_Timer\n",
    "\n",
    "pt = Pmod_Timer(PMODA,1)\n",
    "\n",
    "# Generate 3 pulses at every 10 us\n",
    "count=3\n",
    "period=998\n",
    "pt.generate_pulse(period, count)\n",
    "\n",
    "# Generate pulses per 10 us forever\n",
    "count=0\n",
    "period=998\n",
    "pt.generate_pulse(period, count)"
   ]
  },
  {
   "cell_type": "markdown",
   "metadata": {},
   "source": [
    "## 4. Determine if an event has occurred at the input \n",
    "\n",
    "An event is either a rising edge or a high logic level. The parameter is duration, $[(period+2)*10]$ ns, in which the event is to be detected. It returns 0 if no event occurred, otherwise it returns 1.\n",
    "\n",
    "Use a waveform generator in this example."
   ]
  },
  {
   "cell_type": "code",
   "execution_count": 5,
   "metadata": {
    "collapsed": false,
    "scrolled": false
   },
   "outputs": [
    {
     "data": {
      "text/plain": [
       "1"
      ]
     },
     "execution_count": 5,
     "metadata": {},
     "output_type": "execute_result"
    }
   ],
   "source": [
    "from pynq.iop import Pmod_Timer\n",
    "\n",
    "pt = Pmod_Timer(PMODA,1)\n",
    "\n",
    "# Desired period in which to determine if an event has occurred\n",
    "period=998\n",
    "pt.event_detected(period)"
   ]
  },
  {
   "cell_type": "markdown",
   "metadata": {},
   "source": [
    "## 5. Count number of events occurred during a desired period \n",
    "\n",
    "An event is either a rising edge or a high logic level. The parameter is duration, $[(period+2)*10]$ ns, in which the number of event are counted. In this example we are interested in number of events occurring in 10 $\\mu$s.\n",
    "\n",
    "Use a waveform generator in this example."
   ]
  },
  {
   "cell_type": "code",
   "execution_count": 6,
   "metadata": {
    "collapsed": false
   },
   "outputs": [
    {
     "data": {
      "text/plain": [
       "1"
      ]
     },
     "execution_count": 6,
     "metadata": {},
     "output_type": "execute_result"
    }
   ],
   "source": [
    "from pynq.iop import Pmod_Timer\n",
    "\n",
    "pt = Pmod_Timer(PMODA,1)\n",
    "\n",
    "# Desired period in which to determine if an event has occurred\n",
    "period=998\n",
    "pt.event_count(period)"
   ]
  },
  {
   "cell_type": "markdown",
   "metadata": {},
   "source": [
    "## 6. Measure period between two rising edges \n",
    "\n",
    "An event is either a rising edge or a high logic level. It expects at least two rising edges. The return result is in ns.\n",
    "\n",
    "A waveform generator is necessary for this step - [Digilent Analog Discovery 2](http://store.digilentinc.com/analog-discovery-2-100msps-usb-oscilloscope-logic-analyzer-and-variable-power-supply/) can be used to generate the clock input."
   ]
  },
  {
   "cell_type": "code",
   "execution_count": null,
   "metadata": {
    "collapsed": false
   },
   "outputs": [],
   "source": [
    "from pynq.iop import Pmod_Timer\n",
    "\n",
    "pt = Pmod_Timer(PMODA,1)\n",
    "period = pt.get_period_ns()\n",
    "print(\"The measured waveform frequency: {}Hz.\".format(1e9/period))"
   ]
  }
 ],
 "metadata": {
  "kernelspec": {
   "display_name": "Python 3",
   "language": "python",
   "name": "python3"
  },
  "language_info": {
   "codemirror_mode": {
    "name": "ipython",
    "version": 3
   },
   "file_extension": ".py",
   "mimetype": "text/x-python",
   "name": "python",
   "nbconvert_exporter": "python",
   "pygments_lexer": "ipython3",
   "version": "3.4.3+"
  }
 },
 "nbformat": 4,
 "nbformat_minor": 1
}
