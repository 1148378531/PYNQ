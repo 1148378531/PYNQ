{
 "cells": [
  {
   "cell_type": "markdown",
   "metadata": {},
   "source": [
    "## Buttons and LEDs demonstration\n",
    "\n",
    "This demo shows how to use push-buttons, BTN3-0, and LEDs, LD3-0, on the PYNQ-Z1. \n",
    "\n",
    "The 4 LEDs will be on at start of this demo. \n",
    "\n",
    "You can do the following to control the LEDs (LD3-0):\n",
    "    \n",
    "    Button 0 pressed:        LEDs toggle.\n",
    "    Button 1 pressed:        LEDs shift from right to left (LD3 -> LD0).\n",
    "    Button 2 pressed:        LEDs shift from left to right (LD0 -> LD3).\n",
    "    Button 3 pressed:        Turns off all 4 LEDS and ends this demo.\n",
    " "
   ]
  },
  {
   "cell_type": "code",
   "execution_count": null,
   "metadata": {
    "collapsed": false,
    "scrolled": true
   },
   "outputs": [],
   "source": [
    "from time import sleep\n",
    "from pynq.board import LED\n",
    "from pynq.board import Button\n",
    "\n",
    "Delay1 = 0.2\n",
    "Delay2 = 0.1\n",
    "leds = [LED(index) for index in range(4)] \n",
    "btns = [Button(index) for index in range(4)] \n",
    "        \n",
    "for led in leds:\n",
    "    led.on()    \n",
    "while (btns[3].read()==0):\n",
    "    if (btns[0].read()==1):\n",
    "        for led in leds:\n",
    "            led.toggle()\n",
    "        sleep(Delay1)\n",
    "        \n",
    "    elif (btns[1].read()==1):\n",
    "        for led in leds:\n",
    "            led.off()\n",
    "        sleep(Delay2)\n",
    "        for led in leds:\n",
    "            led.toggle()\n",
    "            sleep(Delay2)\n",
    "            \n",
    "    elif (btns[2].read()==1):\n",
    "        for led in leds[::-1]:\n",
    "            led.off()\n",
    "        sleep(Delay2)\n",
    "        for led in leds[::-1]:\n",
    "            led.toggle()\n",
    "            sleep(Delay2)                  \n",
    "    \n",
    "print('End of this demo ...')\n",
    "for led in leds:\n",
    "    led.off()\n",
    "    \n",
    "del leds,btns"
   ]
  }
 ],
 "metadata": {
  "kernelspec": {
   "display_name": "Python 3",
   "language": "python",
   "name": "python3"
  },
  "language_info": {
   "codemirror_mode": {
    "name": "ipython",
    "version": 3
   },
   "file_extension": ".py",
   "mimetype": "text/x-python",
   "name": "python",
   "nbconvert_exporter": "python",
   "pygments_lexer": "ipython3",
   "version": "3.4.3+"
  }
 },
 "nbformat": 4,
 "nbformat_minor": 1
}
