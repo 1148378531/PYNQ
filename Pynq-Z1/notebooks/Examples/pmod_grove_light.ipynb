{
 "cells": [
  {
   "cell_type": "markdown",
   "metadata": {},
   "source": [
    "# Grove Light Sensor 1.1\n",
    "\n",
    "This example shows how to use the [Grove Light Sensor v1.1](http://www.seeedstudio.com/wiki/Grove_-_Light_Sensor). You will also see how to plot a graph using matplotlib.\n",
    "\n",
    "The Grove Light Sensor produces an analog signal which requires an ADC.\n",
    "\n",
    "The Grove Light Sensor, Pynq Grove Adapter, and Grove I2C ADC are used for this example. \n",
    "\n",
    "When the ambient light intensity increases, the resistance of the LDR or Photoresistor will decrease. This means that the output signal from this module will be HIGH in bright light, and LOW in the dark. Values for the sensor ranges from ~5.0 (bright) to >35.0 (dark)."
   ]
  },
  {
   "cell_type": "markdown",
   "metadata": {},
   "source": [
    "### 1. Load overlay."
   ]
  },
  {
   "cell_type": "code",
   "execution_count": 8,
   "metadata": {
    "collapsed": false
   },
   "outputs": [],
   "source": [
    "# Ensure base overlay is loaded\n",
    "from pynq import Overlay\n",
    "Overlay(\"base.bit\").download()"
   ]
  },
  {
   "cell_type": "markdown",
   "metadata": {},
   "source": [
    "### 2. Read single luminance value\n",
    "This example shows on how to read from the Grove Light sensor which is connected to the ADC."
   ]
  },
  {
   "cell_type": "code",
   "execution_count": 72,
   "metadata": {
    "collapsed": false
   },
   "outputs": [
    {
     "name": "stdout",
     "output_type": "stream",
     "text": [
      "5.75\n"
     ]
    }
   ],
   "source": [
    "from pynq.iop import Grove_Light\n",
    "\n",
    "# Instantiate Grove LED Bar on PMODA and on Pmod2Grove G1\n",
    "# PMODA = 1, PMODB = 2, Arduino = 3\n",
    "# The ADC can be connected to the Pynq Grove Adapter on J3 = [7,3], J4 = [6,2]\n",
    "# The LEDbar can be connected to G1-7 on the Pynq Shield:\n",
    "# G1 = [2,3], G2 = [3,4], G3 = [4,5], G4 = [6,7], G5 = [8,9], G6 = [10,11], G7 = [12,13]\n",
    "lgt = Grove_Light(1, [6,2])\n",
    "sensor_val = lgt.read()\n",
    "print(sensor_val)\n",
    "#print(float(\"{0:.2f}\".format(sensor_val)))"
   ]
  },
  {
   "cell_type": "markdown",
   "metadata": {},
   "source": [
    "### 3. Plot the light intensity over time\n",
    "This example reads multiple values over a 10 second period. \n",
    "\n",
    "To change the light intensity, cover and uncover the light sensor. In typical ambinet light, there is no need to provide an external light source, as the sensor is already reading at full scale. "
   ]
  },
  {
   "cell_type": "code",
   "execution_count": 75,
   "metadata": {
    "collapsed": false
   },
   "outputs": [
    {
     "data": {
      "image/png": "[encoded data removed]",
      "text/plain": [
       "<matplotlib.figure.Figure at 0x31d2fc90>"
      ]
     },
     "metadata": {},
     "output_type": "display_data"
    }
   ],
   "source": [
    "import time\n",
    "\n",
    "%matplotlib inline\n",
    "import matplotlib.pyplot as plt\n",
    "\n",
    "lgt.set_log_interval_ms(100)\n",
    "lgt.start_log()\n",
    "time.sleep(10) # Change input during this time\n",
    "r_log = lgt.get_log()\n",
    "\n",
    "plt.plot(range(len(r_log)), r_log, 'ro')\n",
    "plt.title('Grove Temperature Plot')\n",
    "min_r_log = min(r_log)\n",
    "max_r_log = max(r_log)\n",
    "plt.axis([0, len(r_log), min_r_log, max_r_log])\n",
    "plt.show()"
   ]
  }
 ],
 "metadata": {
  "kernelspec": {
   "display_name": "Python 3",
   "language": "python",
   "name": "python3"
  },
  "language_info": {
   "codemirror_mode": {
    "name": "ipython",
    "version": 3
   },
   "file_extension": ".py",
   "mimetype": "text/x-python",
   "name": "python",
   "nbconvert_exporter": "python",
   "pygments_lexer": "ipython3",
   "version": "3.4.3+"
  }
 },
 "nbformat": 4,
 "nbformat_minor": 1
}
