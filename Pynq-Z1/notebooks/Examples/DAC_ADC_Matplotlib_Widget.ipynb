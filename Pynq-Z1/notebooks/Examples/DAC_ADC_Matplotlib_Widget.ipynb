{
 "cells": [
  {
   "cell_type": "markdown",
   "metadata": {
    "slideshow": {
     "slide_type": "slide"
    }
   },
   "source": [
    "\n",
    "# DAC-ADC Pmod Examples using Matplotlib and Widget"
   ]
  },
  {
   "cell_type": "markdown",
   "metadata": {
    "slideshow": {
     "slide_type": "skip"
    }
   },
   "source": [
    "----"
   ]
  },
  {
   "cell_type": "markdown",
   "metadata": {
    "slideshow": {
     "slide_type": "subslide"
    }
   },
   "source": [
    "## Contents\n",
    "\n",
    "\n",
    "[PMod DAC-ADC Feedback](#PMod-DAC-ADC-Feedback)\n",
    "\n",
    "[Tracking the IO Error](#Tracking-the-I/O-linearity)\n",
    "\n",
    "[Error plot with Matplotlib](#Error-plot-with-Matplotlib)\n",
    "\n",
    "[XKCD Plot](#XKCD-Plot)\n",
    "\n",
    "[Widget controlled plot](#Wideget-controlled-plot)"
   ]
  },
  {
   "cell_type": "markdown",
   "metadata": {},
   "source": [
    "----"
   ]
  },
  {
   "cell_type": "markdown",
   "metadata": {},
   "source": [
    "## PMod DAC-ADC Feedback"
   ]
  },
  {
   "cell_type": "markdown",
   "metadata": {},
   "source": [
    "This example shows how to use the PmodDA4 DAC and the PMODAD2 ADC on the PYNQ-Z1 board, using the baord's two Pmod interfaces.  The notebook then compares the DAC output to the ADC input and tracks the errors.\n",
    "\n",
    "The errors are plotted using Matplotlib and an XKCD version of the plot is produced (for fun). Finally a slider widget is introduced to control the number of samples diaplayed in the error plot.\n",
    "\n",
    "Note: The output of the DAC (pin A) must be connected with a wire to the input of the ADC (V1 input)."
   ]
  },
  {
   "cell_type": "markdown",
   "metadata": {},
   "source": [
    "### 1. Import hardware libraries and classes"
   ]
  },
  {
   "cell_type": "code",
   "execution_count": null,
   "metadata": {
    "collapsed": false
   },
   "outputs": [],
   "source": [
    "from pynq import Overlay\n",
    "from pynq.iop import Pmod_ADC, Pmod_DAC"
   ]
  },
  {
   "cell_type": "markdown",
   "metadata": {},
   "source": [
    "### 2. Program the ZYNQ PL"
   ]
  },
  {
   "cell_type": "code",
   "execution_count": null,
   "metadata": {
    "collapsed": true
   },
   "outputs": [],
   "source": [
    "ol = Overlay('base.bit')\n",
    "ol.download()"
   ]
  },
  {
   "cell_type": "markdown",
   "metadata": {},
   "source": [
    "### 3. Instantiate the PMod peripherals as Python objects"
   ]
  },
  {
   "cell_type": "code",
   "execution_count": 3,
   "metadata": {
    "collapsed": false
   },
   "outputs": [],
   "source": [
    "adc = Pmod_ADC(1)\n",
    "dac = Pmod_DAC(2)"
   ]
  },
  {
   "cell_type": "markdown",
   "metadata": {},
   "source": [
    "### 4. Write to DAC, read from ADC, print result"
   ]
  },
  {
   "cell_type": "code",
   "execution_count": 5,
   "metadata": {
    "collapsed": false
   },
   "outputs": [
    {
     "name": "stdout",
     "output_type": "stream",
     "text": [
      "[0.3398]\n"
     ]
    }
   ],
   "source": [
    "dac.write(0.35)\n",
    "sample = adc.read()\n",
    "print(sample)"
   ]
  },
  {
   "cell_type": "markdown",
   "metadata": {},
   "source": [
    "----\n",
    "\n",
    "[Contents](#Contents)\n",
    "\n",
    "----"
   ]
  },
  {
   "cell_type": "markdown",
   "metadata": {},
   "source": [
    "## Tracking the IO Error"
   ]
  },
  {
   "cell_type": "code",
   "execution_count": 6,
   "metadata": {
    "collapsed": false,
    "scrolled": true
   },
   "outputs": [
    {
     "name": "stdout",
     "output_type": "stream",
     "text": [
      "Value written: 0.00\tSample read: 0.00\tError: +0.0020\n",
      "Value written: 0.11\tSample read: 0.11\tError: +0.0002\n",
      "Value written: 0.21\tSample read: 0.21\tError: +0.0004\n",
      "Value written: 0.32\tSample read: 0.31\tError: -0.0072\n",
      "Value written: 0.42\tSample read: 0.41\tError: -0.0070\n",
      "Value written: 0.53\tSample read: 0.50\tError: -0.0278\n",
      "Value written: 0.63\tSample read: 0.62\tError: -0.0105\n",
      "Value written: 0.74\tSample read: 0.71\tError: -0.0220\n",
      "Value written: 0.84\tSample read: 0.81\tError: -0.0335\n",
      "Value written: 0.95\tSample read: 0.93\tError: -0.0138\n",
      "Value written: 1.05\tSample read: 1.03\tError: -0.0253\n",
      "Value written: 1.16\tSample read: 1.12\tError: -0.0368\n",
      "Value written: 1.26\tSample read: 1.21\tError: -0.0484\n",
      "Value written: 1.37\tSample read: 1.31\tError: -0.0579\n",
      "Value written: 1.47\tSample read: 1.43\tError: -0.0401\n",
      "Value written: 1.58\tSample read: 1.53\tError: -0.0516\n",
      "Value written: 1.68\tSample read: 1.62\tError: -0.0612\n",
      "Value written: 1.79\tSample read: 1.72\tError: -0.0727\n",
      "Value written: 1.89\tSample read: 1.81\tError: -0.0842\n",
      "Value written: 2.00\tSample read: 1.94\tError: -0.0645\n"
     ]
    }
   ],
   "source": [
    "# Report DAC-ADC PMod Loopback Measurement Error\n",
    "\n",
    "from math import ceil\n",
    "from time import sleep\n",
    "import numpy as np\n",
    "import matplotlib.pyplot as plt\n",
    "\n",
    "from pynq import Overlay\n",
    "from pynq.iop import Pmod_ADC, Pmod_DAC\n",
    "\n",
    "# Program the ZYNQ PL\n",
    "ol = Overlay('base.bit')\n",
    "ol.download()\n",
    "\n",
    "# Instantiate the PMod peripherals as Python objects\n",
    "adc = Pmod_ADC(1)\n",
    "dac = Pmod_DAC(2)\n",
    "\n",
    "# Write to DAC, read from ADC\n",
    "delay = 0.0\n",
    "values = np.linspace(0, 2, 20)\n",
    "samples = []\n",
    "for value in values:\n",
    "    dac.write(value)\n",
    "    sleep(delay)\n",
    "    sample = adc.read()\n",
    "    samples.append(sample[0])\n",
    "    print('Value written: {:4.2f}\\tSample read: {:4.2f}\\tError: {:+4.4f}'.\n",
    "          format(value, sample[0], sample[0]-value))"
   ]
  },
  {
   "cell_type": "markdown",
   "metadata": {},
   "source": [
    "## Error plot with Matplotlib"
   ]
  },
  {
   "cell_type": "code",
   "execution_count": 7,
   "metadata": {
    "collapsed": false,
    "scrolled": true
   },
   "outputs": [
    {
     "data": {
      "image/png": "[encoded data removed]",
      "text/plain": [
       "<matplotlib.figure.Figure at 0x306d87f0>"
      ]
     },
     "metadata": {},
     "output_type": "display_data"
    }
   ],
   "source": [
    "# Plot the DAC-ADC IO error\n",
    "\n",
    "# Show plots in notebook (rather than in separate window)\n",
    "%matplotlib inline\n",
    "    \n",
    "X = np.arange(len(values))\n",
    "plt.bar(X + 0.0, values, facecolor='blue', edgecolor='white', width=0.5, label=\"Written_to_DAC\")\n",
    "plt.bar(X + 0.25, samples, facecolor='red', edgecolor='white', width=0.5, label=\"Read_from_ADC\")\n",
    "\n",
    "plt.title('DAC-ADC Linearity')\n",
    "plt.xlabel('Sample_number')\n",
    "plt.ylabel('Volts')\n",
    "plt.legend(loc='upper left', frameon=False)\n",
    "\n",
    "plt.show()"
   ]
  },
  {
   "cell_type": "markdown",
   "metadata": {},
   "source": [
    "----\n",
    "\n",
    "[Contents](#Contents)\n",
    "\n",
    "----"
   ]
  },
  {
   "cell_type": "markdown",
   "metadata": {},
   "source": [
    "## XKCD Plot\n",
    "\n",
    "Same data plotted in XKCD format ...\n",
    "\n",
    "(http://xkcd.com)"
   ]
  },
  {
   "cell_type": "code",
   "execution_count": 8,
   "metadata": {
    "collapsed": false,
    "scrolled": false
   },
   "outputs": [
    {
     "data": {
      "image/png": "[encoded data removed]",
      "text/plain": [
       "<matplotlib.figure.Figure at 0x34a73150>"
      ]
     },
     "metadata": {},
     "output_type": "display_data"
    }
   ],
   "source": [
    "# Re-plot the DAC-ADC IO error in XKCD style\n",
    "\n",
    "# Show plots in notebook (rather than in separate window)\n",
    "%matplotlib inline\n",
    "    \n",
    "# xkcd comic book style plots\n",
    "with plt.xkcd():\n",
    "    X = np.arange(len(values))\n",
    "    plt.bar(X + 0.0, values, facecolor='blue', edgecolor='white', width=0.5, label=\"Written_to_DAC\")\n",
    "    plt.bar(X + 0.25, samples, facecolor='red', edgecolor='white', width=0.5, label=\"Read_from_ADC\")\n",
    "\n",
    "    plt.title('DAC-ADC Linearity')\n",
    "    plt.xlabel('Sample_number')\n",
    "    plt.ylabel('Volts')\n",
    "    plt.legend(loc='upper left', frameon=False)\n",
    "\n",
    "plt.show()"
   ]
  },
  {
   "cell_type": "markdown",
   "metadata": {},
   "source": [
    "----\n",
    "\n",
    "[Contents](#Contents)\n",
    "\n",
    "----"
   ]
  },
  {
   "cell_type": "markdown",
   "metadata": {},
   "source": [
    "## Widget controlled plot"
   ]
  },
  {
   "cell_type": "markdown",
   "metadata": {},
   "source": [
    "In this example, we extend the IO plot with a slider widget to control the number of samples appearing in the output plot.\n",
    "\n",
    "We use the `ipwidgets` library and the simple `interact()` method to launch a slider bar.\n",
    "\n",
    "> The interact function (ipywidgets.interact) automatically creates user interface (UI) controls for exploring code and data interactively. It is the easiest way to get started using IPython’s widgets.\n",
    "\n",
    "For more details see [Using ipwidgets interact()](https://ipywidgets.readthedocs.io/en/latest/examples/Using%20Interact.html#)"
   ]
  },
  {
   "cell_type": "code",
   "execution_count": 10,
   "metadata": {
    "collapsed": false,
    "scrolled": false
   },
   "outputs": [
    {
     "data": {
      "image/png": "[encoded data removed]",
      "text/plain": [
       "<matplotlib.figure.Figure at 0x3043ff70>"
      ]
     },
     "metadata": {},
     "output_type": "display_data"
    }
   ],
   "source": [
    "from math import ceil\n",
    "from time import sleep\n",
    "import numpy as np\n",
    "import matplotlib.pyplot as plt\n",
    "\n",
    "from ipywidgets import interact\n",
    "import ipywidgets as widgets\n",
    "\n",
    "from pynq import Overlay\n",
    "from pynq.iop import Pmod_ADC, Pmod_DAC\n",
    "\n",
    "# Program the ZYNQ PL\n",
    "ol = Overlay('base.bit')\n",
    "ol.download()\n",
    "\n",
    "# Instantiate the PMod peripherals as Python objects\n",
    "dac = Pmod_DAC(2)\n",
    "adc = Pmod_ADC(1)\n",
    "\n",
    "# Draw the DAC-ADC linearity plot in the notebook\n",
    "\n",
    "# Show plots in notebook (rather than in separate window)\n",
    "%matplotlib inline\n",
    "\n",
    "def capture_samples(nmbr_of_samples):    \n",
    "    # Write to DAC, read from ADC, write to OLED\n",
    "    delay = 0.0\n",
    "    values = np.linspace(0, 2, nmbr_of_samples)\n",
    "    samples = []\n",
    "    for value in values:\n",
    "        dac.write(value)\n",
    "        sleep(delay)\n",
    "        sample = adc.read()\n",
    "        samples.append(sample[0])\n",
    "\n",
    "    X = np.arange(nmbr_of_samples)\n",
    "    plt.bar(X + 0.0, values[:nmbr_of_samples+1], facecolor='blue', edgecolor='white', width=0.5, label=\"Written_to_DAC\")\n",
    "    plt.bar(X + 0.25, samples[:nmbr_of_samples+1], facecolor='red', edgecolor='white', width=0.5, label=\"Read_from_ADC\")\n",
    "\n",
    "    plt.title('DAC-ADC Linearity')\n",
    "    plt.xlabel('Sample_number')\n",
    "    plt.ylabel('Volts')\n",
    "    plt.legend(loc='upper left', frameon=False)\n",
    "   \n",
    "interact(capture_samples, nmbr_of_samples=widgets.IntSlider(min=5, max=30, step=5,\n",
    "    value=10, continuous_update=False));\n",
    "\n",
    "plt.show()"
   ]
  },
  {
   "cell_type": "markdown",
   "metadata": {},
   "source": [
    "----\n",
    "\n",
    "[Contents](#Contents)\n",
    "\n",
    "----"
   ]
  }
 ],
 "metadata": {
  "kernelspec": {
   "display_name": "Python 3",
   "language": "python",
   "name": "python3"
  },
  "language_info": {
   "codemirror_mode": {
    "name": "ipython",
    "version": 3
   },
   "file_extension": ".py",
   "mimetype": "text/x-python",
   "name": "python",
   "nbconvert_exporter": "python",
   "pygments_lexer": "ipython3",
   "version": "3.4.3+"
  },
  "widgets": {
   "state": {
    "1784a883de094c5e917cce8e584e862f": {
     "views": [
      {
       "cell_index": 25
      }
     ]
    }
   },
   "version": "1.2.0"
  }
 },
 "nbformat": 4,
 "nbformat_minor": 1
}
