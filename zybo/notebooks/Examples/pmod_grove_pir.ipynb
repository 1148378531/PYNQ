{
 "cells": [
  {
   "cell_type": "markdown",
   "metadata": {
    "collapsed": true
   },
   "source": [
    "# PMOD Grove PIR Motion Sensor\n",
    "\n",
    "This examples shows how to use the [Grove PIR motion sensor](http://www.seeedstudio.com/depot/Grove-PIR-Motion-Sensor-p-802.html).\n",
    "\n",
    "This demo requires the Grove PIR motion sensor, and Pmod Stickit connector.\n",
    "\n",
    "The Stickit connector is connected to IOP1 (JB) and the Grove PIR is connected to GR1.\n",
    "\n",
    "When you execute the cell below, the LED will keep flashing until the PIR detects some movement."
   ]
  },
  {
   "cell_type": "code",
   "execution_count": 1,
   "metadata": {
    "collapsed": false
   },
   "outputs": [
    {
     "name": "stdout",
     "output_type": "stream",
     "text": [
      "Starting detection...\n",
      "Detected a motion.\n",
      "Ending detection...\n"
     ]
    }
   ],
   "source": [
    "from time import sleep\n",
    "from pynq import Overlay\n",
    "from pynq.board import LED\n",
    "from pynq.pmods import Grove_PIR\n",
    "\n",
    "ol1 = Overlay(\"pmod.bit\")\n",
    "\n",
    "ol1.download()\n",
    "pir = Grove_PIR(1,1)\n",
    "led = LED(0)\n",
    "led.on()\n",
    "if pir.read()==0:\n",
    "    print(\"Starting detection...\")\n",
    "    while True:\n",
    "        led.on()\n",
    "        sleep(0.1)\n",
    "        led.off()\n",
    "        sleep(0.1)\n",
    "        if pir.read()==1:\n",
    "            print(\"Detected a motion.\")\n",
    "            break\n",
    "print(\"Ending detection...\")\n",
    "del pir,led,ol1"
   ]
  }
 ],
 "metadata": {
  "kernelspec": {
   "display_name": "Python 3",
   "language": "python",
   "name": "python3"
  },
  "language_info": {
   "codemirror_mode": {
    "name": "ipython",
    "version": 3
   },
   "file_extension": ".py",
   "mimetype": "text/x-python",
   "name": "python",
   "nbconvert_exporter": "python",
   "pygments_lexer": "ipython3",
   "version": "3.4.3+"
  }
 },
 "nbformat": 4,
 "nbformat_minor": 0
}
