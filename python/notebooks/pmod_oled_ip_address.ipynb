{
 "cells": [
  {
   "cell_type": "markdown",
   "metadata": {},
   "source": [
    "## Simple Example of Getting IP address from Python socket class\n",
    "\n",
    "From a Jupyter notebook, this simple example shows Zynq providing its IP address and displaying that address on an attached OLED.\n",
    "\n",
    "#### Reference: http://stackoverflow.com/questions/166506/finding-local-ip-addresses-using-pythons-stdlib\n",
    "\n"
   ]
  },
  {
   "cell_type": "code",
   "execution_count": 2,
   "metadata": {
    "collapsed": true
   },
   "outputs": [],
   "source": [
    "''' Use the builtin socket class to get the IP address '''\n",
    "import socket\n",
    "\n",
    "def get_ip_address():\n",
    "    s = socket.socket(socket.AF_INET, socket.SOCK_DGRAM)\n",
    "    s.connect((\"8.8.8.8\", 80))\n",
    "    return s.getsockname()[0]"
   ]
  },
  {
   "cell_type": "markdown",
   "metadata": {},
   "source": [
    "The IP address can then be reported out using the PMOD Overlay with an attached OLED."
   ]
  },
  {
   "cell_type": "code",
   "execution_count": 3,
   "metadata": {
    "collapsed": false
   },
   "outputs": [
    {
     "name": "stdout",
     "output_type": "stream",
     "text": [
      "172.19.72.85\n"
     ]
    }
   ],
   "source": [
    "''' Write the IP address to an attached PMOD OLED '''\n",
    "from pynq import Overlay\n",
    "from pynq.pmods import OLED\n",
    "\n",
    "ol = Overlay(\"pmod.bit\")\n",
    "ol.download()\n",
    "\n",
    "ip = get_ip_address()\n",
    "\n",
    "pmod_oled = OLED(2)\n",
    "pmod_oled.write(ip)\n",
    "\n",
    "print(ip)\n",
    "ol.reset_ip_dict()"
   ]
  },
  {
   "cell_type": "code",
   "execution_count": null,
   "metadata": {
    "collapsed": true
   },
   "outputs": [],
   "source": []
  }
 ],
 "metadata": {
  "kernelspec": {
   "display_name": "Python 3",
   "language": "python",
   "name": "python3"
  },
  "language_info": {
   "codemirror_mode": {
    "name": "ipython",
    "version": 3
   },
   "file_extension": ".py",
   "mimetype": "text/x-python",
   "name": "python",
   "nbconvert_exporter": "python",
   "pygments_lexer": "ipython3",
   "version": "3.4.3+"
  }
 },
 "nbformat": 4,
 "nbformat_minor": 0
}
