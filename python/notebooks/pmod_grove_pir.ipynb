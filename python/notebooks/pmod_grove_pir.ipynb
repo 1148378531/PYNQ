{
 "cells": [
  {
   "cell_type": "markdown",
   "metadata": {
    "collapsed": true
   },
   "source": [
    "# PMOD Grove PIR Motion Sensor\n",
    "\n",
    "## 1. Motion Sensor Demo\n",
    "\n",
    "1. The LED light will keep flashing until the PIR detects some movement.\n",
    "\n",
    "2. A short piece of music will be played when the PIR detects some movement.\n",
    "\n",
    "StickIt pin mapping:\n",
    "\n",
    "http://www.xess.com/static/media/manuals/StickIt-Grove-manual-v1_0.pdf"
   ]
  },
  {
   "cell_type": "code",
   "execution_count": null,
   "metadata": {
    "collapsed": false
   },
   "outputs": [],
   "source": [
    "from time import sleep\n",
    "from pynq import Overlay\n",
    "from pynq.board import LED\n",
    "from pynq.audio import LineIn\n",
    "from pynq.audio import Headphone\n",
    "from pynq.pmods.grove_pir import Grove_PIR\n",
    "\n",
    "ol1 = Overlay(\"pmod.bit\")\n",
    "ol2 = Overlay(\"audiovideo.bit\")\n",
    "\n",
    "ol2.download()\n",
    "pir = Grove_PIR(1,3)\n",
    "led = LED(0)\n",
    "led.on()\n",
    "headphone = Headphone()\n",
    "linein = LineIn()\n",
    "if pir.read()==0:\n",
    "    print(\"Starting detection...\")\n",
    "    while True:\n",
    "        led.on()\n",
    "        sleep(0.1)\n",
    "        led.off()\n",
    "        sleep(0.1)\n",
    "        if pir.read()==1:\n",
    "            for i in range(200000):\n",
    "                headphone(linein())\n",
    "            print(\"Detected a motion.\")\n",
    "            break\n",
    "print(\"Ending detection...\")\n",
    "ol1.download()\n",
    "del pir\n",
    "del led\n",
    "del ol1,ol2"
   ]
  },
  {
   "cell_type": "markdown",
   "metadata": {},
   "source": [
    "## 2. Plays a Short Music "
   ]
  },
  {
   "cell_type": "code",
   "execution_count": null,
   "metadata": {
    "collapsed": false
   },
   "outputs": [],
   "source": [
    "from pynq import Overlay\n",
    "from pynq.audio import Headphone, LineIn\n",
    "ol2 = Overlay(\"audiovideo.bit\")\n",
    "ol2.download()\n",
    "headphone = Headphone()\n",
    "linein = LineIn()\n",
    "for i in range(200000):\n",
    "    headphone(linein())"
   ]
  },
  {
   "cell_type": "markdown",
   "metadata": {},
   "source": [
    "## 3. Show Strings on PMOD Grove OLED"
   ]
  },
  {
   "cell_type": "code",
   "execution_count": null,
   "metadata": {
    "collapsed": false
   },
   "outputs": [],
   "source": [
    "from pynq import Overlay\n",
    "from pynq.pmods.grove_oled import Grove_OLED\n",
    "ol1 = Overlay(\"pmod.bit\")\n",
    "ol2 = Overlay(\"audiovideo.bit\")\n",
    "ol2.download()\n",
    "oled = Grove_OLED(1,4)\n",
    "oled.clear()\n",
    "oled.set_XY(1,0)\n",
    "oled.write('Hi, Grove OLED.')\n",
    "oled.set_XY(3,0)\n",
    "oled.write('Running on Zybo.')\n",
    "del oled"
   ]
  },
  {
   "cell_type": "markdown",
   "metadata": {},
   "source": [
    "## 4. Light up PMOD LED8"
   ]
  },
  {
   "cell_type": "code",
   "execution_count": null,
   "metadata": {
    "collapsed": true
   },
   "outputs": [],
   "source": [
    "from pynq import Overlay\n",
    "from pynq.pmods import LED8\n",
    "ol2 = Overlay(\"audiovideo.bit\")\n",
    "ol2.download()\n",
    "led8 = LED8(1,0)\n",
    "led8.on()"
   ]
  },
  {
   "cell_type": "code",
   "execution_count": null,
   "metadata": {
    "collapsed": true
   },
   "outputs": [],
   "source": []
  }
 ],
 "metadata": {
  "kernelspec": {
   "display_name": "Python 3",
   "language": "python",
   "name": "python3"
  },
  "language_info": {
   "codemirror_mode": {
    "name": "ipython",
    "version": 3
   },
   "file_extension": ".py",
   "mimetype": "text/x-python",
   "name": "python",
   "nbconvert_exporter": "python",
   "pygments_lexer": "ipython3",
   "version": "3.4.3+"
  }
 },
 "nbformat": 4,
 "nbformat_minor": 0
}
