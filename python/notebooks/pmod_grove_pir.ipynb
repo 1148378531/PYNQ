{
 "cells": [
  {
   "cell_type": "markdown",
   "metadata": {
    "collapsed": true
   },
   "source": [
    "# PMOD Grove PIR Motion Sensor\n",
    "This is just a demo, and will be polished further in the future.\n",
    "\n",
    "The LED light will keep flashing until the PIR detects some movement.\n",
    "\n",
    "StickIt pin mapping:\n",
    "\n",
    "http://www.xess.com/static/media/manuals/StickIt-Grove-manual-v1_0.pdf"
   ]
  },
  {
   "cell_type": "code",
   "execution_count": 1,
   "metadata": {
    "collapsed": false
   },
   "outputs": [
    {
     "name": "stdout",
     "output_type": "stream",
     "text": [
      "Detected a motion.\n"
     ]
    }
   ],
   "source": [
    "from time import sleep\n",
    "from pynq.pmods import LED8\n",
    "from pynq.pmods.grove_pir import Grove_PIR\n",
    "\n",
    "pir = Grove_PIR(4,1)\n",
    "led = LED8(3,0)\n",
    "led.on()\n",
    "if pir.read()==0:\n",
    "    while True:\n",
    "        led.on()\n",
    "        sleep(0.1)\n",
    "        led.off()\n",
    "        sleep(0.1)\n",
    "        if pir.read()==1:\n",
    "            print(\"Detected a motion.\")\n",
    "            break\n",
    "del pir\n",
    "del led"
   ]
  },
  {
   "cell_type": "code",
   "execution_count": null,
   "metadata": {
    "collapsed": true
   },
   "outputs": [],
   "source": []
  }
 ],
 "metadata": {
  "kernelspec": {
   "display_name": "Python 3",
   "language": "python",
   "name": "python3"
  },
  "language_info": {
   "codemirror_mode": {
    "name": "ipython",
    "version": 3
   },
   "file_extension": ".py",
   "mimetype": "text/x-python",
   "name": "python",
   "nbconvert_exporter": "python",
   "pygments_lexer": "ipython3",
   "version": "3.4.3+"
  }
 },
 "nbformat": 4,
 "nbformat_minor": 0
}
