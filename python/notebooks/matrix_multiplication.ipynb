{
 "cells": [
  {
   "cell_type": "markdown",
   "metadata": {},
   "source": [
    "Matrix multiplication (128*128 elements per matrix, 10 iterations)\n",
    "\n",
    "| Prog. Language     |      OS      |  Architecture |     Algorithm    | Runtime/iteration (ms) |\n",
    "| -------------------|:-------------|:-------------:|:----------------:| -------------:|\n",
    "|  C                 | Ubuntu 15.10 | x86_64, VirtualBox | 3-loop           |         11.10 |\n",
    "|  C                 | Ubuntu 15.10 | x86_64, VirtualBox | 6-loop           |          6.60 |\n",
    "|  Python (objects)  | Ubuntu 15.10 | x86_64, VirtualBox | 3-loop           |        248.68 |\n",
    "|  Python (numpy)    | Ubuntu 15.10 | x86_64, VirtualBox | N/A              |          1.86 |\n",
    "|  Python (C API)    | Ubuntu 15.10 | x86_64, VirtualBox | 6-loop           |          1.86 |\n",
    "|  C                 | Redhat 6.5   | x86_64, xcoaspen40 | 3-loop           |          8.00 |\n",
    "|  C                 | Redhat 6.5   | x86_64, xcoaspen40 | 6-loop           |          5.00 |\n",
    "|  Python (objects)  | Redhat 6.5   | x86_64, xcoaspen40 | 3-loop           |        454.16 |\n",
    "|  Python (numpy)    | Redhat 6.5   | x86_64, xcoaspen40 | N/A              |          1.99 |\n",
    "|  Python (C API)    | Redhat 6.5   | x86_64, xcoaspen40 | 6-loop           |          2.01 |\n",
    "|  C                 | Ubuntu 15.10 | armhf, Zybo   | 3-loop           |        225.20 |\n",
    "|  C                 | Ubuntu 15.10 | armhf, Zybo   | 6-loop           |        131.00 |\n",
    "|  Python (objects)  | Ubuntu 15.10 | armhf, Zybo   | 3-loop           |       4369.21 |\n",
    "|  Python (numpy)    | Ubuntu 15.10 | armhf, Zybo   | N/A              |         53.98 |\n",
    "|  Python (C API)    | Ubuntu 15.10 | armhf, Zybo   | 6-loop           |         25.02 |\n",
    "|  Python (SDSoC PL) | Ubuntu 15.10 | armhf, Zybo   | 6-loop           |          6.34 |\n",
    "|  C (SDSoC)         | PetaLinux(2015.2.1) | armhf, Zybo   | 3-loop    |        190.41 |\n",
    "|  C (SDSoC)         | PetaLinux(2015.2.1) | armhf, Zybo   | 6-loop    |         90.77 |\n",
    "|  C (SDSoC PL)      | PetaLinux(2015.2.1) | armhf, Zybo   | 6-loop    |          9.17 |\n",
    "|  C (SDSoC)         | Baremetal    | armhf, Zybo   | 3-loop           |        180.23 |\n",
    "|  C (SDSoC)         | Baremetal    | armhf, Zybo   | 6-loop           |         88.04 |\n",
    "|  C (SDSoC PL)      | Baremetal    | armhf, Zybo   | 6-loop           |          8.92 |\n",
    "\n",
    "* The original C code in SDSoC project uses 3-loop, which gives the worst performance on all platforms.\n",
    "\n",
    "\n",
    "\n"
   ]
  },
  {
   "cell_type": "markdown",
   "metadata": {},
   "source": [
    "### Python (PyObjects) and Numpy\n",
    "#### 1. PyObjects\n",
    "http://www.programiz.com/python-programming/examples/multiply-matrix <br>\n",
    "#### 2. Numpy library\n",
    "http://docs.scipy.org/doc/numpy/reference/generated/numpy.matrix.html <br>\n",
    "http://stackoverflow.com/questions/2866380/how-can-i-time-a-code-segment-for-testing-performance-with-pythons-timeit  <br>\n",
    "http://stackoverflow.com/questions/10442365/why-is-matrix-multiplication-faster-with-numpy-than-with-ctypes-in-python <br>"
   ]
  },
  {
   "cell_type": "code",
   "execution_count": 14,
   "metadata": {
    "collapsed": false
   },
   "outputs": [
    {
     "name": "stdout",
     "output_type": "stream",
     "text": [
      "Python object1 on ARM: 4369.213620899791 ms\n",
      "Python object2 on ARM: 4370.525037399784 ms\n",
      "Numpy on ARM: 53.983153800072614 ms\n",
      "Test passed\n"
     ]
    }
   ],
   "source": [
    "# define the parameters\n",
    "dim = 128\n",
    "iteration = 10\n",
    "\n",
    "import random\n",
    "import timeit\n",
    "import numpy as np\n",
    "\n",
    "def py_mmult1(a,b,result):\n",
    "    for i in range(len(a)):\n",
    "       for j in range(len(b[0])):\n",
    "           result[i][j] = sum(a[i][k]*b[k][j] for k in range(len(b)))\n",
    "\n",
    "def py_mmult2(a,b,result):\n",
    "    result = [[sum(aa*bb for aa,bb in zip(A_row,B_col)) for B_col in zip(*b)] for A_row in a]\n",
    "    \n",
    "def numpy_mmult2(a,b,result):\n",
    "    result += a*b\n",
    "\n",
    "t1_sec = 0\n",
    "t2_sec = 0\n",
    "t3_sec = 0\n",
    "for ii in range(iteration):\n",
    "    # generate matrices\n",
    "    a = [[random.randint(0,dim-1) for i in range(dim)] for j in range(dim)]\n",
    "    b = [[random.randint(0,dim-1) for i in range(dim)] for j in range(dim)]\n",
    "    result1 = [[0 for i in range(dim)] for j in range(dim)]\n",
    "    result2 = [[0 for i in range(dim)] for j in range(dim)]\n",
    "\n",
    "    t1 = timeit.Timer(lambda: py_mmult1(a,b,result1))\n",
    "    t1_sec += t1.timeit(number=1)\n",
    "    \n",
    "    t2 = timeit.Timer(lambda: py_mmult1(a,b,result2))\n",
    "    t2_sec += t2.timeit(number=1)\n",
    "\n",
    "    x = np.matrix(np.random.randint(127,size=(dim,dim)))\n",
    "    y = np.matrix(np.random.randint(127,size=(dim,dim)))\n",
    "    result3 = np.matrix(np.random.randint(127,size=(dim,dim)))\n",
    "    \n",
    "    for i in range(dim):\n",
    "        for j in range(dim):\n",
    "            x[i,j] = a[i][j]\n",
    "            y[i,j] = b[i][j]\n",
    "            result3[i,j] = 0\n",
    "    t3 = timeit.Timer(lambda: numpy_mmult2(x,y,result3))\n",
    "    t3_sec += t3.timeit(number=1)\n",
    "    \n",
    "    for i in range(dim):\n",
    "        for j in range(dim):\n",
    "            assert result1[i][j]==result2[i][j], \"results not equal\"\n",
    "            assert result1[i][j]==result3[i,j], \"results not equal to numpy\"\n",
    "    \n",
    "print (\"Python object1 on ARM: \" + str(t1_sec*1000/iteration) + \" ms\")\n",
    "print (\"Python object2 on ARM: \" + str(t2_sec*1000/iteration) + \" ms\")\n",
    "print (\"Numpy on ARM: \" + str(t3_sec*1000/iteration) + \" ms\")\n",
    "print (\"Test passed\")"
   ]
  },
  {
   "cell_type": "code",
   "execution_count": 8,
   "metadata": {
    "collapsed": false,
    "scrolled": true
   },
   "outputs": [
    {
     "name": "stdout",
     "output_type": "stream",
     "text": [
      "Numpy on ARM: 52.540790399962134 ms\n"
     ]
    }
   ],
   "source": [
    "iteration = 10\n",
    "dim = 128\n",
    "\n",
    "import numpy as np\n",
    "\n",
    "a = np.matrix(np.random.randint(16,size=(dim,dim)))\n",
    "b = np.matrix(np.random.randint(16,size=(dim,dim)))\n",
    "\n",
    "def numpy_mmult(a,b):\n",
    "    return a*b\n",
    "\n",
    "# Timeit - create callable function...\n",
    "import timeit\n",
    "t = timeit.Timer(lambda: numpy_mmult(a,b))\n",
    "t_sec = t.timeit(number=iteration)/iteration\n",
    "\n",
    "print (\"Numpy on ARM: \" + str(t_sec*1000) + \" ms\")\n"
   ]
  },
  {
   "cell_type": "markdown",
   "metadata": {
    "collapsed": true
   },
   "source": [
    "### Python + PL (Binding SDSoC Project)\n",
    "\n",
    "#### 1. Prep Development Environment\n",
    "\n",
    "```bash\n",
    "source /proj/gsd/sdsoc/SDSoC/2015.4/settings64.sh\n",
    "```\n",
    "```bash\n",
    "export PATH=/proj/gsd/sdsoc/SDSoC/2015.4/SDK/2015.4/gnu/aarch32/lin/gcc-arm-linux-gnueabi/bin/:${PATH}\n",
    "```\n",
    "The next step is optional if you already have a project folder.\n",
    "```bash\n",
    "unzip lab3.zip\n",
    "```\n",
    "Create a working folder.\n",
    "```bash\n",
    "cd lab3/lab3/SDRelease/_sds/swstubs/\n",
    "mkdir xpp ; cp .c .h *.cpp xpp ; cd xpp\n",
    "```\n",
    "\n",
    "#### 2. Modify mmult.cpp to make mmult callable from shared library\n",
    "\n",
    "Find the follow statement. \"1024\" is for the case of 32-by-32 matrix multiplication.\n",
    "```c\n",
    "void _p0_mmult_0(data_t A[1024], data_t B[1024], data_t C[1024]);\n",
    "```\n",
    "Change to:\n",
    "```c\n",
    "extern \"C\" void _p0_mmult_0(data_t A[1024], data_t B[1024], data_t C[1024]);\n",
    "```\n",
    "\n",
    "#### 3. Compile generated cf files\n",
    "\n",
    "```bash\n",
    "arm-linux-gnueabihf-gcc -fPIC -I /proj/gsd/sdsoc/SDSoC/2015.4/arm-xilinx-linux-gnueabi/include -c devreg.c\n",
    "```\n",
    "```bash\n",
    "arm-linux-gnueabihf-gcc -fPIC -I /proj/gsd/sdsoc/SDSoC/2015.4/arm-xilinx-linux-gnueabi/include -c portinfo.c\n",
    "```\n",
    "```bash\n",
    "arm-linux-gnueabihf-gcc -fPIC -I /proj/gsd/sdsoc/SDSoC/2015.4/arm-xilinx-linux-gnueabi/include -c cf_stub.c\n",
    "```\n",
    "#### 4. Compile the accelerator function's C file\n",
    "\n",
    "```bash\n",
    "arm-linux-gnueabihf-g++ -fPIC -I /proj/gsd/sdsoc/SDSoC/2015.4/arm-xilinx-linux-gnueabi/include -I../../../../src -Wall -O3 -D __SDSCC__ -c mmult.cpp\n",
    "```\n",
    "\n",
    "#### 5. Build the final .so file against hf-gcc compiled sds_lib.a\n",
    "\n",
    "```bash\n",
    "arm-linux-gnueabihf-g++ -rdynamic devreg.o portinfo.o cf_stub.o mmult.o -L/group/xrlabs2/grahams/SDSoC/cf.2015.4/build_linux -Wl,--start-group -lpthread -lsds_lib -Wl,--end-group -o libmmult.so -fPIC -shared\n",
    "```\n",
    "\n",
    "#### 6. Copy .so and .bit to Zybo\n",
    "\n",
    "```bash\n",
    "rsync -avz -e ssh ../../../lab3.elf.bit libmmult.so xpp@IP_ADDR:/home/xpp \n",
    "```\n",
    "or directly copy those files onto Zybo.\n",
    "\n",
    "#### 7. Download the bitstream.\n",
    "The following notebook scripts can be run directly on Zybo once steps above have been completed."
   ]
  },
  {
   "cell_type": "code",
   "execution_count": 1,
   "metadata": {
    "collapsed": false
   },
   "outputs": [
    {
     "name": "stdout",
     "output_type": "stream",
     "text": [
      "Bitstream has been downloaded for matrix multiplication\n"
     ]
    }
   ],
   "source": [
    "from pyxi.pl import Overlay\n",
    "# Change the name of the bitstream accordingly\n",
    "Overlay().download_bitstream(\"/home/xpp/jupyter_notebooks/mm_python_linux.elf.bit\")\n",
    "print(\"Bitstream has been downloaded for matrix multiplication\")"
   ]
  },
  {
   "cell_type": "markdown",
   "metadata": {},
   "source": [
    "#### 8. Install and use Python package\n",
    "We need the \"cffi\" package if it has not been installed.\n",
    "```bash\n",
    "pip install cffi\n",
    "```\n",
    "#### 9. Run matrix multiplication script"
   ]
  },
  {
   "cell_type": "code",
   "execution_count": 2,
   "metadata": {
    "collapsed": false
   },
   "outputs": [
    {
     "name": "stdout",
     "output_type": "stream",
     "text": [
      "Call the C-API with PL...\n",
      "Numpy on ARM: 52.62119130000116 ms\n",
      "Python-binding SDSoC HW on ARM: 6.449775300002614 ms\n",
      "Test passed\n"
     ]
    }
   ],
   "source": [
    "dim = 128\n",
    "iteration = 10\n",
    "\n",
    "import cffi\n",
    "import timeit\n",
    "import numpy as np\n",
    "\n",
    "ffi = cffi.FFI()\n",
    "\n",
    "# Pull out mmult, alloc and deallocate functions\n",
    "# 16384 is for 128*128 matrix multiplication\n",
    "ffi.cdef(\"void _p0_mmult_0(int A[16384], int B[16384], int C[16384]);\")\n",
    "ffi.cdef(\"int* sds_alloc(int size);\")\n",
    "ffi.cdef(\"void sds_free(int* memptr);\")\n",
    "ffi.cdef(\"void mmult_sw(int* A, int* B, int* C);\")\n",
    "\n",
    "# Pull in the shared object file from SDSoC (driver + datamovement)\n",
    "lib = ffi.dlopen('/home/xpp/jupyter_notebooks/libmmult.so')\n",
    "\n",
    "# allocate contiguous physical memory for matrices (SDSoC Required)\n",
    "# Need a space of (bytes per data_t)*dim*dim according to mmult.cpp\n",
    "size = dim*dim\n",
    "a = lib.sds_alloc(4*size)\n",
    "b = lib.sds_alloc(4*size)    \n",
    "c = lib.sds_alloc(4*size)\n",
    "\n",
    "t1_sec = 0\n",
    "t2_sec = 0\n",
    "success = 1\n",
    "print(\"Call the C-API with PL...\")\n",
    "\n",
    "for ii in range(iteration):\n",
    "    x = np.matrix(np.random.randint(dim-1,size=(dim,dim)))\n",
    "    y = np.matrix(np.random.randint(dim-1,size=(dim,dim)))\n",
    "    z = x*y\n",
    "    t1 = timeit.Timer(lambda: x*y)\n",
    "    t1_sec += t1.timeit(number=1)\n",
    "\n",
    "    # Initialize A and B\n",
    "    for i in range(dim):\n",
    "        for j in range(dim):\n",
    "            a[i*dim+j] = ffi.cast(\"int\", x[i,j])\n",
    "            b[i*dim+j] = ffi.cast(\"int\", y[i,j])\n",
    "\n",
    "    # Call the HW version\n",
    "    t2 = timeit.Timer(lambda: lib._p0_mmult_0(a,b,c))\n",
    "    t2_sec += t2.timeit(number=1)\n",
    "\n",
    "    # Checking the results\n",
    "    for i in range(dim):\n",
    "        for j in range(dim):\n",
    "            if not c[i*dim+j]==z[i,j]:\n",
    "                print(\"Error: wrong results.\")\n",
    "                success = 0\n",
    "                break\n",
    "if success==1:\n",
    "    print(\"Numpy on ARM: \" + str(t1_sec*1000/iteration) + \" ms\")\n",
    "    print(\"Python-binding SDSoC HW on ARM: \" + str(t2_sec*1000/iteration) + \" ms\")\n",
    "    print(\"Test passed\")"
   ]
  },
  {
   "cell_type": "markdown",
   "metadata": {
    "collapsed": true
   },
   "source": [
    "### Python + C (Binding SDSoC Project)\n",
    "This method is using the software version of the matrix multiplication in SDSoC project. Since pointers are passed from Python to C, the Python capsule is used. For more information:\n",
    "\n",
    "https://docs.python.org/3.1/c-api/capsule.html <br>\n",
    "\n",
    "#### 1. Build the Python-C API\n",
    "Change directory into the folder (by default, \"/home/xpp/jupyter_notebooks\") where \"mmmodule.c\" and \"setup.py\" can be found. Do:\n",
    "```bash\n",
    "python3.4 setup.py build\n",
    "```\n",
    "\n",
    "This will genenrate a \"build\" folder with \".so\" files. Then do:\n",
    "```bash\n",
    "python3.4 setup.py install\n",
    "```\n",
    "\n",
    "This will expose \"mmmod\" to the Python environment.\n",
    "\n",
    "#### 2. Use \"mmmod\"\n",
    "The \"mmmod\" implements a basic data structure: Array. Uses can also write() and read() a single element of the array each time. Function clear() set all the elements to 0, while set() set all the elements to the specified value."
   ]
  },
  {
   "cell_type": "code",
   "execution_count": 7,
   "metadata": {
    "collapsed": false
   },
   "outputs": [
    {
     "name": "stdout",
     "output_type": "stream",
     "text": [
      "Call the C-API version...\n",
      "Python-binding C on ARM: 24.979956800052605 ms\n",
      "Test passed\n"
     ]
    }
   ],
   "source": [
    "import mmmod\n",
    "import timeit\n",
    "import numpy as np\n",
    "\n",
    "# For mmmod, the dimension is integrated into C code\n",
    "dim = 128\n",
    "iteration = 10\n",
    "\n",
    "a = mmmod.Array()\n",
    "b = mmmod.Array()\n",
    "c = mmmod.Array()\n",
    "\n",
    "print(\"Call the C-API version...\")\n",
    "success = 1\n",
    "t1_sec = 0\n",
    "t2_sec = 0\n",
    "\n",
    "for ii in range(iteration):\n",
    "    x = np.matrix(np.random.randint(dim-1,size=(dim,dim)))\n",
    "    y = np.matrix(np.random.randint(dim-1,size=(dim,dim)))\n",
    "    z = x*y\n",
    "    \n",
    "    for i in range(dim):\n",
    "        for j in range(dim):\n",
    "            mmmod.write(a,i,j,x[i,j])\n",
    "            mmmod.write(b,i,j,y[i,j])\n",
    "    mmmod.clear(c)\n",
    "    \n",
    "    t2 = timeit.Timer(lambda: mmmod.mmult_sw(a,b,c))\n",
    "    t2_sec += t2.timeit(number=1)\n",
    "    \n",
    "    # Checking the results\n",
    "    for i in range(dim):\n",
    "        for j in range(dim):\n",
    "            if not mmmod.read(c,i,j)==z[i,j]:\n",
    "                print(\"Error: wrong results.\")\n",
    "                success = 0\n",
    "                break\n",
    "                \n",
    "if success==1:\n",
    "    print(\"Python-binding C on ARM: \" + str(t2_sec*1000/iteration) + \" ms\")\n",
    "    print(\"Test passed\")"
   ]
  },
  {
   "cell_type": "code",
   "execution_count": null,
   "metadata": {
    "collapsed": true
   },
   "outputs": [],
   "source": []
  }
 ],
 "metadata": {
  "kernelspec": {
   "display_name": "Python 3",
   "language": "python",
   "name": "python3"
  },
  "language_info": {
   "codemirror_mode": {
    "name": "ipython",
    "version": 3
   },
   "file_extension": ".py",
   "mimetype": "text/x-python",
   "name": "python",
   "nbconvert_exporter": "python",
   "pygments_lexer": "ipython3",
   "version": "3.4.3+"
  }
 },
 "nbformat": 4,
 "nbformat_minor": 0
}
