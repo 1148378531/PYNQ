{
 "cells": [
  {
   "cell_type": "markdown",
   "metadata": {
    "collapsed": true
   },
   "source": [
    "# PMOD Grove OLED\n",
    "This is just a demo, and will be polished further in the future.\n",
    "\n",
    "StickIt pin mapping:\n",
    "\n",
    "http://www.xess.com/static/media/manuals/StickIt-Grove-manual-v1_0.pdf"
   ]
  },
  {
   "cell_type": "code",
   "execution_count": 3,
   "metadata": {
    "collapsed": false
   },
   "outputs": [],
   "source": [
    "from pynq.pmods.grove_oled import Grove_OLED\n",
    "oled = Grove_OLED(4,4)\n",
    "oled.clear()\n",
    "oled.set_XY(1,0)\n",
    "oled.write('Hi, Grove OLED.')\n",
    "oled.set_XY(3,0)\n",
    "oled.write('Running on Zybo.')\n",
    "del oled"
   ]
  },
  {
   "cell_type": "code",
   "execution_count": null,
   "metadata": {
    "collapsed": true
   },
   "outputs": [],
   "source": []
  }
 ],
 "metadata": {
  "kernelspec": {
   "display_name": "Python 3",
   "language": "python",
   "name": "python3"
  },
  "language_info": {
   "codemirror_mode": {
    "name": "ipython",
    "version": 3
   },
   "file_extension": ".py",
   "mimetype": "text/x-python",
   "name": "python",
   "nbconvert_exporter": "python",
   "pygments_lexer": "ipython3",
   "version": "3.4.3+"
  }
 },
 "nbformat": 4,
 "nbformat_minor": 0
}
