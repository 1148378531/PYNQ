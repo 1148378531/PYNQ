{
 "cells": [
  {
   "cell_type": "markdown",
   "metadata": {},
   "source": [
    "# Demos\n",
    "## 1. Demo of the buttons, switches, and LEDs\n",
    "\n",
    "The LED will be on at start of this demo. Users can do the following\n",
    "to control the onboard buttons, switches, and LEDs:\n",
    "    \n",
    "    Button 0 long-pressed:   LEDs toggle.\n",
    "    Button 1 pressed:        LEDs shift from right to left.\n",
    "    Button 2 pressed:\n",
    "                             Switch 0 on   -> LED 0 on.\n",
    "                             Switch 1 on   -> LED 1 on.\n",
    "                             Switch 2 on   -> LED 2 on.\n",
    "                             Switch 3 on   -> LED 3 on.\n",
    "    Button 3 pressed:        End this demo."
   ]
  },
  {
   "cell_type": "code",
   "execution_count": 12,
   "metadata": {
    "collapsed": false
   },
   "outputs": [
    {
     "name": "stdout",
     "output_type": "stream",
     "text": [
      "End of this demo ...\n"
     ]
    }
   ],
   "source": [
    "from time import sleep\n",
    "from pyxi.board.led import LED\n",
    "from pyxi.board.switch import Switch\n",
    "from pyxi.board.button import Button\n",
    "\n",
    "Delay1 = 0.2\n",
    "Delay2 = 0.1\n",
    "leds = [LED(index) for index in range(0, 4)] \n",
    "btns = [Button(index) for index in range(0, 4)] \n",
    "sws = [Switch(index) for index in range(0, 4)]\n",
    "        \n",
    "for led in leds:\n",
    "    led.on()    \n",
    "while (btns[3].read()==0):\n",
    "    if (btns[0].read()==1):\n",
    "        for led in leds:\n",
    "            led.toggle()\n",
    "        sleep(Delay1)\n",
    "        \n",
    "    elif (btns[1].read()==1):\n",
    "        for led in leds:\n",
    "            led.off()\n",
    "        sleep(Delay2)\n",
    "        for led in leds:\n",
    "            led.toggle()\n",
    "            sleep(Delay2)\n",
    "            \n",
    "    elif (btns[2].read()==1):\n",
    "        for i in range(0, 4):\n",
    "            if (sws[i].read()==1):\n",
    "                leds[i].on()\n",
    "            else:\n",
    "                leds[i].off()                  \n",
    "    \n",
    "print('End of this demo ...')\n",
    "for led in leds:\n",
    "    led.off()\n"
   ]
  },
  {
   "cell_type": "markdown",
   "metadata": {},
   "source": [
    "## 2. Demo of the DAC-ADC-OLED Loopback\n",
    "\n",
    "Repeatedly write values to the DAC, read them from the ADC\n",
    "and prints the results on the OLED.\n",
    "\n",
    "The loop is done twice. Look at the OLED after entering all \n",
    "the PMOD IDs."
   ]
  },
  {
   "cell_type": "code",
   "execution_count": 3,
   "metadata": {
    "collapsed": false
   },
   "outputs": [
    {
     "name": "stdout",
     "output_type": "stream",
     "text": [
      "Make sure ADC, DAC and OLED are attached to the board.\n",
      "Writing values from 0.0V to 2.0V with step 0.1V.\n",
      "Type in the PMOD ID of the DAC (1 ~ 4): 1\n",
      "Type in the PMOD ID of the ADC (1 ~ 4): 2\n",
      "Type in the PMOD's ID of the OLED (1 ~ 4): 4\n",
      "End of this demo ...\n"
     ]
    }
   ],
   "source": [
    "from time import sleep\n",
    "from pyxi import Overlay\n",
    "from pyxi.pmods.adc import ADC\n",
    "from pyxi.pmods.dac import DAC\n",
    "from pyxi.pmods.oled import OLED\n",
    "    \n",
    "print('Make sure ADC, DAC and OLED are attached to the board.')\n",
    "print(\"Writing values from 0.0V to 2.0V with step 0.1V.\")\n",
    "\n",
    "ol = Overlay(\"pmod.bit\")\n",
    "dac = DAC(int(input(\"Type in the PMOD ID of the DAC (1 ~ 4): \")))\n",
    "adc = ADC(int(input(\"Type in the PMOD ID of the ADC (1 ~ 4): \")))\n",
    "oled = OLED(int(input(\"Type in the PMOD's ID of the OLED (1 ~ 4): \")))\n",
    "    \n",
    "Delay = 0.2\n",
    "for i in range(2):\n",
    "    for j in range(21):\n",
    "        value = 0.1 * j\n",
    "        dac.write(value)\n",
    "        sleep(Delay)\n",
    "        oled.write(adc.read())\n",
    "        \n",
    "print('End of this demo ...')\n",
    "oled.clear_screen()\n",
    "\n",
    "#: Cleanup IOPs\n",
    "ol.flush_iop_dictionary()"
   ]
  }
 ],
 "metadata": {
  "kernelspec": {
   "display_name": "Python 3",
   "language": "python",
   "name": "python3"
  },
  "language_info": {
   "codemirror_mode": {
    "name": "ipython",
    "version": 3
   },
   "file_extension": ".py",
   "mimetype": "text/x-python",
   "name": "python",
   "nbconvert_exporter": "python",
   "pygments_lexer": "ipython3",
   "version": "3.4.3+"
  }
 },
 "nbformat": 4,
 "nbformat_minor": 0
}
