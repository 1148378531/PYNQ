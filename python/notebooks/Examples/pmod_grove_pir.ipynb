{
 "cells": [
  {
   "cell_type": "markdown",
   "metadata": {
    "collapsed": true
   },
   "source": [
    "# PMOD Grove PIR Motion Sensor\n",
    "\n",
    "This is the demo for the motion sensor. Users have to connect the `LineIn` port of Zybo to the audio source, and start playing music before the demo.\n",
    "\n",
    "* The LED light will keep flashing until the PIR detects some movement.\n",
    "\n",
    "* A short piece of music will be played when the PIR detects some movement.\n",
    "\n",
    "StickIt pin mapping:\n",
    "\n",
    "http://www.xess.com/static/media/manuals/StickIt-Grove-manual-v1_0.pdf"
   ]
  },
  {
   "cell_type": "code",
   "execution_count": 1,
   "metadata": {
    "collapsed": false
   },
   "outputs": [
    {
     "name": "stdout",
     "output_type": "stream",
     "text": [
      "Starting detection...\n",
      "Detected a motion.\n",
      "Ending detection...\n"
     ]
    }
   ],
   "source": [
    "from time import sleep\n",
    "from pynq import Overlay\n",
    "from pynq.board import LED\n",
    "from pynq.audio import LineIn\n",
    "from pynq.audio import Headphone\n",
    "from pynq.pmods import Grove_PIR\n",
    "\n",
    "ol1 = Overlay(\"pmod.bit\")\n",
    "ol2 = Overlay(\"audiovideo.bit\")\n",
    "\n",
    "ol2.download()\n",
    "pir = Grove_PIR(1,1)\n",
    "led = LED(0)\n",
    "led.on()\n",
    "headphone = Headphone()\n",
    "linein = LineIn()\n",
    "if pir.read()==0:\n",
    "    print(\"Starting detection...\")\n",
    "    while True:\n",
    "        led.on()\n",
    "        sleep(0.1)\n",
    "        led.off()\n",
    "        sleep(0.1)\n",
    "        if pir.read()==1:\n",
    "            for i in range(200000):\n",
    "                headphone(linein())\n",
    "            print(\"Detected a motion.\")\n",
    "            break\n",
    "print(\"Ending detection...\")\n",
    "ol1.download()\n",
    "del pir,led,ol1,ol2"
   ]
  },
  {
   "cell_type": "code",
   "execution_count": null,
   "metadata": {
    "collapsed": true
   },
   "outputs": [],
   "source": []
  }
 ],
 "metadata": {
  "kernelspec": {
   "display_name": "Python 3",
   "language": "python",
   "name": "python3"
  },
  "language_info": {
   "codemirror_mode": {
    "name": "ipython",
    "version": 3
   },
   "file_extension": ".py",
   "mimetype": "text/x-python",
   "name": "python",
   "nbconvert_exporter": "python",
   "pygments_lexer": "ipython3",
   "version": "3.4.3+"
  }
 },
 "nbformat": 4,
 "nbformat_minor": 0
}
