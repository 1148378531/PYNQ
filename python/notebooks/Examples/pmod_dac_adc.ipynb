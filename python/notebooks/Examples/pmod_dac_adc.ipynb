{
 "cells": [
  {
   "cell_type": "markdown",
   "metadata": {},
   "source": [
    "## Demo of the DAC-ADC-OLED Loopback\n",
    "\n",
    "This is a demo on Zybo with PMODs. Users need to have 3 PMODs to run this demo: DAC, ADC, and OLED.\n",
    "\n",
    "This demo will repeatedly write values to the DAC, read them from the ADC\n",
    "and prints the results on the OLED.\n",
    "\n",
    "The loop is done twice. Look at the OLED after entering all \n",
    "the PMOD IDs."
   ]
  },
  {
   "cell_type": "code",
   "execution_count": 1,
   "metadata": {
    "collapsed": false
   },
   "outputs": [
    {
     "name": "stdout",
     "output_type": "stream",
     "text": [
      "Make sure ADC, DAC and OLED are attached to the board.\n",
      "Writing values from 0.0V to 2.0V with step 0.1V.\n",
      "Type in the PMOD ID of the DAC (1 ~ 4): 3\n",
      "Type in the PMOD ID of the ADC (1 ~ 4): 4\n",
      "Type in the PMOD's ID of the OLED (1 ~ 4): 2\n",
      "End of this demo ...\n"
     ]
    }
   ],
   "source": [
    "from time import sleep\n",
    "from pynq import Overlay\n",
    "from pynq.pmods import PMOD_ADC\n",
    "from pynq.pmods import PMOD_DAC\n",
    "from pynq.pmods import PMOD_OLED\n",
    "    \n",
    "print('Make sure ADC, DAC and OLED are attached to the board.')\n",
    "print(\"Writing values from 0.0V to 2.0V with step 0.1V.\")\n",
    "\n",
    "ol = Overlay(\"pmod.bit\")\n",
    "ol.download()\n",
    "dac = PMOD_DAC(int(input(\"Type in the PMOD ID of the DAC (1 ~ 4): \")))\n",
    "adc = PMOD_ADC(int(input(\"Type in the PMOD ID of the ADC (1 ~ 4): \")))\n",
    "oled = PMOD_OLED(int(input(\"Type in the PMOD's ID of the OLED (1 ~ 4): \")))\n",
    "Delay = 0.2\n",
    "\n",
    "for i in range(2):\n",
    "    for j in range(21):\n",
    "        value = 0.1 * j\n",
    "        dac.write(value)\n",
    "        sleep(Delay)\n",
    "        oled.write(adc.read())\n",
    "        \n",
    "print('End of this demo ...')\n",
    "oled.clear()\n",
    "\n",
    "#: Cleanup IOPs\n",
    "ol.reset_ip_dict()\n",
    "del dac,adc,oled,ol"
   ]
  },
  {
   "cell_type": "code",
   "execution_count": null,
   "metadata": {
    "collapsed": true
   },
   "outputs": [],
   "source": []
  }
 ],
 "metadata": {
  "kernelspec": {
   "display_name": "Python 3",
   "language": "python",
   "name": "python3"
  },
  "language_info": {
   "codemirror_mode": {
    "name": "ipython",
    "version": 3
   },
   "file_extension": ".py",
   "mimetype": "text/x-python",
   "name": "python",
   "nbconvert_exporter": "python",
   "pygments_lexer": "ipython3",
   "version": "3.4.3+"
  }
 },
 "nbformat": 4,
 "nbformat_minor": 0
}
