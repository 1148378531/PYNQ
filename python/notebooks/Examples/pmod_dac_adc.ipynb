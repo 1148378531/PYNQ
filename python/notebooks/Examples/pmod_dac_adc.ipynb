{
 "cells": [
  {
   "cell_type": "markdown",
   "metadata": {},
   "source": [
    "## Demo of the DAC-ADC-OLED Loopback\n",
    "\n",
    "This is a demo on Zybo with PMODs. Users need to have 3 PMODs to run this demo: DAC, ADC, and OLED.\n",
    "\n",
    "This demo will repeatedly write values to the DAC, read them from the ADC\n",
    "and prints the results on the OLED.\n",
    "\n",
    "The loop is done twice. Look at the OLED after entering all \n",
    "the PMOD IDs."
   ]
  },
  {
   "cell_type": "code",
   "execution_count": 5,
   "metadata": {
    "collapsed": false
   },
   "outputs": [
    {
     "name": "stdout",
     "output_type": "stream",
     "text": [
      "Type in the PMOD ID of the DAC (1 ~ 4): 3\n",
      "Type in the PMOD ID of the ADC (1 ~ 4): 4\n",
      "Type in the PMOD's ID of the OLED (1 ~ 4): 2\n",
      "End of this demo ...\n"
     ]
    }
   ],
   "source": [
    "from time import sleep\n",
    "from pynq import Overlay\n",
    "from pynq.pmods import PMOD_ADC\n",
    "from pynq.pmods import PMOD_DAC\n",
    "from pynq.pmods import PMOD_OLED\n",
    "\n",
    "ol = Overlay(\"pmod.bit\")\n",
    "ol.download()\n",
    "# Writing values from 0.0V to 2.0V with step 0.1V.\n",
    "dac_id = int(input(\"Type in the PMOD ID of the DAC (1 ~ 4): \"))\n",
    "adc_id = int(input(\"Type in the PMOD ID of the ADC (1 ~ 4): \"))\n",
    "oled_id = int(input(\"Type in the PMOD's ID of the OLED (1 ~ 4): \"))\n",
    "\n",
    "dac = PMOD_DAC(dac_id)\n",
    "adc = PMOD_ADC(adc_id)\n",
    "oled = PMOD_OLED(oled_id)\n",
    "\n",
    "for i in range(2):\n",
    "    for j in range(20):\n",
    "        value = 0.1 * j\n",
    "        dac.write(value)\n",
    "        sleep(0.5)\n",
    "        readings=adc.read(1,0,0)\n",
    "        x1=readings[0]\n",
    "        text = \"{:.4f}\".format(x1)\n",
    "        oled.clear()\n",
    "        oled.write(text)\n",
    "        \n",
    "print('End of this demo ...')\n",
    "adc.reset()\n",
    "oled.clear()\n",
    "\n",
    "# Cleanup IOPs\n",
    "ol.reset()\n",
    "del dac,adc,oled,ol"
   ]
  },
  {
   "cell_type": "code",
   "execution_count": null,
   "metadata": {
    "collapsed": true
   },
   "outputs": [],
   "source": []
  }
 ],
 "metadata": {
  "kernelspec": {
   "display_name": "Python 3",
   "language": "python",
   "name": "python3"
  },
  "language_info": {
   "codemirror_mode": {
    "name": "ipython",
    "version": 3
   },
   "file_extension": ".py",
   "mimetype": "text/x-python",
   "name": "python",
   "nbconvert_exporter": "python",
   "pygments_lexer": "ipython3",
   "version": "3.4.3+"
  }
 },
 "nbformat": 4,
 "nbformat_minor": 0
}
