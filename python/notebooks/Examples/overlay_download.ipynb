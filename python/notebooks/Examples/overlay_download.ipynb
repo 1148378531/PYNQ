{
 "cells": [
  {
   "cell_type": "markdown",
   "metadata": {},
   "source": [
    "# Downloading Overlays\n",
    "\n",
    "This notebook covers how to download an overlay and related topics.  \n",
    "## 1. Instantiating an overlay\n",
    "To instantiate an overlay,  the corresponding bitstream file can be:\n",
    " 1. In the location of the Pynq python package: /pynq/bitstream/\n",
    " 2. In any location accessable in the file system.\n",
    " \n",
    "In the first case, users can just simply use the bitstream name to instantiate the overlay, as shown below."
   ]
  },
  {
   "cell_type": "code",
   "execution_count": 1,
   "metadata": {
    "collapsed": false
   },
   "outputs": [],
   "source": [
    "from pynq import Overlay\n",
    "ol = Overlay(\"pmod.bit\")"
   ]
  },
  {
   "cell_type": "markdown",
   "metadata": {},
   "source": [
    "In the second case, users can use absolute file path to instantiate the overlay."
   ]
  },
  {
   "cell_type": "code",
   "execution_count": 2,
   "metadata": {
    "collapsed": false
   },
   "outputs": [],
   "source": [
    "from pynq import Overlay\n",
    "ol = Overlay(\"/home/xpp/pynq/bitstream/pmod.bit\")"
   ]
  },
  {
   "cell_type": "markdown",
   "metadata": {},
   "source": [
    "To check the timestamp of the overlay:"
   ]
  },
  {
   "cell_type": "code",
   "execution_count": 3,
   "metadata": {
    "collapsed": false
   },
   "outputs": [
    {
     "data": {
      "text/plain": [
       "'2016/5/19 18:59:41 +730983'"
      ]
     },
     "execution_count": 3,
     "metadata": {},
     "output_type": "execute_result"
    }
   ],
   "source": [
    "ol.download()\n",
    "ol.timestamp"
   ]
  },
  {
   "cell_type": "markdown",
   "metadata": {},
   "source": [
    "## 2. Checking the PL\n",
    "There can be multiple overlay instances, but there is only one overlay that is currently loaded onto the programmable logic (PL). \n",
    "\n",
    "** It is always recommended to query the PL instance, since it is a singleton indicating the current status of the FPGA. **\n",
    "\n",
    "To check what is currently loaded on the PL:"
   ]
  },
  {
   "cell_type": "code",
   "execution_count": 4,
   "metadata": {
    "collapsed": false
   },
   "outputs": [
    {
     "data": {
      "text/plain": [
       "'/home/xpp/pynq/bitstream/pmod.bit'"
      ]
     },
     "execution_count": 4,
     "metadata": {},
     "output_type": "execute_result"
    }
   ],
   "source": [
    "from pynq import PL\n",
    "PL.bitfile_name"
   ]
  },
  {
   "cell_type": "code",
   "execution_count": 5,
   "metadata": {
    "collapsed": false
   },
   "outputs": [
    {
     "data": {
      "text/plain": [
       "'2016/5/19 18:59:41 +730983'"
      ]
     },
     "execution_count": 5,
     "metadata": {},
     "output_type": "execute_result"
    }
   ],
   "source": [
    "PL.timestamp"
   ]
  },
  {
   "cell_type": "markdown",
   "metadata": {},
   "source": [
    "Users can verify whether an overlay has been loaded. The following method checks both the `bitfile_name` and `timestamp` before returning the result."
   ]
  },
  {
   "cell_type": "code",
   "execution_count": 6,
   "metadata": {
    "collapsed": false
   },
   "outputs": [
    {
     "data": {
      "text/plain": [
       "True"
      ]
     },
     "execution_count": 6,
     "metadata": {},
     "output_type": "execute_result"
    }
   ],
   "source": [
    "ol.is_loaded()"
   ]
  },
  {
   "cell_type": "markdown",
   "metadata": {},
   "source": [
    "## 3. Overlay downloading overhead"
   ]
  },
  {
   "cell_type": "code",
   "execution_count": 7,
   "metadata": {
    "collapsed": false
   },
   "outputs": [
    {
     "data": {
      "image/png": "[encoded data removed]",
      "text/plain": [
       "<matplotlib.figure.Figure at 0x328652f0>"
      ]
     },
     "metadata": {},
     "output_type": "display_data"
    }
   ],
   "source": [
    "import time\n",
    "import matplotlib.pyplot as plt\n",
    "from pynq import Overlay\n",
    "\n",
    "ol1 = Overlay(\"pmod.bit\")\n",
    "ol2 = Overlay(\"audiovideo.bit\")\n",
    "length = 50\n",
    "log1 = []\n",
    "log2 = []\n",
    "for i in range(length):\n",
    "    start = time.time()\n",
    "    ol1.download()\n",
    "    end = time.time()\n",
    "    # Record milliseconds\n",
    "    log1.append((end-start)*1000)\n",
    "    \n",
    "for i in range(length):\n",
    "    start = time.time()\n",
    "    ol2.download()\n",
    "    end = time.time()\n",
    "    # Record milliseconds\n",
    "    log2.append((end-start)*1000)\n",
    "\n",
    "# Draw the figure\n",
    "%matplotlib inline\n",
    "plt.plot(range(length), log1, 'ro')\n",
    "plt.plot(range(length), log2, 'bx')\n",
    "plt.title('Bitstream loading time (ms)')\n",
    "plt.axis([0, length, 0, 300])\n",
    "plt.show()\n",
    "\n",
    "ol1.download()\n",
    "del ol1,ol2"
   ]
  }
 ],
 "metadata": {
  "kernelspec": {
   "display_name": "Python 3",
   "language": "python",
   "name": "python3"
  },
  "language_info": {
   "codemirror_mode": {
    "name": "ipython",
    "version": 3
   },
   "file_extension": ".py",
   "mimetype": "text/x-python",
   "name": "python",
   "nbconvert_exporter": "python",
   "pygments_lexer": "ipython3",
   "version": "3.4.3+"
  }
 },
 "nbformat": 4,
 "nbformat_minor": 0
}
