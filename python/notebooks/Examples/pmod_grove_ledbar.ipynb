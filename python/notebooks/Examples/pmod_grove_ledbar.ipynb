{
 "cells": [
  {
   "cell_type": "markdown",
   "metadata": {},
   "source": [
    "# PMOD Grove LEDbar\n",
    "#### This is just a demo for the grove LEDbar device "
   ]
  },
  {
   "cell_type": "markdown",
   "metadata": {},
   "source": [
    "### 1. Import Bitstream - Required\n",
    "Make sure the overlay is the correct one."
   ]
  },
  {
   "cell_type": "code",
   "execution_count": 1,
   "metadata": {
    "collapsed": true
   },
   "outputs": [],
   "source": [
    "from pynq import Overlay\n",
    "\n",
    "Overlay(\"pmod.bit\").download()"
   ]
  },
  {
   "cell_type": "markdown",
   "metadata": {},
   "source": [
    "### 2. Reset Device"
   ]
  },
  {
   "cell_type": "code",
   "execution_count": 2,
   "metadata": {
    "collapsed": false
   },
   "outputs": [],
   "source": [
    "from pynq.pmods import Grove_LEDbar\n",
    "\n",
    "ledbar = Grove_LEDbar(1,1)\n",
    "ledbar.reset()"
   ]
  },
  {
   "cell_type": "markdown",
   "metadata": {},
   "source": [
    "### 3. Set Individual LEDs\n",
    "Each bit in the input corresponds to an LED."
   ]
  },
  {
   "cell_type": "code",
   "execution_count": 3,
   "metadata": {
    "collapsed": false
   },
   "outputs": [],
   "source": [
    "from pynq.pmods import Grove_LEDbar\n",
    "from time import sleep\n",
    "\n",
    "ledbar = Grove_LEDbar(1,1)\n",
    "\n",
    "for i in range(0,6):\n",
    "    ledbar.write_binary(0b1100000000)\n",
    "    sleep(0.2)\n",
    "    ledbar.write_binary(0b1111000000)\n",
    "    sleep(0.2)\n",
    "    ledbar.write_binary(0b1111110000)\n",
    "    sleep(0.2)\n",
    "    ledbar.write_binary(0b1111111100)\n",
    "    sleep(0.2)\n",
    "    ledbar.write_binary(0b1111111111)\n",
    "    sleep(0.2)"
   ]
  },
  {
   "cell_type": "markdown",
   "metadata": {},
   "source": [
    "### 4. Set Individual LEDs and read current state\n",
    "The state being read is in the format of `str`."
   ]
  },
  {
   "cell_type": "code",
   "execution_count": 4,
   "metadata": {
    "collapsed": false
   },
   "outputs": [
    {
     "name": "stdout",
     "output_type": "stream",
     "text": [
      "1100000000\n",
      "1111000000\n",
      "1111110000\n",
      "1111111100\n",
      "1111111111\n"
     ]
    }
   ],
   "source": [
    "from pynq.pmods import Grove_LEDbar\n",
    "from time import sleep\n",
    "\n",
    "ledbar = Grove_LEDbar(1,1)\n",
    "\n",
    "ledbar.write_binary(0b1100000000)\n",
    "sleep(0.2)\n",
    "read_data = ledbar.read()\n",
    "print(read_data)\n",
    "ledbar.write_binary(0b1111000000)\n",
    "sleep(0.2)\n",
    "read_data = ledbar.read()\n",
    "print(read_data)\n",
    "ledbar.write_binary(0b1111110000)\n",
    "sleep(0.2)\n",
    "read_data = ledbar.read()\n",
    "print(read_data)\n",
    "ledbar.write_binary(0b1111111100)\n",
    "sleep(0.2)\n",
    "read_data = ledbar.read()\n",
    "print(read_data)\n",
    "ledbar.write_binary(0b1111111111)\n",
    "sleep(0.2)\n",
    "read_data = ledbar.read()\n",
    "print(read_data)"
   ]
  },
  {
   "cell_type": "markdown",
   "metadata": {},
   "source": [
    "### 5. Set Individual LEDs with different brightness levels\n",
    "The parameter `brightness` is a list with 10 elements, each element corresponding to the brightness of an LED."
   ]
  },
  {
   "cell_type": "code",
   "execution_count": 5,
   "metadata": {
    "collapsed": false
   },
   "outputs": [],
   "source": [
    "from pynq.pmods import Grove_LEDbar\n",
    "from time import sleep\n",
    "HIGH = 0xFF\n",
    "MED  = 0xAA\n",
    "LOW  = 0x01\n",
    "OFF  = 0X00\n",
    "\n",
    "ledbar = Grove_LEDbar(1,1)\n",
    "\n",
    "brightness = [OFF, OFF, LOW, LOW, MED, MED, MED, HIGH, HIGH, HIGH]\n",
    "ledbar.write_brightness(0b1111111111, brightness)"
   ]
  },
  {
   "cell_type": "markdown",
   "metadata": {},
   "source": [
    "### 6. Set level indication in both directions\n",
    "Both the data and the brightness are represented by levels. \n",
    "\n",
    "There are 10 LEDs, so there will be 10 levels for the input data, from 1 to 10.\n",
    "There are 3 levels for the brightness as well, from 0 to 3."
   ]
  },
  {
   "cell_type": "code",
   "execution_count": 6,
   "metadata": {
    "collapsed": false
   },
   "outputs": [],
   "source": [
    "from pynq.pmods import Grove_LEDbar\n",
    "from time import sleep\n",
    "HIGH = 3\n",
    "MED  = 2\n",
    "LOW  = 1\n",
    "OFF  = 0\n",
    "\n",
    "ledbar = Grove_LEDbar(1,1)\n",
    "\n",
    "for green_to_red in range(2):\n",
    "    for i in range(10):\n",
    "        ledbar.write_level(10,HIGH,green_to_red)\n",
    "        sleep(0.2)\n",
    "        ledbar.write_level(8,HIGH,green_to_red)\n",
    "        sleep(0.2)\n",
    "        ledbar.write_level(6,MED,green_to_red)\n",
    "        sleep(0.2)\n",
    "        ledbar.write_level(4,MED,green_to_red)\n",
    "        sleep(0.2)\n",
    "        ledbar.write_level(2,LOW,green_to_red)\n",
    "        sleep(0.2)\n",
    "        ledbar.write_level(1,LOW,green_to_red)\n",
    "        sleep(0.2)"
   ]
  },
  {
   "cell_type": "markdown",
   "metadata": {},
   "source": [
    "### 7. Simple demo that tests level setting through on-board button input\n",
    "* Button 0: to increase level\n",
    "* Button 1: to decrease level\n",
    "* Button 2: to reset\n",
    "* Button 3: to end the demo"
   ]
  },
  {
   "cell_type": "code",
   "execution_count": 7,
   "metadata": {
    "collapsed": false
   },
   "outputs": [],
   "source": [
    "from pynq.board.button import Button\n",
    "from pynq.pmods import Grove_LEDbar\n",
    "from time import sleep\n",
    "HIGH = 3\n",
    "MED  = 2\n",
    "LOW  = 1\n",
    "OFF  = 0\n",
    "level = 1\n",
    "\n",
    "btns = [Button(index) for index in range(4)] \n",
    "ledbar = Grove_LEDbar(1,1)\n",
    "while True:\n",
    "    if (btns[0].read()==1):\n",
    "        if (level < 10):\n",
    "            level += 1\n",
    "            ledbar.write_level(level,MED,1)\n",
    "        else:\n",
    "            ledbar.write_level(level,HIGH,1)\n",
    "    elif (btns[1].read()==1):\n",
    "        if (level > 1):\n",
    "            level -= 1\n",
    "            ledbar.write_level(level,MED,1)\n",
    "        else:\n",
    "            ledbar.write_level(level,LOW,1)\n",
    "    elif (btns[2].read()==1):\n",
    "        ledbar.reset()\n",
    "        level = 1\n",
    "    elif (btns[3].read()==1):\n",
    "        ledbar.write_level(10,HIGH,1)\n",
    "        break\n",
    "    sleep(0.2)"
   ]
  },
  {
   "cell_type": "code",
   "execution_count": null,
   "metadata": {
    "collapsed": true
   },
   "outputs": [],
   "source": []
  }
 ],
 "metadata": {
  "kernelspec": {
   "display_name": "Python 3",
   "language": "python",
   "name": "python3"
  },
  "language_info": {
   "codemirror_mode": {
    "name": "ipython",
    "version": 3
   },
   "file_extension": ".py",
   "mimetype": "text/x-python",
   "name": "python",
   "nbconvert_exporter": "python",
   "pygments_lexer": "ipython3",
   "version": "3.4.3+"
  }
 },
 "nbformat": 4,
 "nbformat_minor": 0
}
