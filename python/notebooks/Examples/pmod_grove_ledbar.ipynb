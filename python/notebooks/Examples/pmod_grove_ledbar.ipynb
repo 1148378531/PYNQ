{
 "cells": [
  {
   "cell_type": "markdown",
   "metadata": {},
   "source": [
    "# PMOD Grove LEDbar\n",
    "#### This is just a demo for the grove LEDbar device "
   ]
  },
  {
   "cell_type": "markdown",
   "metadata": {},
   "source": [
    "### 1. Import Bitstream - Required"
   ]
  },
  {
   "cell_type": "code",
   "execution_count": null,
   "metadata": {
    "collapsed": true
   },
   "outputs": [],
   "source": [
    "from time import sleep\n",
    "from pynq import Overlay\n",
    "\n",
    "Overlay(\"pmod.bit\").download()"
   ]
  },
  {
   "cell_type": "markdown",
   "metadata": {},
   "source": [
    "### 2. Reset Device"
   ]
  },
  {
   "cell_type": "code",
   "execution_count": null,
   "metadata": {
    "collapsed": false
   },
   "outputs": [],
   "source": [
    "from pynq.pmods import Grove_LEDbar\n",
    "from pynq.pmods import pmod_const\n",
    "from time import sleep\n",
    "\n",
    "ledbar = Grove_LEDbar(1,4)\n",
    "ledbar.reset() "
   ]
  },
  {
   "cell_type": "markdown",
   "metadata": {},
   "source": [
    "### 3. Perform Self Check"
   ]
  },
  {
   "cell_type": "code",
   "execution_count": null,
   "metadata": {
    "collapsed": false
   },
   "outputs": [],
   "source": [
    "from pynq.pmods import Grove_LEDbar\n",
    "from pynq.pmods import pmod_const\n",
    "from time import sleep\n",
    "ledbar = Grove_LEDbar(1,4)\n",
    "ledbar.self_check()\n",
    "ledbar.reset()"
   ]
  },
  {
   "cell_type": "markdown",
   "metadata": {},
   "source": [
    "### 4. Test setting Individual Leds"
   ]
  },
  {
   "cell_type": "code",
   "execution_count": null,
   "metadata": {
    "collapsed": false
   },
   "outputs": [],
   "source": [
    "from pynq.pmods import Grove_LEDbar\n",
    "from pynq.pmods import pmod_const\n",
    "from time import sleep\n",
    "ledbar = Grove_LEDbar(1,4)\n",
    "while True:\n",
    "    ledbar.set_ledbar_onehot(0xFF,0x0AA0,1)\n",
    "    sleep(0.5)\n",
    "    ledbar.set_ledbar_onehot(0xFF,0x0AAA,1)\n",
    "    sleep(0.5)\n",
    "    ledbar.set_ledbar_onehot(0xFF,0x5555,1)\n",
    "    sleep(0.5)\n",
    "    ledbar.set_ledbar_onehot(0xFF,0xFFFF,1)\n",
    "    sleep(0.5)"
   ]
  },
  {
   "cell_type": "markdown",
   "metadata": {},
   "source": [
    "### 5. Test Setting Level indication in both directions"
   ]
  },
  {
   "cell_type": "code",
   "execution_count": null,
   "metadata": {
    "collapsed": false
   },
   "outputs": [],
   "source": [
    "from pynq.pmods import Grove_LEDbar\n",
    "from pynq.pmods import pmod_const\n",
    "from time import sleep\n",
    "ledbar = Grove_LEDbar(1,4)\n",
    "ledbar.reset()\n",
    "while True:\n",
    "    ledbar.set_ledbar_level(0xFF,7,0)\n",
    "    sleep(1)\n",
    "    ledbar.set_ledbar_level(0xFF,10,1)\n",
    "    sleep(1)"
   ]
  },
  {
   "cell_type": "markdown",
   "metadata": {},
   "source": [
    "### 6. Simple demo that tests level setting through on-board button input\n",
    "#### a. Button 0 to increase level\n",
    "#### b. Button 3 to reset"
   ]
  },
  {
   "cell_type": "code",
   "execution_count": null,
   "metadata": {
    "collapsed": false
   },
   "outputs": [],
   "source": [
    "from pynq.board.button import Button\n",
    "from pynq.pmods import Grove_LEDbar\n",
    "from pynq.pmods import pmod_const\n",
    "from time import sleep\n",
    "\n",
    "btns = [Button(index) for index in range(0, 4)] \n",
    "ledbar = Grove_LEDbar(1,4)\n",
    "i = 3\n",
    "ledbar.reset()\n",
    "while True:\n",
    "    if (btns[0].read()==1):\n",
    "        ledbar.set_ledbar_level(0xFF,i,1)\n",
    "        if (i == 10):\n",
    "            i = 1\n",
    "        else :\n",
    "            i = i + 1\n",
    "    elif (btns[3].read()==1):\n",
    "        ledbar.reset()\n",
    "        i = 1"
   ]
  }
 ],
 "metadata": {
  "kernelspec": {
   "display_name": "Python 3",
   "language": "python",
   "name": "python3"
  },
  "language_info": {
   "codemirror_mode": {
    "name": "ipython",
    "version": 3
   },
   "file_extension": ".py",
   "mimetype": "text/x-python",
   "name": "python",
   "nbconvert_exporter": "python",
   "pygments_lexer": "ipython3",
   "version": "3.4.3+"
  }
 },
 "nbformat": 4,
 "nbformat_minor": 0
}
