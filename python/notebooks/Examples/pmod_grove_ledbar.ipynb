{
 "cells": [
  {
   "cell_type": "markdown",
   "metadata": {},
   "source": [
    "# PMOD Grove LEDbar\n",
    "\n",
    "In this notebook a Grove LEDBar is attached to PMod \\#1 (labelled JB on the Zybo board) using a Grove Stickit board.  The LEDBar is attached to the GR1 connection and exercised here to show its features. "
   ]
  },
  {
   "cell_type": "code",
   "execution_count": 1,
   "metadata": {
    "collapsed": true
   },
   "outputs": [],
   "source": [
    "from pynq import Overlay\n",
    "Overlay(\"pmod.bit\").download()"
   ]
  },
  {
   "cell_type": "markdown",
   "metadata": {},
   "source": [
    "### 1. Instantiate and reset LEDbar"
   ]
  },
  {
   "cell_type": "code",
   "execution_count": 2,
   "metadata": {
    "collapsed": false
   },
   "outputs": [],
   "source": [
    "from pynq.pmods import Grove_LEDbar\n",
    "\n",
    "# instantiate Grove LED Bar on PMOD #1 and on Grove Stickit GR1\n",
    "ledbar = Grove_LEDbar(1,1)\n",
    "ledbar.reset()"
   ]
  },
  {
   "cell_type": "markdown",
   "metadata": {},
   "source": [
    "### 2. Set Individual LEDs"
   ]
  },
  {
   "cell_type": "code",
   "execution_count": 3,
   "metadata": {
    "collapsed": false
   },
   "outputs": [],
   "source": [
    "from pynq.pmods import Grove_LEDbar\n",
    "from pynq.pmods import pmod_const\n",
    "from time import sleep\n",
    "\n",
    "# Light up different bars in a loop\n",
    "for i in range(2):\n",
    "    ledbar.write_leds(0b1010100000)\n",
    "    sleep(0.5)\n",
    "    ledbar.write_leds(0b0000100100)\n",
    "    sleep(0.5)\n",
    "    ledbar.write_leds(0b1010101110)\n",
    "    sleep(0.5)\n",
    "    ledbar.write_leds(0b1111111110)\n",
    "    sleep(0.5)\n",
    "    \n",
    "ledbar.reset()"
   ]
  },
  {
   "cell_type": "markdown",
   "metadata": {},
   "source": [
    "### 3. Individual LEDs with different brightness levels"
   ]
  },
  {
   "cell_type": "code",
   "execution_count": 4,
   "metadata": {
    "collapsed": false
   },
   "outputs": [],
   "source": [
    "# Brightness level 0-255\n",
    "HIGH = 0xFF\n",
    "MED  = 0xAA\n",
    "LOW  = 0x01\n",
    "OFF  = 0X00\n",
    "\n",
    "brightness = [OFF, OFF, OFF, LOW, LOW, MED, MED, HIGH, HIGH, HIGH]\n",
    "\n",
    "for repeat in range(2):\n",
    "    for i in range(10):\n",
    "        ledbar.set_brightness(0b1111111101,brightness)\n",
    "        brightness = list([brightness[9]]) + list(brightness[0:9])\n",
    "        sleep(0.5)\n",
    "        \n",
    "ledbar.reset()"
   ]
  },
  {
   "cell_type": "markdown",
   "metadata": {},
   "source": [
    "### 4. Set level indication in both directions"
   ]
  },
  {
   "cell_type": "code",
   "execution_count": 5,
   "metadata": {
    "collapsed": false
   },
   "outputs": [],
   "source": [
    "for i in range (1,10):\n",
    "    ledbar.set_level(i,3,0)\n",
    "    sleep(0.3)\n",
    "for i in range (1,10):\n",
    "    ledbar.set_level(i,3,1)\n",
    "    sleep(0.3)    \n",
    "        \n",
    "ledbar.reset()"
   ]
  },
  {
   "cell_type": "markdown",
   "metadata": {},
   "source": [
    "### 5. Level setting by using onboard Buttons\n",
    "\n",
    "a. Button 0 to increase level <br>\n",
    "b. Button 1 to decrease level <br>\n",
    "c. Button 3 to reset <br>"
   ]
  },
  {
   "cell_type": "code",
   "execution_count": 6,
   "metadata": {
    "collapsed": false
   },
   "outputs": [],
   "source": [
    "from pynq.board import Button\n",
    "\n",
    "btns = [Button(index) for index in range(0, 4)] \n",
    "i = 1\n",
    "ledbar.reset()\n",
    "\n",
    "done = False\n",
    "while not done:\n",
    "    if (btns[0].read()==1):\n",
    "        sleep(0.2)\n",
    "        ledbar.set_level(i,2,1)\n",
    "        i = min(i+1,9)\n",
    "    elif (btns[1].read()==1):\n",
    "        sleep(0.2)\n",
    "        i = max(i-2,0)\n",
    "        ledbar.set_level(i,2,1)\n",
    "    elif (btns[3].read()==1):\n",
    "        ledbar.reset()\n",
    "        done = True"
   ]
  }
 ],
 "metadata": {
  "kernelspec": {
   "display_name": "Python 3",
   "language": "python",
   "name": "python3"
  },
  "language_info": {
   "codemirror_mode": {
    "name": "ipython",
    "version": 3
   },
   "file_extension": ".py",
   "mimetype": "text/x-python",
   "name": "python",
   "nbconvert_exporter": "python",
   "pygments_lexer": "ipython3",
   "version": "3.4.3+"
  }
 },
 "nbformat": 4,
 "nbformat_minor": 0
}