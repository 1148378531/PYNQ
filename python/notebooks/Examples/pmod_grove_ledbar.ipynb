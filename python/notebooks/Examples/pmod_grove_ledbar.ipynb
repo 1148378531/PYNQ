{
 "cells": [
  {
   "cell_type": "markdown",
   "metadata": {},
   "source": [
    "# PMOD Grove LEDbar\n",
    "#### This is just a demo for the grove LEDbar device "
   ]
  },
  {
   "cell_type": "markdown",
   "metadata": {},
   "source": [
    "### 1. Import Bitstream - Required"
   ]
  },
  {
   "cell_type": "code",
   "execution_count": 1,
   "metadata": {
    "collapsed": true
   },
   "outputs": [],
   "source": [
    "from time import sleep\n",
    "from pynq import Overlay\n",
    "HIGH = 0xFF\n",
    "MED  = 0xAA\n",
    "LOW  = 0x01\n",
    "OFF  = 0X00\n",
    "\n",
    "Overlay(\"pmod.bit\").download()"
   ]
  },
  {
   "cell_type": "markdown",
   "metadata": {},
   "source": [
    "### 2. Reset Device"
   ]
  },
  {
   "cell_type": "code",
   "execution_count": 2,
   "metadata": {
    "collapsed": false
   },
   "outputs": [
    {
     "ename": "KeyboardInterrupt",
     "evalue": "",
     "output_type": "error",
     "traceback": [
      "\u001b[1;31m---------------------------------------------------------------------------\u001b[0m",
      "\u001b[1;31mKeyboardInterrupt\u001b[0m                         Traceback (most recent call last)",
      "\u001b[1;32m<ipython-input-2-213827f93912>\u001b[0m in \u001b[0;36m<module>\u001b[1;34m()\u001b[0m\n\u001b[0;32m      9\u001b[0m \u001b[0mledbar\u001b[0m \u001b[1;33m=\u001b[0m \u001b[0mGrove_LEDbar\u001b[0m\u001b[1;33m(\u001b[0m\u001b[1;36m1\u001b[0m\u001b[1;33m,\u001b[0m\u001b[1;36m1\u001b[0m\u001b[1;33m)\u001b[0m\u001b[1;33m\u001b[0m\u001b[0m\n\u001b[0;32m     10\u001b[0m \u001b[1;33m\u001b[0m\u001b[0m\n\u001b[1;32m---> 11\u001b[1;33m \u001b[0mledbar\u001b[0m\u001b[1;33m.\u001b[0m\u001b[0mreset\u001b[0m\u001b[1;33m(\u001b[0m\u001b[1;33m)\u001b[0m\u001b[1;33m\u001b[0m\u001b[0m\n\u001b[0m",
      "\u001b[1;32m/home/xpp/src/pynq/python/pynq/pmods/grove_ledbar.py\u001b[0m in \u001b[0;36mreset\u001b[1;34m(self)\u001b[0m\n\u001b[0;32m     92\u001b[0m                         pmod_const.MAILBOX_PY2IOP_CMD_OFFSET, 0x01)\n\u001b[0;32m     93\u001b[0m         while (self.mmio.read(pmod_const.MAILBOX_OFFSET+\\\n\u001b[1;32m---> 94\u001b[1;33m                                 pmod_const.MAILBOX_PY2IOP_CMD_OFFSET) == 0x1):\n\u001b[0m\u001b[0;32m     95\u001b[0m             \u001b[1;32mpass\u001b[0m\u001b[1;33m\u001b[0m\u001b[0m\n\u001b[0;32m     96\u001b[0m \u001b[1;33m\u001b[0m\u001b[0m\n",
      "\u001b[1;32m/home/xpp/src/pynq/python/pynq/mmio.py\u001b[0m in \u001b[0;36mread\u001b[1;34m(self, offset, length)\u001b[0m\n\u001b[0;32m    126\u001b[0m \u001b[1;33m\u001b[0m\u001b[0m\n\u001b[0;32m    127\u001b[0m         self._debug('Reading {0} bytes from offset {1}'\\\n\u001b[1;32m--> 128\u001b[1;33m                     .format(length, hex(offset)))\n\u001b[0m\u001b[0;32m    129\u001b[0m \u001b[1;33m\u001b[0m\u001b[0m\n\u001b[0;32m    130\u001b[0m         \u001b[1;31m#: Compensate for the base_address and seek to the aligned offset\u001b[0m\u001b[1;33m\u001b[0m\u001b[1;33m\u001b[0m\u001b[0m\n",
      "\u001b[1;31mKeyboardInterrupt\u001b[0m: "
     ]
    }
   ],
   "source": [
    "from pynq.pmods import Grove_LEDbar\n",
    "from pynq.pmods import pmod_const\n",
    "from time import sleep\n",
    "HIGH = 0xFF\n",
    "MED  = 0xAA\n",
    "LOW  = 0x01\n",
    "OFF  = 0X00\n",
    "\n",
    "ledbar = Grove_LEDbar(1,1)\n",
    "\n",
    "ledbar.reset()"
   ]
  },
  {
   "cell_type": "markdown",
   "metadata": {},
   "source": [
    "### 3. Set Individual LEDs"
   ]
  },
  {
   "cell_type": "code",
   "execution_count": null,
   "metadata": {
    "collapsed": false
   },
   "outputs": [],
   "source": [
    "from pynq.pmods import Grove_LEDbar\n",
    "from pynq.pmods import pmod_const\n",
    "from time import sleep\n",
    "\n",
    "ledbar = Grove_LEDbar(1,1)\n",
    "\n",
    "while True:\n",
    "    ledbar.write_leds(0b1010100000)\n",
    "    sleep(0.5)\n",
    "    ledbar.write_leds(0b0000100100)\n",
    "    sleep(0.5)\n",
    "    ledbar.write_leds(0b1010101110)\n",
    "    sleep(0.5)\n",
    "    ledbar.write_leds(0b1111111110)\n",
    "    sleep(0.5)"
   ]
  },
  {
   "cell_type": "markdown",
   "metadata": {},
   "source": [
    "### 4. Set Individual LEDs and read current state"
   ]
  },
  {
   "cell_type": "code",
   "execution_count": null,
   "metadata": {
    "collapsed": false
   },
   "outputs": [],
   "source": [
    "from pynq.pmods import Grove_LEDbar\n",
    "from pynq.pmods import pmod_const\n",
    "from time import sleep\n",
    "\n",
    "ledbar = Grove_LEDbar(1,1)\n",
    "\n",
    "ledbar.write_leds(0b1010100000)\n",
    "sleep(0.5)\n",
    "read_data = ledbar.read_leds()\n",
    "print(read_data)\n",
    "\n",
    "ledbar.write_leds(0b0000100100)\n",
    "sleep(0.5)\n",
    "read_data = ledbar.read_leds()\n",
    "print(read_data)\n",
    "\n",
    "ledbar.write_leds(0b1010101110)\n",
    "sleep(0.5)\n",
    "read_data = ledbar.read_leds()\n",
    "print(read_data)\n",
    "\n",
    "ledbar.write_leds(0b1111111111)\n",
    "sleep(0.5)\n",
    "read_data = ledbar.read_leds()\n",
    "print(read_data)"
   ]
  },
  {
   "cell_type": "markdown",
   "metadata": {},
   "source": [
    "### 5. Set Individual LEDs with different brightness levels"
   ]
  },
  {
   "cell_type": "code",
   "execution_count": null,
   "metadata": {
    "collapsed": false
   },
   "outputs": [],
   "source": [
    "from pynq.pmods import Grove_LEDbar\n",
    "from pynq.pmods import pmod_const\n",
    "from time import sleep\n",
    "HIGH = 0xFF\n",
    "MED  = 0xAA\n",
    "LOW  = 0x01\n",
    "OFF  = 0X00\n",
    "\n",
    "ledbar = Grove_LEDbar(1,1)\n",
    "\n",
    "brightness = [OFF, HIGH, LOW, LOW, MED, MED, MED, LOW, HIGH, HIGH]\n",
    "while True:\n",
    "    ledbar.set_brightness(0b1111111101,brightness)\n",
    "    sleep(0.5)"
   ]
  },
  {
   "cell_type": "markdown",
   "metadata": {},
   "source": [
    "### 6. Set level indication in both directions"
   ]
  },
  {
   "cell_type": "code",
   "execution_count": null,
   "metadata": {
    "collapsed": false
   },
   "outputs": [],
   "source": [
    "from pynq.pmods import Grove_LEDbar\n",
    "from pynq.pmods import pmod_const\n",
    "from time import sleep\n",
    "\n",
    "ledbar = Grove_LEDbar(1,1)\n",
    "\n",
    "ledbar.reset()\n",
    "while True:\n",
    "    ledbar.set_level(7,2,0)\n",
    "    sleep(0.5)\n",
    "    ledbar.set_level(10,3,1)\n",
    "    sleep(0.5)\n",
    "    ledbar.set_level(9,3,1)\n",
    "    sleep(0.5)\n",
    "    ledbar.set_level(8,3,1)\n",
    "    sleep(0.5)\n",
    "    ledbar.set_level(7,3,1)\n",
    "    sleep(0.5)\n",
    "    ledbar.set_level(6,3,1)\n",
    "    sleep(0.5)\n",
    "    for i in range (1,10):\n",
    "        ledbar.set_level(i,3,0)\n",
    "        sleep(0.3)\n",
    "    for i in range (1,10):\n",
    "        ledbar.set_level(i,3,1)\n",
    "        sleep(0.3)    "
   ]
  },
  {
   "cell_type": "markdown",
   "metadata": {},
   "source": [
    "### 7. Simple demo that tests level setting through on-board button input\n",
    "#### a. Button 0 to increase level\n",
    "#### b. Button 1 to decrease level\n",
    "#### c. Button 3 to reset"
   ]
  },
  {
   "cell_type": "code",
   "execution_count": null,
   "metadata": {
    "collapsed": false
   },
   "outputs": [],
   "source": [
    "from pynq.board.button import Button\n",
    "from pynq.pmods import Grove_LEDbar\n",
    "from pynq.pmods import pmod_const\n",
    "from time import sleep\n",
    "\n",
    "btns = [Button(index) for index in range(0, 4)] \n",
    "ledbar = Grove_LEDbar(1,1)\n",
    "i = 1\n",
    "ledbar.reset()\n",
    "while True:\n",
    "    if (btns[0].read()==1):\n",
    "        sleep(0.2)\n",
    "        ledbar.set_level(i,2,1)\n",
    "        read_data = ledbar.read_leds()\n",
    "        print(read_data)\n",
    "        if (i == 10):\n",
    "            i = 9\n",
    "        else :\n",
    "            i = i + 1\n",
    "    elif (btns[1].read()==1):\n",
    "        sleep(0.2)\n",
    "        i=i-2\n",
    "        if (i <= 0):\n",
    "            i = 1\n",
    "        else :\n",
    "            i = i + 1\n",
    "        ledbar.set_level(i,2,1)\n",
    "        read_data = ledbar.read_leds()\n",
    "        print(read_data)\n",
    "    elif (btns[3].read()==1):\n",
    "        ledbar.reset()\n",
    "        i = 1"
   ]
  }
 ],
 "metadata": {
  "kernelspec": {
   "display_name": "Python 3",
   "language": "python",
   "name": "python3"
  },
  "language_info": {
   "codemirror_mode": {
    "name": "ipython",
    "version": 3
   },
   "file_extension": ".py",
   "mimetype": "text/x-python",
   "name": "python",
   "nbconvert_exporter": "python",
   "pygments_lexer": "ipython3",
   "version": "3.4.3+"
  }
 },
 "nbformat": 4,
 "nbformat_minor": 0
}
