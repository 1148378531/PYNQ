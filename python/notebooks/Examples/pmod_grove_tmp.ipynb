{
 "cells": [
  {
   "cell_type": "markdown",
   "metadata": {},
   "source": [
    "# Grove Temperature Sensor 1.2\n",
    "\n",
    "In this notebook, the [Grove Temperature Sensor v1.2](http://www.seeedstudio.com/wiki/Grove_-_Temperature_Sensor_V1.2) functionality using [Grove I2C ADC](http://www.seeedstudio.com/wiki/Grove_-_I2C_ADC) is illustrated.\n",
    "\n",
    "You can read a single value of temperature or can read multiple values at a desired interval for a desired duration.\n",
    "\n",
    "Additionally, at the end of this notebook, we highlight a Python only solution with single-sample read functionality."
   ]
  },
  {
   "cell_type": "markdown",
   "metadata": {},
   "source": [
    "<tr>\n",
    "<td> <img src=http://www.xilinx.com/content/dam/xilinx/imgs/prime/ZYBO_revB-top-1000x755%20(1).jpg alt=\"Drawing\" style=\"width: 250px;\"/> </td>\n",
    "<td> <img src=http://www.xess.com/static/media/product/product_cover_1.jpg alt=\"Drawing\" style=\"width: 250px;\"/> </td>\n",
    "<td> <img src=http://www.seeedstudio.com/wiki/images/b/b0/Temperature1.jpg alt=\"Drawing\" style=\"width: 250px;\"/> </td>\n",
    "</tr>"
   ]
  },
  {
   "cell_type": "markdown",
   "metadata": {},
   "source": [
    "### 1. Load overlay."
   ]
  },
  {
   "cell_type": "code",
   "execution_count": 1,
   "metadata": {
    "collapsed": false
   },
   "outputs": [],
   "source": [
    "from pynq.pl import Overlay\n",
    "Overlay(\"pmod.bit\").download()"
   ]
  },
  {
   "cell_type": "markdown",
   "metadata": {},
   "source": [
    "### 2. Read single temperature\n",
    "This example shows on how to get a single temperature sample from the Grove TMP sensor.\n",
    "\n",
    "The Grove ADC is assumed to be attached to the GR4 connector of the StickIt. The StickIt module is assumed to be plugged in the 1st PMOD labeled JB. The Grove TMP sensor is connected to the other connector of the Grove ADC.\n",
    "\n",
    "Grove ADC provides a raw sample which is converted into resistance first and then converted into temperature."
   ]
  },
  {
   "cell_type": "code",
   "execution_count": 2,
   "metadata": {
    "collapsed": false
   },
   "outputs": [
    {
     "name": "stdout",
     "output_type": "stream",
     "text": [
      "27.19 degree Celsius\n"
     ]
    }
   ],
   "source": [
    "import math\n",
    "from pynq.pmods import Grove_TMP\n",
    "\n",
    "#: Grove Stickit is connected to PMOD 1 labeled JB\n",
    "#: Grove ADC is connected to GR 4. \n",
    "tmp = Grove_TMP(1, 4)\n",
    "temperature = tmp.read()\n",
    "print(float(\"{0:.2f}\".format(temperature)),'degree Celsius')"
   ]
  },
  {
   "cell_type": "markdown",
   "metadata": {},
   "source": [
    "### 3. Start logging once every half a second for 10 seconds\n",
    "During the execution, you can touch the temperature sensor to see the temperature profile.\n",
    "\n",
    "You can vary the logging interval and the duration by changing the values 100 and 10 to the desired values. The raw samples are stored in the internal memory, and converted into the temperature readings."
   ]
  },
  {
   "cell_type": "code",
   "execution_count": 3,
   "metadata": {
    "collapsed": false
   },
   "outputs": [
    {
     "data": {
      "image/png": "[encoded data removed]",
      "text/plain": [
       "<matplotlib.figure.Figure at 0x31ff3c70>"
      ]
     },
     "metadata": {},
     "output_type": "display_data"
    }
   ],
   "source": [
    "import time\n",
    "\n",
    "%matplotlib inline\n",
    "import matplotlib.pyplot as plt\n",
    "\n",
    "tmp.set_log_interval_ms(100)\n",
    "tmp.start_log()\n",
    "time.sleep(10) # Change input during this time\n",
    "tmp_log = tmp.get_log()\n",
    "\n",
    "plt.plot(range(len(tmp_log)), tmp_log, 'ro')\n",
    "plt.title('Grove Temperature Plot')\n",
    "min_tmp_log = min(tmp_log)\n",
    "max_tmp_log = max(tmp_log)\n",
    "plt.axis([0, len(tmp_log), min_tmp_log, max_tmp_log])\n",
    "plt.show()"
   ]
  },
  {
   "cell_type": "markdown",
   "metadata": {
    "collapsed": true
   },
   "source": [
    "### 4. A Pure Python class to exercise the AXI IIC Controller inheriting from PMOD_IIC\n",
    "This class is ported from http://www.seeedstudio.com/wiki/Grove_-_Temperature_Sensor."
   ]
  },
  {
   "cell_type": "code",
   "execution_count": 4,
   "metadata": {
    "collapsed": true
   },
   "outputs": [],
   "source": [
    "#: Python Class for Grove Temperature Sensor\n",
    "\n",
    "from time import sleep\n",
    "from math import log\n",
    "from pynq.pmods import pmod_const\n",
    "from pynq.pmods.pmod_iic import PMOD_IIC\n",
    "\n",
    "class Python_Grove_TMP(PMOD_IIC):\n",
    "    \"\"\"This class controls the grove temperature sensor.\n",
    "    \n",
    "    This class inherits from the PMODIIC class.\n",
    "    \n",
    "    Note\n",
    "    ----\n",
    "    The index of the PMOD pins:\n",
    "    upper row, from left to right: {vdd,gnd,3,2,1,0}.\n",
    "    lower row, from left to right: {vdd,gnd,7,6,5,4}.\n",
    "    \n",
    "    Attributes\n",
    "    ----------\n",
    "    iop : _IOP\n",
    "        The _IOP object returned from the DevMode.\n",
    "    scl_pin : int\n",
    "        The SCL pin number.\n",
    "    sda_pin : int\n",
    "        The SDA pin number.\n",
    "    iic_addr : int\n",
    "        The IIC device address.\n",
    "    \n",
    "    \"\"\"\n",
    "    def __init__(self, pmod_id, gr_id, model = 'v1.2'): \n",
    "        \"\"\"Return a new instance of a grove OLED object. \n",
    "    \n",
    "        Note\n",
    "        ----\n",
    "        The pmod_id 0 is reserved for XADC (JA).\n",
    "        \n",
    "        StickIt groups are numbered as:\n",
    "        gr_id    => SCL, SDA => PMOD pins \n",
    "        1        =>  D0, D1   =>  0, 4\n",
    "        2        =>  D2, D3   =>  1, 5\n",
    "        3        =>  D7, D6   =>  7, 3\n",
    "        4        =>  D5, D4   =>  6, 2\n",
    "        \n",
    "        Parameters\n",
    "        ----------\n",
    "        pmod_id : int\n",
    "            The PMOD ID (1, 2, 3, 4) corresponding to (JB, JC, JD, JE).\n",
    "        gr_id: int\n",
    "            The group ID on StickIt, from 1 to 4.\n",
    "        model : string\n",
    "            Temperature sensor model (can be found on the device).\n",
    "            \n",
    "        \"\"\"\n",
    "        if (gr_id not in [3,4]):\n",
    "            raise ValueError(\"Valid StickIt group IDs are 3 and 4.\")\n",
    "        [scl_pin,sda_pin] = pmod_const.STICKIT_PINS_GR[gr_id]\n",
    "\n",
    "        \n",
    "        #: Each of the sensor revisions use different thermistors\n",
    "        #: Each with their own B value constant\n",
    "        if model == 'v1.2':\n",
    "            self.bValue = 4250  # v1.2 uses thermistor NCP18WF104F03RC\n",
    "        elif model == 'v1.1':\n",
    "            self.bValue = 4250  # v1.1 uses thermistor NCP18WF104F03RC\n",
    "        else:\n",
    "            self.bValue = 3975  # v1.0 uses thermistor TTC3A103*39H\n",
    "        \n",
    "        super().__init__(pmod_id, scl_pin, sda_pin, 0x50)\n",
    "        \n",
    "        #: Initialize the Grove ADC         \n",
    "        self.send([0x2,0x20]);   \n",
    "        \n",
    "    def read(self):\n",
    "        \"\"\"Read temperature in Celsius from grove temperature sensor.\n",
    "        \n",
    "        Parameters\n",
    "        ----------\n",
    "        None\n",
    "        \n",
    "        Returns\n",
    "        -------\n",
    "        float\n",
    "            Temperature reading in Celsius.\n",
    "        \n",
    "        \"\"\"\n",
    "        val = self._read_grove_adc()\n",
    "        R = 4095.0/val - 1.0\n",
    "        temp = 1.0/(log(R)/self.bValue + 1/298.15)-273.15\n",
    "        return temp\n",
    "        \n",
    "    def _read_grove_adc(self):       \n",
    "       self.send([0])\n",
    "       bytes = self.receive(2)\n",
    "       return 2*(((bytes[0] & 0x0f) << 8) | bytes[1])\n"
   ]
  },
  {
   "cell_type": "code",
   "execution_count": 5,
   "metadata": {
    "collapsed": false
   },
   "outputs": [
    {
     "name": "stdout",
     "output_type": "stream",
     "text": [
      "26.94 degree Celsius\n"
     ]
    }
   ],
   "source": [
    "from pynq import PL\n",
    "\n",
    "#: Flush IOP#1 state\n",
    "PL.reset_ip_dict()\n",
    "\n",
    "py_tmp = Python_Grove_TMP(1,4)\n",
    "temperature = py_tmp.read()\n",
    "print(float(\"{0:.2f}\".format(temperature)),'degree Celsius')"
   ]
  },
  {
   "cell_type": "code",
   "execution_count": null,
   "metadata": {
    "collapsed": true
   },
   "outputs": [],
   "source": []
  }
 ],
 "metadata": {
  "kernelspec": {
   "display_name": "Python 3",
   "language": "python",
   "name": "python3"
  },
  "language_info": {
   "codemirror_mode": {
    "name": "ipython",
    "version": 3
   },
   "file_extension": ".py",
   "mimetype": "text/x-python",
   "name": "python",
   "nbconvert_exporter": "python",
   "pygments_lexer": "ipython3",
   "version": "3.4.3+"
  }
 },
 "nbformat": 4,
 "nbformat_minor": 0
}
