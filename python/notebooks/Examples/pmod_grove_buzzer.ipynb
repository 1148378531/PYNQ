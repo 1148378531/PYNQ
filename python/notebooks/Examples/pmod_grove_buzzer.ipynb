{
 "cells": [
  {
   "cell_type": "markdown",
   "metadata": {},
   "source": [
    "# Grove Buzzer v1.2\n",
    "\n",
    "In this notebook, the [Grove Buzzer v1.2](http://www.seeedstudio.com/wiki/Grove_-_Buzzer) functionality is illustrated.\n",
    "\n",
    "Grove Buzzer having piezo can be connected to digital output, and will emit a tone when the output is high. Using period during which the output is high and the duartion, a particular frequency tone can be generated for a desired duration. \n",
    "\n",
    "Connect the Grove Buzzer to GR 1 connector of the StickIt module which in turn connect to PMOD (1) labeled JB."
   ]
  },
  {
   "cell_type": "code",
   "execution_count": 1,
   "metadata": {
    "collapsed": false
   },
   "outputs": [],
   "source": [
    "%load_ext autoreload\n",
    "%autoreload 2"
   ]
  },
  {
   "cell_type": "code",
   "execution_count": 2,
   "metadata": {
    "collapsed": false
   },
   "outputs": [],
   "source": [
    "from pynq.pl import Overlay\n",
    "Overlay(\"pmod.bit\").download()"
   ]
  },
  {
   "cell_type": "markdown",
   "metadata": {},
   "source": [
    "### 1. Illustrate playing a pre-defined melody"
   ]
  },
  {
   "cell_type": "code",
   "execution_count": 3,
   "metadata": {
    "collapsed": false
   },
   "outputs": [],
   "source": [
    "from pynq.pmods.grove_buzzer import Grove_Buzzer\n",
    "\n",
    "# Grove Stickit is connected to 1st PMOD (1) labeled JB, and Grove Buzzer is connected to GR 1 (1) \n",
    "grove_buzzer = Grove_Buzzer(1, 1)\n",
    "grove_buzzer.play_melody()\n"
   ]
  },
  {
   "cell_type": "markdown",
   "metadata": {},
   "source": [
    "### 2. Generate a tone of desired period and for a desired number of times\n",
    "#### The tone_period is in microseconds and the 50% duty cycle will be generated for the given tone_period "
   ]
  },
  {
   "cell_type": "code",
   "execution_count": 4,
   "metadata": {
    "collapsed": false
   },
   "outputs": [],
   "source": [
    "from pynq.pmods.grove_buzzer import Grove_Buzzer\n",
    "\n",
    "tone_period = 1200\n",
    "num_cycles = 500\n",
    "grove_buzzer = Grove_Buzzer(1, 1)\n",
    "grove_buzzer.play_tone(tone_period,num_cycles)"
   ]
  },
  {
   "cell_type": "code",
   "execution_count": null,
   "metadata": {
    "collapsed": true
   },
   "outputs": [],
   "source": []
  }
 ],
 "metadata": {
  "kernelspec": {
   "display_name": "Python 3",
   "language": "python",
   "name": "python3"
  },
  "language_info": {
   "codemirror_mode": {
    "name": "ipython",
    "version": 3
   },
   "file_extension": ".py",
   "mimetype": "text/x-python",
   "name": "python",
   "nbconvert_exporter": "python",
   "pygments_lexer": "ipython3",
   "version": "3.4.3+"
  }
 },
 "nbformat": 4,
 "nbformat_minor": 0
}
